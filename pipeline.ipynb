{
 "cells": [
  {
   "cell_type": "markdown",
   "metadata": {},
   "source": [
    "# Overall pipeline"
   ]
  },
  {
   "cell_type": "code",
   "execution_count": 2,
   "metadata": {
    "collapsed": false
   },
   "outputs": [],
   "source": [
    "from datetime                      import datetime\n",
    "import invalid_sample_detection    as invalid\n",
    "import load_annotations            as annotate\n",
    "import regular_activity            as regular\n",
    "import specific_arrhythmias        as arrhythmia\n",
    "import numpy                       as np\n",
    "import parameters\n",
    "import wfdb\n",
    "\n",
    "data_path = 'sample_data/challenge_training_data/'\n",
    "ann_path = 'sample_data/challenge_training_multiann/'\n",
    "ecg_ann_type = 'gqrs'"
   ]
  },
  {
   "cell_type": "code",
   "execution_count": 4,
   "metadata": {
    "collapsed": false,
    "scrolled": true
   },
   "outputs": [
    {
     "name": "stdout",
     "output_type": "stream",
     "text": [
      "True\n",
      "0:00:03.389684\n",
      "True\n"
     ]
    }
   ],
   "source": [
    "# Returns true if alarm is classified as a true alarm\n",
    "def is_classified_true_alarm(data_path, ann_path, sample_name, ecg_ann_type): \n",
    "    sig, fields = wfdb.rdsamp(data_path + sample_name)\n",
    "    alarm_type, is_true_alarm = regular.check_gold_standard_classification(fields)\n",
    "\n",
    "    is_regular = regular.is_sample_regular(data_path, ann_path, sample_name, ecg_ann_type, should_check_nan=False)    \n",
    "    if is_regular: \n",
    "        return False\n",
    "    \n",
    "    if alarm_type == \"Asystole\": \n",
    "        arrhythmia_test = arrhythmia.test_asystole\n",
    "    elif alarm_type == \"Bradycardia\": \n",
    "        arrhythmia_test = arrhythmia.test_bradycardia\n",
    "    elif alarm_type == \"Tachycardia\": \n",
    "        arrhythmia_test = arrhythmia.test_tachycardia\n",
    "    elif alarm_type == \"Ventricular_Tachycardia\": \n",
    "        arrhythmia_test = arrhythmia.test_ventricular_tachycardia\n",
    "    elif alarm_type == \"Ventricular_Flutter_Fib\": \n",
    "        arrhythmia_test = arrhythmia.test_ventricular_flutter_fibrillation\n",
    "    else: \n",
    "        raise Exception(\"Unknown arrhythmia alarm type\")\n",
    "        \n",
    "    return arrhythmia_test(data_path, ann_path, sample_name, ecg_ann_type)\n",
    "\n",
    "sample_name = \"f697l\"\n",
    "print is_classified_true_alarm(data_path, ann_path, sample_name, ecg_ann_type)"
   ]
  },
  {
   "cell_type": "code",
   "execution_count": null,
   "metadata": {
    "collapsed": true
   },
   "outputs": [],
   "source": []
  }
 ],
 "metadata": {
  "kernelspec": {
   "display_name": "Python [Root]",
   "language": "python",
   "name": "Python [Root]"
  },
  "language_info": {
   "codemirror_mode": {
    "name": "ipython",
    "version": 2
   },
   "file_extension": ".py",
   "mimetype": "text/x-python",
   "name": "python",
   "nbconvert_exporter": "python",
   "pygments_lexer": "ipython2",
   "version": "2.7.12"
  }
 },
 "nbformat": 4,
 "nbformat_minor": 0
}
