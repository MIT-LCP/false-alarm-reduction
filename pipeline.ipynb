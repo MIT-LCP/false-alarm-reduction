{
 "cells": [
  {
   "cell_type": "markdown",
   "metadata": {},
   "source": [
    "# Overall pipeline"
   ]
  },
  {
   "cell_type": "code",
   "execution_count": 2,
   "metadata": {
    "collapsed": false
   },
   "outputs": [],
   "source": [
    "from datetime                      import datetime\n",
    "import invalid_sample_detection    as invalid\n",
    "import evaluation                  as evaluate\n",
    "import load_annotations            as annotate\n",
    "import regular_activity            as regular\n",
    "import specific_arrhythmias        as arrhythmia\n",
    "import numpy                       as np\n",
    "import parameters\n",
    "import os\n",
    "import wfdb\n",
    "\n",
    "data_path = 'sample_data/challenge_training_data/'\n",
    "ann_path = 'sample_data/challenge_training_multiann/'\n",
    "ecg_ann_type = 'gqrs'"
   ]
  },
  {
   "cell_type": "code",
   "execution_count": 3,
   "metadata": {
    "collapsed": false,
    "scrolled": true
   },
   "outputs": [],
   "source": [
    "# Returns true if alarm is classified as a true alarm\n",
    "def is_classified_true_alarm(data_path, ann_path, sample_name, ecg_ann_type): \n",
    "    sig, fields = wfdb.rdsamp(data_path + sample_name)\n",
    "    alarm_type, is_true_alarm = regular.check_gold_standard_classification(fields)\n",
    "\n",
    "    is_regular = regular.is_sample_regular(data_path, ann_path, sample_name, ecg_ann_type, should_check_nan=False)    \n",
    "    if is_regular: \n",
    "        return is_true_alarm, False\n",
    "    \n",
    "    if alarm_type == \"Asystole\": \n",
    "        arrhythmia_test = arrhythmia.test_asystole\n",
    "    elif alarm_type == \"Bradycardia\": \n",
    "        arrhythmia_test = arrhythmia.test_bradycardia\n",
    "    elif alarm_type == \"Tachycardia\": \n",
    "        arrhythmia_test = arrhythmia.test_tachycardia\n",
    "    elif alarm_type == \"Ventricular_Tachycardia\": \n",
    "        arrhythmia_test = arrhythmia.test_ventricular_tachycardia\n",
    "    elif alarm_type == \"Ventricular_Flutter_Fib\": \n",
    "        arrhythmia_test = arrhythmia.test_ventricular_flutter_fibrillation\n",
    "    else: \n",
    "        raise Exception(\"Unknown arrhythmia alarm type\")\n",
    "    \n",
    "    classified_true_alarm = arrhythmia_test(data_path, ann_path, sample_name, ecg_ann_type)\n",
    "    return is_true_alarm, classified_true_alarm"
   ]
  },
  {
   "cell_type": "code",
   "execution_count": 4,
   "metadata": {
    "collapsed": true
   },
   "outputs": [],
   "source": [
    "# Generate confusion matrix for all samples given sample name/directory\n",
    "def generate_confusion_matrix_dir(data_path, ann_path, ecg_ann_type): \n",
    "    confusion_matrix = {\n",
    "        \"TP\": [],\n",
    "        \"FP\": [],\n",
    "        \"FN\": [],\n",
    "        \"TN\": []\n",
    "    }\n",
    "    \n",
    "    for filename in os.listdir(data_path):\n",
    "        if filename.endswith(parameters.HEADER_EXTENSION):\n",
    "            sample_name = filename.rstrip(parameters.HEADER_EXTENSION)\n",
    "            \n",
    "            is_true_alarm, classified_true_alarm = is_classified_true_alarm(data_path, ann_path,\n",
    "                                                                            sample_name, ecg_ann_type)\n",
    "\n",
    "            if is_true_alarm and classified_true_alarm: \n",
    "                confusion_matrix[\"TP\"].append(sample_name)\n",
    "                \n",
    "            elif is_true_alarm and not classified_true_alarm: \n",
    "                confusion_matrix[\"FN\"].append(sample_name)\n",
    "                print \"FALSE NEGATIVE: \", filename\n",
    "                \n",
    "            elif not is_true_alarm and classified_true_alarm: \n",
    "                confusion_matrix[\"FP\"].append(sample_name)\n",
    "                \n",
    "            else: \n",
    "                confusion_matrix[\"TN\"].append(sample_name)\n",
    "                \n",
    "    counts = { key : len(confusion_matrix[key]) for key in confusion_matrix.keys() }\n",
    "                \n",
    "    return counts, confusion_matrix"
   ]
  },
  {
   "cell_type": "code",
   "execution_count": null,
   "metadata": {
    "collapsed": false,
    "scrolled": true
   },
   "outputs": [
    {
     "name": "stderr",
     "output_type": "stream",
     "text": [
      "/home/liandrea/anaconda2/lib/python2.7/site-packages/wfdb/_rdann.py:43: VisibleDeprecationWarning: using a non-integer number instead of an integer will result in an error in the future\n",
      "  filebytes[bpi + 2,0] + 256 * filebytes[bpi + 2,1]  # 4 bytes storing dt\n",
      "/home/liandrea/anaconda2/lib/python2.7/site-packages/wfdb/_rdann.py:46: VisibleDeprecationWarning: using a non-integer number instead of an integer will result in an error in the future\n",
      "  anntype[ai] = filebytes[bpi + 3, 1] >> 2\n",
      "specific_arrhythmias.py:68: VisibleDeprecationWarning: using a non-integer number instead of an integer will result in an error in the future\n",
      "  subsig = sig[current_start*fs:current_end*fs,:]\n",
      "specific_arrhythmias.py:559: VisibleDeprecationWarning: using a non-integer number instead of an integer will result in an error in the future\n",
      "  alarm_sig = sig[start*fs:end*fs,:]\n",
      "specific_arrhythmias.py:566: VisibleDeprecationWarning: using a non-integer number instead of an integer will result in an error in the future\n",
      "  channel_dlfmax = calculate_dlfmax(alarm_sig[:,channel_index])\n",
      "specific_arrhythmias.py:580: VisibleDeprecationWarning: using a non-integer number instead of an integer will result in an error in the future\n",
      "  dominant_freqs = get_dominant_freq_array(alarm_sig[:,channel_index])\n",
      "specific_arrhythmias.py:491: VisibleDeprecationWarning: using a non-integer number instead of an integer will result in an error in the future\n",
      "  channel_subsig = channel_sig[start:end]\n",
      "invalid_sample_detection.py:341: VisibleDeprecationWarning: using a non-integer number instead of an integer will result in an error in the future\n",
      "  return (xf, 2.0/N * np.abs(signal_fft[:N/2]))\n",
      "specific_arrhythmias.py:518: VisibleDeprecationWarning: using a non-integer number instead of an integer will result in an error in the future\n",
      "  subsig = sig[start:end]\n",
      "/home/liandrea/anaconda2/lib/python2.7/site-packages/numpy/lib/function_base.py:3834: RuntimeWarning: Invalid value encountered in percentile\n",
      "  RuntimeWarning)\n",
      "specific_arrhythmias.py:576: VisibleDeprecationWarning: using a non-integer number instead of an integer will result in an error in the future\n",
      "  r_delta = get_abp_std_scores(alarm_sig[:,channel_index], alarm_duration)\n",
      "specific_arrhythmias.py:466: VisibleDeprecationWarning: using a non-integer number instead of an integer will result in an error in the future\n",
      "  channel_subsig = channel_sig[start:end]\n"
     ]
    },
    {
     "name": "stdout",
     "output_type": "stream",
     "text": [
      "FALSE NEGATIVE:  v783l.hea\n",
      "No annotations in specified sample range\n",
      "No annotations in specified sample range\n",
      "No annotations in specified sample range\n",
      "No annotations in specified sample range\n",
      "No annotations in specified sample range\n",
      "No annotations in specified sample range\n",
      "No annotations in specified sample range\n",
      "No annotations in specified sample range\n",
      "No annotations in specified sample range\n",
      "No annotations in specified sample range\n",
      "No annotations in specified sample range\n",
      "No annotations in specified sample range\n",
      "No annotations in specified sample range\n",
      "No annotations in specified sample range\n",
      "No annotations in specified sample range\n",
      "No annotations in specified sample range\n",
      "No annotations in specified sample range\n",
      "No annotations in specified sample range\n",
      "No annotations in specified sample range\n",
      "No annotations in specified sample range\n",
      "No annotations in specified sample range\n",
      "No annotations in specified sample range\n",
      "No annotations in specified sample range\n",
      "FALSE NEGATIVE:  v206s.hea\n"
     ]
    }
   ],
   "source": [
    "if __name__ == '__main__': \n",
    "    start = datetime.now() \n",
    "    counts, confusion_matrix = generate_confusion_matrix_dir(data_path, ann_path, ecg_ann_type)\n",
    "    print \"total time: \", datetime.now() - start\n",
    "    \n",
    "    print \"counts: \", counts\n",
    "    evaluate.print_stats(counts)    "
   ]
  }
 ],
 "metadata": {
  "kernelspec": {
   "display_name": "Python [Root]",
   "language": "python",
   "name": "Python [Root]"
  },
  "language_info": {
   "codemirror_mode": {
    "name": "ipython",
    "version": 2
   },
   "file_extension": ".py",
   "mimetype": "text/x-python",
   "name": "python",
   "nbconvert_exporter": "python",
   "pygments_lexer": "ipython2",
   "version": "2.7.12"
  }
 },
 "nbformat": 4,
 "nbformat_minor": 0
}
