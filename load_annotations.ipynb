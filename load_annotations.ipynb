{
 "cells": [
  {
   "cell_type": "markdown",
   "metadata": {},
   "source": [
    "# QRS detection"
   ]
  },
  {
   "cell_type": "code",
   "execution_count": 16,
   "metadata": {
    "collapsed": false
   },
   "outputs": [],
   "source": [
    "import invalid_sample_detection   as invalid\n",
    "import matplotlib.pyplot          as plt\n",
    "import numpy                      as np\n",
    "import parameters\n",
    "import wfdb\n",
    "import socket\n",
    "\n",
    "%matplotlib inline\n",
    "\n",
    "# determine the paths for data/annotations based off the computer name\n",
    "hostname=socket.gethostname()\n",
    "\n",
    "if hostname=='alistair-pc70':\n",
    "    data_path = '/data/challenge-2015/data/'\n",
    "    ann_path = '/data/challenge-2015/ann/'\n",
    "else:\n",
    "    data_path = 'sample_data/challenge_training_data/'\n",
    "    ann_path = 'sample_data/challenge_training_multiann/'\n",
    "    fp_ann_path = 'sample_data/fplesinger_data/output/'"
   ]
  },
  {
   "cell_type": "markdown",
   "metadata": {},
   "source": [
    "## Helper methods"
   ]
  },
  {
   "cell_type": "code",
   "execution_count": 24,
   "metadata": {
    "collapsed": true
   },
   "outputs": [],
   "source": [
    "# Get annotation file type based on channel type and index\n",
    "def get_ann_type(channel, channel_index, ecg_ann_type): \n",
    "    channel_type = invalid.get_channel_type(channel)\n",
    "    if channel_type == \"Resp\": \n",
    "        return \"\"\n",
    "    \n",
    "    if ecg_ann_type == \"fp\": \n",
    "        return ann_type_fplesinger(channel_index)\n",
    "    \n",
    "    else: \n",
    "        return ann_type_qrs(channel_type, channel_index, ecg_ann_type)\n",
    "    \n",
    "    \n",
    "# Get annotation file type for fplesinger ann files\n",
    "def ann_type_fplesinger(channel_index): \n",
    "    return \"fp\" + str(channel_index)\n",
    "    \n",
    "    \n",
    "# Get annotation file type for non-fplesinger ann files\n",
    "def ann_type_qrs(channel_type, channel_index, ecg_ann_type): \n",
    "    if channel_type == \"ECG\": \n",
    "        ann_type = ecg_ann_type + str(channel_index)\n",
    "    elif channel_type == \"BP\": \n",
    "        ann_type = 'wabp'\n",
    "    elif channel_type == \"PLETH\": \n",
    "        ann_type = \"wpleth\"\n",
    "    elif channel_type == \"Resp\": \n",
    "        ann_type = \"\"\n",
    "    else: \n",
    "        raise Exception(\"Unrecognized ann type\")\n",
    "    \n",
    "    return ann_type"
   ]
  },
  {
   "cell_type": "code",
   "execution_count": 4,
   "metadata": {
    "collapsed": true
   },
   "outputs": [],
   "source": [
    "# # Start and end in seconds\n",
    "# def get_annotation_annfs(sample, ann_type, start, end, channel_type): \n",
    "#     # Check annotation fs with guess of smaller val (DEFAULT_OTHER_FS) to prevent checking out of range data\n",
    "#     ann_fs = parameters.DEFAULT_OTHER_FS\n",
    "\n",
    "#     # Find annotation fs from wfdb.rdann\n",
    "#     annotation = wfdb.rdann(sample, ann_type, sampfrom=start*ann_fs, sampto=end*ann_fs)\n",
    "\n",
    "#     # If rdann's provided ann_fs is valid, use that annotation fs\n",
    "#     if annotation[-1] is not None and annotation[-1] != 0 and isinstance(annotation[-1], (int, float)):  \n",
    "#         ann_fs = annotation[-1]\n",
    "\n",
    "#     # Otherwise, use default annotation fs and print warning if the annotation is not empty\n",
    "#     elif len(annotation[0]) > 0: \n",
    "#         if channel_type == \"ECG\" or ann_type.startswith(\"fp\"): \n",
    "#             ann_fs = parameters.DEFAULT_ECG_FS\n",
    "#         else: \n",
    "#             print \"Annotation fs defaulted to \", parameters.DEFAULT_OTHER_FS, \" for \", sample, ann_type\n",
    "\n",
    "#     # Get proper range of annotation based on annotation fs, only run if different ann_fs from before \n",
    "#     if ann_fs != parameters.DEFAULT_OTHER_FS: \n",
    "#         annotation = wfdb.rdann(sample, ann_type, sampfrom=start*ann_fs, sampto=end*ann_fs)\n",
    "                        \n",
    "#     return annotation, ann_fs"
   ]
  },
  {
   "cell_type": "code",
   "execution_count": 28,
   "metadata": {
    "collapsed": true
   },
   "outputs": [],
   "source": [
    "# Start and end in seconds\n",
    "def get_annotation_annfs(sample, ann_type, start, end, channel_type): \n",
    "    if channel_type == \"ECG\" or ann_type.startswith(\"fp\"): \n",
    "        ann_fs = parameters.DEFAULT_ECG_FS\n",
    "    else: \n",
    "        ann_fs = parameters.DEFAULT_OTHER_FS\n",
    "\n",
    "    # Find annotation fs from wfdb.rdann\n",
    "    annotation = wfdb.rdann(sample, ann_type, sampfrom=start*ann_fs, sampto=end*ann_fs)\n",
    "\n",
    "    # If rdann's provided ann_fs is valid, use that annotation fs\n",
    "    if annotation[-1] is not None and annotation[-1] != 0 and isinstance(annotation[-1], (int, float)):  \n",
    "        fs = annotation[-1]\n",
    "    else: \n",
    "        fs = ann_fs\n",
    "        \n",
    "    # Get proper range of annotation based on annotation fs, only run if different ann_fs from before \n",
    "    if fs != ann_fs: \n",
    "        ann_fs = fs\n",
    "        annotation = wfdb.rdann(sample, ann_type, sampfrom=start*ann_fs, sampto=end*ann_fs)\n",
    "                        \n",
    "    return annotation, ann_fs"
   ]
  },
  {
   "cell_type": "code",
   "execution_count": 5,
   "metadata": {
    "collapsed": true
   },
   "outputs": [],
   "source": [
    "def get_ann_fs(channel_type, ecg_ann_type): \n",
    "    if channel_type == \"ECG\" or ecg_ann_type.startswith(\"fp\"): \n",
    "        return parameters.DEFAULT_ECG_FS\n",
    "    return parameters.DEFAULT_OTHER_FS"
   ]
  },
  {
   "cell_type": "code",
   "execution_count": 6,
   "metadata": {
    "collapsed": false
   },
   "outputs": [],
   "source": [
    "# start and end in seconds\n",
    "def get_annotation(sample, get, ann_fs, start, end): \n",
    "    try: \n",
    "        annotation = wfdb.rdann(sample, ann_type, sampfrom=start*ann_fs, sampto=end*ann_fs)\n",
    "    except Exception as e: \n",
    "        annotation = []\n",
    "        print e\n",
    "    \n",
    "    return annotation"
   ]
  },
  {
   "cell_type": "markdown",
   "metadata": {},
   "source": [
    "## Calculating RR intervals"
   ]
  },
  {
   "cell_type": "code",
   "execution_count": 7,
   "metadata": {
    "collapsed": false
   },
   "outputs": [],
   "source": [
    "# # Calculate RR intervals in the sample, where start and end in seconds\n",
    "# def calculate_rr_intervals(sample, ann_type, start, end, channel_type): \n",
    "#     annotation, ann_fs = get_annotation_annfs(sample, ann_type, start, end, channel_type)\n",
    "    \n",
    "#     # Convert annotations sample numbers into seconds if >0 annotations in signal\n",
    "#     if len(annotation[0]) > 0: \n",
    "#         ann_seconds = annotation[0] / float(ann_fs)\n",
    "#     else: \n",
    "#         return np.array([0.0])\n",
    "    \n",
    "#     rr_intervals = np.array([])\n",
    "#     for index in range(1, np.size(ann_seconds)):\n",
    "#         rr_intervals = np.append(rr_intervals, round(ann_seconds[index] - ann_seconds[index - 1], 4))\n",
    "\n",
    "#     return rr_intervals\n",
    "\n",
    "# sample_name = \"b220s\"\n",
    "# start, end = 284, 300\n",
    "# rr_intervals = calculate_rr_intervals(ann_path + sample_name, 'jqrs1', start, end, \"V\")\n",
    "# if len(rr_intervals) > 0: \n",
    "#     print \"average: \", sum(rr_intervals) / len(rr_intervals)\n",
    "# print \"rr_intervals\", rr_intervals"
   ]
  },
  {
   "cell_type": "code",
   "execution_count": 29,
   "metadata": {
    "collapsed": false
   },
   "outputs": [
    {
     "name": "stdout",
     "output_type": "stream",
     "text": [
      "[ 0.472  2.368  1.896  0.476  0.46   0.484  0.476  0.944  0.476  0.944\n",
      "  0.952  0.476  0.472  0.948  0.472  0.484]\n"
     ]
    }
   ],
   "source": [
    "def get_channel_rr_intervals(ann_path, sample_name, channel_index, fields, ecg_ann_type, start=None, end=None):\n",
    "    if start is None or end is None: \n",
    "        # Start and end given in seconds\n",
    "        start, end, alarm_duration = invalid.get_start_and_end(fields)\n",
    "\n",
    "    channels = fields['signame']\n",
    "    channel = channels[channel_index]\n",
    "    channel_type = invalid.get_channel_type(channel)\n",
    "    channel_rr_intervals = np.array([])\n",
    "\n",
    "    ann_type = get_ann_type(channel, channel_index, ecg_ann_type)\n",
    "    try: \n",
    "        annotation, ann_fs = get_annotation_annfs(ann_path + sample_name, ann_type, start, end, channel_type)\n",
    "\n",
    "        # Convert annotations sample numbers into seconds if >0 annotations in signal\n",
    "        if len(annotation[0]) > 0: \n",
    "            ann_seconds = np.array(annotation[0]) / float(ann_fs)\n",
    "        else: \n",
    "            return np.array([0.0])\n",
    "\n",
    "        for index in range(1, np.size(ann_seconds)):\n",
    "            channel_rr_intervals = np.append(channel_rr_intervals, round(ann_seconds[index] - ann_seconds[index - 1], 4))\n",
    "\n",
    "    except Exception as e: \n",
    "        print e\n",
    "\n",
    "    return channel_rr_intervals\n",
    "\n",
    "sample_name = \"a103l\"\n",
    "sig, fields = wfdb.rdsamp(data_path + sample_name)\n",
    "ecg_ann_type = \"fp\"\n",
    "channel_index = 2\n",
    "print get_channel_rr_intervals(fp_ann_path, sample_name, channel_index, fields, ecg_ann_type)"
   ]
  },
  {
   "cell_type": "code",
   "execution_count": 9,
   "metadata": {
    "collapsed": true
   },
   "outputs": [],
   "source": [
    "# Start and end given in seconds\n",
    "def get_rr_dict(ann_path, sample_name, fields, ecg_ann_type, start=None, end=None): \n",
    "    rr_dict = {}\n",
    "    if start is None or end is None: \n",
    "        # Start and end given in seconds\n",
    "        start, end, alarm_duration = invalid.get_start_and_end(fields)    \n",
    "    \n",
    "    channels = fields['signame']\n",
    "    for channel_index in range(len(channels)): \n",
    "        channel_name = channels[channel_index]\n",
    "        channel_type = invalid.get_channel_type(channel_name)\n",
    "        if channel_type == \"Resp\": \n",
    "            continue\n",
    "        \n",
    "        rr_intervals = get_channel_rr_intervals(ann_path, sample_name, channel_index, fields, ecg_ann_type, start, end)\n",
    "        \n",
    "        rr_dict[channel_name] = rr_intervals\n",
    "    \n",
    "    return rr_dict"
   ]
  },
  {
   "cell_type": "markdown",
   "metadata": {},
   "source": [
    "## Plotting"
   ]
  },
  {
   "cell_type": "code",
   "execution_count": 10,
   "metadata": {
    "collapsed": false
   },
   "outputs": [],
   "source": [
    "# Plot signal together with annotation types on the channel for data ranging from start to end\n",
    "def plot_annotations(data_path, ann_path, sample_name, channel_index, start, end, ecg_ann_type, data_fs, loc=1): \n",
    "    sig, fields = wfdb.rdsamp(data_path + sample_name)\n",
    "    channel_name = fields['signame'][channel_index]\n",
    "    ann_type = get_ann_type(channel_name, channel_index, ecg_ann_type)\n",
    "    channel_type = invalid.get_channel_type(channel_name)\n",
    "    time_vector = np.linspace(start, end, (end-start) * data_fs)\n",
    "        \n",
    "    # Plot the time series of the signal\n",
    "    plt.figure(figsize=[8,5])\n",
    "    plt.plot(time_vector, sig[int(start * data_fs):int(end * data_fs), channel_index], '-',\n",
    "             color=parameters.COLORS[0], linewidth=2, \n",
    "             label=fields['signame'][channel_index])\n",
    "    \n",
    "    # Plot each annotation type\n",
    "    annotation, ann_fs = get_annotation_annfs(ann_path + sample_name, ann_type, start, end, channel_type)\n",
    "    if len(annotation[0]) == 0: \n",
    "        plt.show()\n",
    "        return\n",
    "\n",
    "    annotation_seconds = annotation[0] / float(ann_fs)\n",
    "    annotation_y = [ sig[int(ann_time * data_fs), channel_index] for ann_time in annotation_seconds ]\n",
    "    plt.plot(annotation_seconds, annotation_y,\n",
    "         color=parameters.COLORS[1],\n",
    "         linestyle='none', linewidth=3,\n",
    "         marker=parameters.MARKER_TYPES[0], markersize=9,\n",
    "         label=ann_type)\n",
    "        \n",
    "    plt.xlabel('Time (seconds)',fontsize=12)\n",
    "    plt.legend(fontsize=12, loc=loc)\n",
    "    plt.grid()\n",
    "    plt.show()"
   ]
  },
  {
   "cell_type": "code",
   "execution_count": 18,
   "metadata": {
    "collapsed": false
   },
   "outputs": [
    {
     "name": "stdout",
     "output_type": "stream",
     "text": [
      "No annotations in specified sample range\n"
     ]
    },
    {
     "data": {
      "image/png": "[encoded data removed]",
      "text/plain": [
       "<matplotlib.figure.Figure at 0x7f3b32b12c90>"
      ]
     },
     "metadata": {},
     "output_type": "display_data"
    }
   ],
   "source": [
    "data_fs = 250\n",
    "sample_name = 'a103l'\n",
    "start = 286\n",
    "end = 300\n",
    "ecg_ann_type = \"fp\"\n",
    "\n",
    "# choose the lead to plot (annotations are generated off the first lead)\n",
    "channel_index = 1\n",
    "\n",
    "plot_annotations(data_path, fp_ann_path, sample_name, channel_index, start, end, ecg_ann_type, data_fs, loc=4)"
   ]
  },
  {
   "cell_type": "code",
   "execution_count": null,
   "metadata": {
    "collapsed": true
   },
   "outputs": [],
   "source": []
  }
 ],
 "metadata": {
  "anaconda-cloud": {},
  "kernelspec": {
   "display_name": "Python [Root]",
   "language": "python",
   "name": "Python [Root]"
  },
  "language_info": {
   "codemirror_mode": {
    "name": "ipython",
    "version": 2
   },
   "file_extension": ".py",
   "mimetype": "text/x-python",
   "name": "python",
   "nbconvert_exporter": "python",
   "pygments_lexer": "ipython2",
   "version": "2.7.12"
  }
 },
 "nbformat": 4,
 "nbformat_minor": 0
}
