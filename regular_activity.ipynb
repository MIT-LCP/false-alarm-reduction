{
 "cells": [
  {
   "cell_type": "markdown",
   "metadata": {},
   "source": [
    "# Regular activity test"
   ]
  },
  {
   "cell_type": "raw",
   "metadata": {},
   "source": [
    "Questions: \n",
    "1) Annotations are only generated based on the first lead. What happens when the first lead is noisy/invalid and the other channels aren't but still don't get annotated properly? \n",
    "2) Annotations for when the alarm was triggered? --> do regular activity test on blocks of 10s or on the 10s when the alarm was triggered? \n",
    "\n",
    "b695l: all channels without regular activity except ppg which isn't being properly annotated (70000-72500)"
   ]
  },
  {
   "cell_type": "code",
   "execution_count": 2,
   "metadata": {
    "collapsed": false,
    "scrolled": true
   },
   "outputs": [],
   "source": [
    "import invalid_sample_detection    as invalid\n",
    "import load_annotations            as annotate\n",
    "import matplotlib.pyplot           as plt\n",
    "import numpy                       as np\n",
    "import parameters\n",
    "import wfdb\n",
    "import math\n",
    "\n",
    "%matplotlib inline\n",
    "%config IPCompleter.greedy=True"
   ]
  },
  {
   "cell_type": "markdown",
   "metadata": {},
   "source": [
    "## RR intervals tests"
   ]
  },
  {
   "cell_type": "code",
   "execution_count": 3,
   "metadata": {
    "collapsed": true
   },
   "outputs": [],
   "source": [
    "def check_rr_stdev(rr_intervals): \n",
    "    numpy_rr_intervals = np.array(rr_intervals)\n",
    "    stdev = np.std(numpy_rr_intervals)\n",
    "    if stdev > parameters.RR_STDEV: \n",
    "        return False\n",
    "    return True\n",
    "\n",
    "def check_heart_rate(rr_intervals, start, end): \n",
    "    start_time = float(start) / parameters.FS\n",
    "    end_time = float(end) / parameters.FS\n",
    "    time_length = end_time - start_time\n",
    "    hr = len(rr_intervals) / time_length\n",
    "    \n",
    "    if hr > parameters.HR_MAX or hr < parameters.HR_MIN: \n",
    "        return False\n",
    "    return True\n",
    "\n",
    "def check_sum_rr_intervals(rr_intervals, start, end): \n",
    "    start_time = float(start) / parameters.FS\n",
    "    end_time = float(end) / parameters.FS\n",
    "    min_sum = (end_time - start_time) - parameters.RR_MIN_SUM_DIFF\n",
    "    \n",
    "    rr_sum = sum(rr_intervals)\n",
    "    if rr_sum < min_sum: \n",
    "        return False\n",
    "    return True    \n",
    "\n",
    "def check_num_rr_intervals(rr_intervals): \n",
    "    if len(rr_intervals) < parameters.MIN_NUM_RR_INTERVALS: \n",
    "        return False\n",
    "    return True    "
   ]
  },
  {
   "cell_type": "markdown",
   "metadata": {},
   "source": [
    "## Invalids tests"
   ]
  },
  {
   "cell_type": "code",
   "execution_count": 7,
   "metadata": {
    "collapsed": true
   },
   "outputs": [],
   "source": [
    "def check_invalids(invalids): \n",
    "    block_invalids_sum = sum(invalids)\n",
    "    \n",
    "#     start_block = int(float(start) / parameters.FS * parameters.BLOCK_LENGTH)\n",
    "#     end_block = int(math.ceil(float(end) / parameters.FS * parameters.BLOCK_LENGTH))\n",
    "    \n",
    "#     block_invalids_sum = 0\n",
    "#     for block_index in range(start_block, end_block + 1): \n",
    "#         if block_index >= len(invalids): \n",
    "#             raise Exception(\"Block_index \" + str(block_index) + \" and len(invalids) \" + str(len(invalids)))\n",
    "            \n",
    "#         block_invalids_sum += invalids[block_index]\n",
    "    \n",
    "    if block_invalids_sum > 0: \n",
    "        return False\n",
    "    return True"
   ]
  },
  {
   "cell_type": "markdown",
   "metadata": {},
   "source": [
    "## Putting it all together"
   ]
  },
  {
   "cell_type": "code",
   "execution_count": 9,
   "metadata": {
    "collapsed": true
   },
   "outputs": [],
   "source": [
    "def check_interval_regular_activity(rr_intervals, invalids, start, end, channel): \n",
    "    stdev_check = check_rr_stdev(rr_intervals)\n",
    "    hr_check = check_heart_rate(rr_intervals, start, end)\n",
    "    sum_check = check_sum_rr_intervals(rr_intervals, start, end)\n",
    "    num_check = check_num_rr_intervals(rr_intervals)\n",
    "    invalids_check = check_invalids(invalids)\n",
    "    \n",
    "    return stdev_check and hr_check and sum_check and num_check and invalids_check\n",
    "\n",
    "def check_channel_regular_activity(data_path, ann_path, sample_name, ann_type, start, end): \n",
    "    sig, fields = wfdb.rdsamp(data_path + sample_name)\n",
    "    channels = fields['signame']\n",
    "    num_channels = len(channels)\n",
    "    invalids = invalid.calculate_invalids_standard(data_path + sample_name, start, end)\n",
    "    print \"invalids: \", invalids\n",
    "\n",
    "    regular_activity = False\n",
    "    for channel_index in range(num_channels): \n",
    "        channel = channels[channel_index]\n",
    "        if channel == \"RESP\": \n",
    "            continue\n",
    "\n",
    "        print \"channel: \", channels[channel_index]\n",
    "        \n",
    "        rr_intervals = annotate.calculate_rr_intervals_standard(ann_path + sample_name, channel_index, ann_type, start, end)\n",
    "        print \"rr_intervals: \", rr_intervals\n",
    "        \n",
    "        is_regular = check_interval_regular_activity(rr_intervals, invalids, start, end, channel_index)\n",
    "        print \"is_regular: \", is_regular\n",
    "        \n",
    "        if is_regular: \n",
    "            return True\n",
    "    return False"
   ]
  },
  {
   "cell_type": "code",
   "execution_count": 10,
   "metadata": {
    "collapsed": false
   },
   "outputs": [
    {
     "name": "stdout",
     "output_type": "stream",
     "text": [
      "invalids:  {'II': [0, 0, 0, 0, 0, 0, 0, 0, 0, 0, 0, 0, 0], 'ABP': [0, 0, 0, 0, 0, 0, 0, 0, 0, 0, 0, 0, 0], 'RESP': [0, 0, 0, 0, 0, 0, 0, 0, 0, 0, 0, 0, 0], 'V': [0, 0, 0, 0, 0, 0, 0, 0, 0, 0, 0, 0, 0]}\n",
      "channel:  II\n",
      "rr_intervals:  [0.72, 0.368, 0.36, 0.36, 0.348, 0.372, 0.332, 0.864, 0.864, 0.82, 0.812, 0.812, 0.808, 0.812]\n"
     ]
    },
    {
     "ename": "TypeError",
     "evalue": "unsupported operand type(s) for +: 'int' and 'str'",
     "output_type": "error",
     "traceback": [
      "\u001b[1;31m---------------------------------------------------------------------------\u001b[0m",
      "\u001b[1;31mTypeError\u001b[0m                                 Traceback (most recent call last)",
      "\u001b[1;32m<ipython-input-10-b14de90a7753>\u001b[0m in \u001b[0;36m<module>\u001b[1;34m()\u001b[0m\n\u001b[0;32m     11\u001b[0m     \u001b[0mtime_window\u001b[0m \u001b[1;33m=\u001b[0m \u001b[1;36m10\u001b[0m \u001b[1;31m# in seconds\u001b[0m\u001b[1;33m\u001b[0m\u001b[0m\n\u001b[0;32m     12\u001b[0m \u001b[1;33m\u001b[0m\u001b[0m\n\u001b[1;32m---> 13\u001b[1;33m     \u001b[1;32mprint\u001b[0m \u001b[0mcheck_channel_regular_activity\u001b[0m\u001b[1;33m(\u001b[0m\u001b[0mdata_path\u001b[0m\u001b[1;33m,\u001b[0m \u001b[0mann_path\u001b[0m\u001b[1;33m,\u001b[0m \u001b[0msample_name\u001b[0m\u001b[1;33m,\u001b[0m \u001b[0mann_type\u001b[0m\u001b[1;33m,\u001b[0m \u001b[0mstart\u001b[0m\u001b[1;33m,\u001b[0m \u001b[0mend\u001b[0m\u001b[1;33m)\u001b[0m\u001b[1;33m\u001b[0m\u001b[0m\n\u001b[0m",
      "\u001b[1;32m<ipython-input-9-535c1f74b3ef>\u001b[0m in \u001b[0;36mcheck_channel_regular_activity\u001b[1;34m(data_path, ann_path, sample_name, ann_type, start, end)\u001b[0m\n\u001b[0;32m     24\u001b[0m         \u001b[1;32mprint\u001b[0m \u001b[1;34m\"rr_intervals: \"\u001b[0m\u001b[1;33m,\u001b[0m \u001b[0mrr_intervals\u001b[0m\u001b[1;33m\u001b[0m\u001b[0m\n\u001b[0;32m     25\u001b[0m \u001b[1;33m\u001b[0m\u001b[0m\n\u001b[1;32m---> 26\u001b[1;33m         \u001b[0mis_regular\u001b[0m \u001b[1;33m=\u001b[0m \u001b[0mcheck_interval_regular_activity\u001b[0m\u001b[1;33m(\u001b[0m\u001b[0mrr_intervals\u001b[0m\u001b[1;33m,\u001b[0m \u001b[0minvalids\u001b[0m\u001b[1;33m,\u001b[0m \u001b[0mstart\u001b[0m\u001b[1;33m,\u001b[0m \u001b[0mend\u001b[0m\u001b[1;33m)\u001b[0m\u001b[1;33m\u001b[0m\u001b[0m\n\u001b[0m\u001b[0;32m     27\u001b[0m         \u001b[1;32mprint\u001b[0m \u001b[1;34m\"is_regular: \"\u001b[0m\u001b[1;33m,\u001b[0m \u001b[0mis_regular\u001b[0m\u001b[1;33m\u001b[0m\u001b[0m\n\u001b[0;32m     28\u001b[0m \u001b[1;33m\u001b[0m\u001b[0m\n",
      "\u001b[1;32m<ipython-input-9-535c1f74b3ef>\u001b[0m in \u001b[0;36mcheck_interval_regular_activity\u001b[1;34m(rr_intervals, invalids, start, end)\u001b[0m\n\u001b[0;32m      4\u001b[0m     \u001b[0msum_check\u001b[0m \u001b[1;33m=\u001b[0m \u001b[0mcheck_sum_rr_intervals\u001b[0m\u001b[1;33m(\u001b[0m\u001b[0mrr_intervals\u001b[0m\u001b[1;33m,\u001b[0m \u001b[0mstart\u001b[0m\u001b[1;33m,\u001b[0m \u001b[0mend\u001b[0m\u001b[1;33m)\u001b[0m\u001b[1;33m\u001b[0m\u001b[0m\n\u001b[0;32m      5\u001b[0m     \u001b[0mnum_check\u001b[0m \u001b[1;33m=\u001b[0m \u001b[0mcheck_num_rr_intervals\u001b[0m\u001b[1;33m(\u001b[0m\u001b[0mrr_intervals\u001b[0m\u001b[1;33m)\u001b[0m\u001b[1;33m\u001b[0m\u001b[0m\n\u001b[1;32m----> 6\u001b[1;33m     \u001b[0minvalids_check\u001b[0m \u001b[1;33m=\u001b[0m \u001b[0mcheck_invalids\u001b[0m\u001b[1;33m(\u001b[0m\u001b[0minvalids\u001b[0m\u001b[1;33m)\u001b[0m\u001b[1;33m\u001b[0m\u001b[0m\n\u001b[0m\u001b[0;32m      7\u001b[0m \u001b[1;33m\u001b[0m\u001b[0m\n\u001b[0;32m      8\u001b[0m     \u001b[1;32mreturn\u001b[0m \u001b[0mstdev_check\u001b[0m \u001b[1;32mand\u001b[0m \u001b[0mhr_check\u001b[0m \u001b[1;32mand\u001b[0m \u001b[0msum_check\u001b[0m \u001b[1;32mand\u001b[0m \u001b[0mnum_check\u001b[0m \u001b[1;32mand\u001b[0m \u001b[0minvalids_check\u001b[0m\u001b[1;33m\u001b[0m\u001b[0m\n",
      "\u001b[1;32m<ipython-input-7-f70cf8928727>\u001b[0m in \u001b[0;36mcheck_invalids\u001b[1;34m(invalids)\u001b[0m\n\u001b[0;32m      1\u001b[0m \u001b[1;32mdef\u001b[0m \u001b[0mcheck_invalids\u001b[0m\u001b[1;33m(\u001b[0m\u001b[0minvalids\u001b[0m\u001b[1;33m)\u001b[0m\u001b[1;33m:\u001b[0m\u001b[1;33m\u001b[0m\u001b[0m\n\u001b[1;32m----> 2\u001b[1;33m     \u001b[0mblock_invalids_sum\u001b[0m \u001b[1;33m=\u001b[0m \u001b[0msum\u001b[0m\u001b[1;33m(\u001b[0m\u001b[0minvalids\u001b[0m\u001b[1;33m)\u001b[0m\u001b[1;33m\u001b[0m\u001b[0m\n\u001b[0m\u001b[0;32m      3\u001b[0m \u001b[1;33m\u001b[0m\u001b[0m\n\u001b[0;32m      4\u001b[0m \u001b[1;31m#     start_block = int(float(start) / parameters.FS * parameters.BLOCK_LENGTH)\u001b[0m\u001b[1;33m\u001b[0m\u001b[1;33m\u001b[0m\u001b[0m\n\u001b[0;32m      5\u001b[0m \u001b[1;31m#     end_block = int(math.ceil(float(end) / parameters.FS * parameters.BLOCK_LENGTH))\u001b[0m\u001b[1;33m\u001b[0m\u001b[1;33m\u001b[0m\u001b[0m\n",
      "\u001b[1;31mTypeError\u001b[0m: unsupported operand type(s) for +: 'int' and 'str'"
     ]
    }
   ],
   "source": [
    "if __name__ == '__main__': \n",
    "    data_path = 'sample_data/challenge_training_data/'\n",
    "    ann_path = 'sample_data/challenge_training_ann/'\n",
    "    sample_name = 'v131l'\n",
    "    \n",
    "    ann_type = 'jqrs'\n",
    "    start = 73750 # in sample number\n",
    "    end = 76250 # in sample number\n",
    "    channel = 0    \n",
    "    \n",
    "    time_window = 10 # in seconds\n",
    "    \n",
    "    print check_channel_regular_activity(data_path, ann_path, sample_name, ann_type, start, end)\n"
   ]
  },
  {
   "cell_type": "code",
   "execution_count": null,
   "metadata": {
    "collapsed": true
   },
   "outputs": [],
   "source": []
  }
 ],
 "metadata": {
  "kernelspec": {
   "display_name": "Python [Root]",
   "language": "python",
   "name": "Python [Root]"
  },
  "language_info": {
   "codemirror_mode": {
    "name": "ipython",
    "version": 2
   },
   "file_extension": ".py",
   "mimetype": "text/x-python",
   "name": "python",
   "nbconvert_exporter": "python",
   "pygments_lexer": "ipython2",
   "version": "2.7.12"
  }
 },
 "nbformat": 4,
 "nbformat_minor": 0
}
