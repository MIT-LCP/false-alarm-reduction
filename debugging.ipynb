{
 "cells": [
  {
   "cell_type": "markdown",
   "metadata": {},
   "source": [
    "# Debugging"
   ]
  },
  {
   "cell_type": "code",
   "execution_count": 2,
   "metadata": {
    "collapsed": false
   },
   "outputs": [],
   "source": [
    "from datetime                      import datetime\n",
    "import invalid_sample_detection    as invalid\n",
    "import load_annotations            as annotate\n",
    "import regular_activity            as regular\n",
    "import specific_arrhythmias        as arrhythmia\n",
    "import numpy                       as np\n",
    "import pipeline\n",
    "import parameters\n",
    "import os\n",
    "import csv\n",
    "import wfdb\n",
    "\n",
    "data_path = 'sample_data/challenge_training_data/'\n",
    "ann_path = 'sample_data/challenge_training_multiann/'\n",
    "ecg_ann_type = 'gqrs'"
   ]
  },
  {
   "cell_type": "markdown",
   "metadata": {},
   "source": [
    "## Regular activity"
   ]
  },
  {
   "cell_type": "code",
   "execution_count": null,
   "metadata": {
    "collapsed": false
   },
   "outputs": [
    {
     "name": "stderr",
     "output_type": "stream",
     "text": [
      "/home/liandrea/anaconda2/lib/python2.7/site-packages/wfdb/_rdann.py:209: VisibleDeprecationWarning: using a non-integer number instead of an integer will result in an error in the future\n",
      "  AT = filebytes[bpi, 1] >> 2  # anntype\n",
      "/home/liandrea/anaconda2/lib/python2.7/site-packages/wfdb/_rdann.py:53: VisibleDeprecationWarning: using a non-integer number instead of an integer will result in an error in the future\n",
      "  ts = ts + filebytes[bpi, 0] + 256 * (filebytes[bpi, 1] & 3)\n",
      "/home/liandrea/anaconda2/lib/python2.7/site-packages/wfdb/_rdann.py:216: VisibleDeprecationWarning: using a non-integer number instead of an integer will result in an error in the future\n",
      "  AT = filebytes[bpi, 1] >> 2\n",
      "/home/liandrea/anaconda2/lib/python2.7/site-packages/wfdb/_rdann.py:67: VisibleDeprecationWarning: using a non-integer number instead of an integer will result in an error in the future\n",
      "  chan[ai] = filebytes[bpi, 0]\n",
      "/home/liandrea/anaconda2/lib/python2.7/site-packages/wfdb/_rdann.py:225: VisibleDeprecationWarning: using a non-integer number instead of an integer will result in an error in the future\n",
      "  AT = filebytes[bpi, 1] >> 2\n",
      "/home/liandrea/anaconda2/lib/python2.7/site-packages/wfdb/_rdann.py:43: VisibleDeprecationWarning: using a non-integer number instead of an integer will result in an error in the future\n",
      "  filebytes[bpi + 2,0] + 256 * filebytes[bpi + 2,1]  # 4 bytes storing dt\n",
      "/home/liandrea/anaconda2/lib/python2.7/site-packages/wfdb/_rdann.py:46: VisibleDeprecationWarning: using a non-integer number instead of an integer will result in an error in the future\n",
      "  anntype[ai] = filebytes[bpi + 3, 1] >> 2\n",
      "/home/liandrea/anaconda2/lib/python2.7/site-packages/numpy/lib/function_base.py:3834: RuntimeWarning: Invalid value encountered in percentile\n",
      "  RuntimeWarning)\n"
     ]
    },
    {
     "name": "stdout",
     "output_type": "stream",
     "text": [
      "No annotations in specified sample range\n",
      "No annotations in specified sample range\n",
      "No annotations in specified sample range\n",
      "No annotations in specified sample range\n",
      "No annotations in specified sample range\n",
      "No annotations in specified sample range\n"
     ]
    }
   ],
   "source": [
    "def check_regular_activity_dir(data_path, ann_path, ecg_ann_type): \n",
    "    with open(\"sample_data/regular_activity.csv\", \"w\") as f: \n",
    "        pass\n",
    "        \n",
    "    for filename in os.listdir(data_path):\n",
    "        if filename.endswith(parameters.HEADER_EXTENSION):\n",
    "            sample_name = filename.rstrip(parameters.HEADER_EXTENSION)\n",
    "            is_regular = regular.is_sample_regular(data_path, ann_path, sample_name, ecg_ann_type)\n",
    "            \n",
    "            with open(\"sample_data/regular_activity.csv\", \"a\") as f:\n",
    "                writer = csv.writer(f)\n",
    "                writer.writerow([sample_name, is_regular])\n",
    "\n",
    "start = datetime.now()\n",
    "check_regular_activity_dir(data_path, ann_path, ecg_ann_type)\n",
    "print \"time: \", datetime.now() - start"
   ]
  },
  {
   "cell_type": "code",
   "execution_count": null,
   "metadata": {
    "collapsed": false
   },
   "outputs": [],
   "source": [
    "def compare_regular_activity(regular_activity_filename, fplesinger_filename): \n",
    "    confusion_matrix = {\n",
    "        \"FN\": [], \n",
    "        \"FP\": []\n",
    "    }\n",
    "    \n",
    "    with open(regular_activity_filename, \"r\") as f: \n",
    "        reader = csv.reader(f)\n",
    "        \n",
    "        for row in reader: \n",
    "            sample_name, is_regular = row[0], row[1] == \"True\"\n",
    "            \n",
    "            with open(fplesinger_filename, \"r\") as csvfile: \n",
    "                csvreader = csv.reader(csvfile)\n",
    "                \n",
    "                for csvrow in csvreader: \n",
    "                    if csvrow[0] == sample_name: \n",
    "                        regular_activity_array = [ x == '1' for x in csvrow[1:] ]\n",
    "                        fplesinger_is_regular = any(regular_activity_array)\n",
    "                        \n",
    "                        if fplesinger_is_regular and not is_regular:\n",
    "                            confusion_matrix[\"FN\"].append(sample_name)\n",
    "                            break\n",
    "                            \n",
    "                        elif not fplesinger_is_regular and is_regular: \n",
    "                            confusion_matrix[\"FP\"].append(sample_name)\n",
    "                            break\n",
    "                            \n",
    "    return confusion_matrix\n",
    "\n",
    "regular_activity_filename = \"sample_data/regular_activity.csv\"\n",
    "fplesinger_filename = \"sample_data/fplesinger_data/output/regular-activity.csv\"\n",
    "print compare_regular_activity(regular_activity_filename, fplesinger_filename)"
   ]
  },
  {
   "cell_type": "code",
   "execution_count": null,
   "metadata": {
    "collapsed": true
   },
   "outputs": [],
   "source": []
  }
 ],
 "metadata": {
  "kernelspec": {
   "display_name": "Python [Root]",
   "language": "python",
   "name": "Python [Root]"
  },
  "language_info": {
   "codemirror_mode": {
    "name": "ipython",
    "version": 2
   },
   "file_extension": ".py",
   "mimetype": "text/x-python",
   "name": "python",
   "nbconvert_exporter": "python",
   "pygments_lexer": "ipython2",
   "version": "2.7.12"
  }
 },
 "nbformat": 4,
 "nbformat_minor": 0
}
