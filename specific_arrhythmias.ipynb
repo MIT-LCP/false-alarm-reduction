{
 "cells": [
  {
   "cell_type": "markdown",
   "metadata": {},
   "source": [
    "# Specific arrhythmia tests"
   ]
  },
  {
   "cell_type": "code",
   "execution_count": 2,
   "metadata": {
    "collapsed": false
   },
   "outputs": [],
   "source": [
    "import invalid_sample_detection    as invalid\n",
    "import load_annotations            as annotate\n",
    "import regular_activity            as regular\n",
    "import numpy                       as np\n",
    "import matplotlib.pyplot           as plt\n",
    "import scipy\n",
    "import parameters\n",
    "import wfdb\n",
    "from datetime import datetime\n",
    "\n",
    "data_path = 'sample_data/challenge_training_data/'\n",
    "ann_path = 'sample_data/challenge_training_multiann/'\n",
    "ecg_ann_type = 'gqrs'"
   ]
  },
  {
   "cell_type": "markdown",
   "metadata": {},
   "source": [
    "## Asystole"
   ]
  },
  {
   "cell_type": "code",
   "execution_count": 3,
   "metadata": {
    "collapsed": false
   },
   "outputs": [],
   "source": [
    "def calc_summed_asystole_score(ann_path, sample_name, subsig, channels, ecg_ann_type, current_start, current_end,\n",
    "                               verbose=False, data_fs=parameters.DEFAULT_FS): \n",
    "    summed_score = 0\n",
    "    \n",
    "    for channel_index, channel in zip(range(len(channels)), channels): \n",
    "        channel_type = invalid.get_channel_type(channel)\n",
    "        if channel_type == \"Resp\": \n",
    "            continue\n",
    "        \n",
    "        channel_subsig = subsig[:,channel_index]\n",
    "        invalids = invalid.calculate_channel_invalids(channel_subsig, channel_type)\n",
    "        cval = invalid.calculate_cval_channel(invalids)\n",
    "        \n",
    "        ann_type = annotate.get_ann_type(channel, channel_index, ecg_ann_type)\n",
    "        ann_fs = annotate.get_ann_fs(channel_type)\n",
    "        annotation = annotate.get_annotation(ann_path + sample_name, ann_type, ann_fs, current_start, current_end)\n",
    "        \n",
    "        if len(annotation) == 0: \n",
    "            continue            \n",
    "        elif len(annotation[0]) > 0: \n",
    "            current_score = -cval\n",
    "        else: \n",
    "            current_score = cval        \n",
    "        \n",
    "        if verbose: \n",
    "            plt.figure(figsize=[7,5])\n",
    "            plt.plot(channel_subsig, 'g-')\n",
    "            annotation_seconds = annotation[0] / float(ann_fs)\n",
    "            ann_x = [ (seconds - current_start) * data_fs for seconds in annotation_seconds ]\n",
    "            ann_y = [ channel_subsig[index] for index in ann_x ]\n",
    "            plt.plot(ann_x, ann_y, 'bo', markersize=8)\n",
    "            plt.show()\n",
    "\n",
    "            print sample_name + \": \" + channel + \" [\" + str(current_start) + \", \" + str(current_end) + \"] \" + str(current_score)\n",
    "        \n",
    "        summed_score += current_score        \n",
    "        \n",
    "    return summed_score   "
   ]
  },
  {
   "cell_type": "code",
   "execution_count": 4,
   "metadata": {
    "collapsed": false
   },
   "outputs": [],
   "source": [
    "def test_asystole(data_path, ann_path, sample_name, ecg_ann_type, verbose=False): \n",
    "    sig, fields = wfdb.rdsamp(data_path + sample_name)\n",
    "    channels = fields['signame']\n",
    "    fs = fields['fs']\n",
    "        \n",
    "    # Start and end given in seconds\n",
    "    start, end, alarm_duration = invalid.get_start_and_end(fields)\n",
    "    current_start = start\n",
    "    current_end = current_start + parameters.ASYSTOLE_WINDOW_SIZE\n",
    "    \n",
    "    max_score = 0\n",
    "    \n",
    "    while current_end < end: \n",
    "        subsig = sig[current_start*fs:current_end*fs,:]\n",
    "        summed_asystole_score = calc_summed_asystole_score(ann_path, sample_name, subsig, channels, ecg_ann_type,\n",
    "                                                           current_start, current_end, verbose)\n",
    "        max_score = max(max_score, summed_asystole_score)\n",
    "        \n",
    "        current_start += parameters.ASYSTOLE_ROLLING_INCREMENT\n",
    "        current_end = current_start + parameters.ASYSTOLE_WINDOW_SIZE\n",
    "    \n",
    "    if verbose: \n",
    "        print sample_name + \" has max asystole score: \" + str(max_score)\n",
    "    \n",
    "    return max_score > 0\n",
    "    \n",
    "# sample_name = \"a653l\"\n",
    "sample_name = \"a670s\" # \"a203l\" # true alarm\n",
    "# # sample_name = \"a152s\" # false alarm\n",
    "# print test_asystole(data_path, ann_path, sample_name, ecg_ann_type, verbose=True)"
   ]
  },
  {
   "cell_type": "markdown",
   "metadata": {},
   "source": [
    "## Bradycardia"
   ]
  },
  {
   "cell_type": "code",
   "execution_count": 5,
   "metadata": {
    "collapsed": true
   },
   "outputs": [],
   "source": [
    "def get_rr_intervals_list(ann_path, sample_name, ecg_ann_type, fields, start, end): \n",
    "    channels = fields['signame']\n",
    "    rr_intervals_list = []\n",
    "    \n",
    "    for channel_index in range(len(channels)): \n",
    "        channel_name = channels[channel_index]\n",
    "        channel_type = invalid.get_channel_type(channel_name)\n",
    "        if channel_type == \"Resp\": \n",
    "            continue\n",
    "            \n",
    "        rr_intervals = annotate.get_channel_rr_intervals(ann_path, sample_name, channel_index, fields,\n",
    "                                                         ecg_ann_type, start, end)\n",
    "        rr_intervals_list.append(rr_intervals)\n",
    "        \n",
    "    return rr_intervals_list\n",
    "\n",
    "\n",
    "# Precondition: len(rr_intervals_list) > 0\n",
    "# Return RR intervals with the min stdev of all the RR intervals in the list\n",
    "def min_stdev_rr_intervals(rr_intervals_list): \n",
    "    opt_rr_intervals = []\n",
    "    min_stdev = float('inf')\n",
    "    \n",
    "    for rr_intervals in rr_intervals_list:  \n",
    "        stdev = np.std(rr_intervals)\n",
    "        if stdev < min_stdev: \n",
    "            opt_rr_intervals = rr_intervals\n",
    "            min_stdev = stdev\n",
    "    \n",
    "    return opt_rr_intervals"
   ]
  },
  {
   "cell_type": "code",
   "execution_count": 6,
   "metadata": {
    "collapsed": true
   },
   "outputs": [],
   "source": [
    "# Best channel: minimum stdev with acceptable RR intervals sum and count\n",
    "# If none with acceptable RR interval sum and count --> select minimum stdev out of all RR intervals\n",
    "def find_best_channel(rr_intervals_list, alarm_duration): \n",
    "    count_and_sum = []\n",
    "    only_one_test = []\n",
    "    for rr_intervals in rr_intervals_list: \n",
    "        sum_check = regular.check_sum_rr_intervals(rr_intervals, alarm_duration)\n",
    "        num_check = regular.check_num_rr_intervals(rr_intervals)\n",
    "        \n",
    "        if sum_check and num_check: \n",
    "            count_and_sum.append(rr_intervals)\n",
    "        \n",
    "        elif sum_check or num_check: \n",
    "            only_one_test.append(rr_intervals)\n",
    "\n",
    "    if len(count_and_sum) > 0: \n",
    "        return min_stdev_rr_intervals(count_and_sum)\n",
    "    \n",
    "    if len(only_one_test) > 0: \n",
    "        return min_stdev_rr_intervals(only_one_test)\n",
    "    \n",
    "    return min_stdev_rr_intervals(rr_intervals_list)            "
   ]
  },
  {
   "cell_type": "code",
   "execution_count": 7,
   "metadata": {
    "collapsed": true
   },
   "outputs": [],
   "source": [
    "def get_min_hr(rr_intervals, num_beats_per_block): \n",
    "    min_hr = float('inf')\n",
    "    \n",
    "    for index in range(num_beats_per_block, len(rr_intervals)): \n",
    "        subsection = rr_intervals[index - num_beats_per_block:index]\n",
    "        hr = float(num_beats_per_block) / sum(subsection) * parameters.NUM_SECS_IN_MIN\n",
    "        min_hr = min(min_hr, hr)\n",
    "        \n",
    "    return min_hr"
   ]
  },
  {
   "cell_type": "code",
   "execution_count": 82,
   "metadata": {
    "collapsed": false
   },
   "outputs": [],
   "source": [
    "def test_bradycardia(data_path, ann_path, sample_name, ecg_ann_type, verbose=False): \n",
    "    sig, fields = wfdb.rdsamp(data_path + sample_name)\n",
    "    channels = fields['signame']\n",
    "\n",
    "    # Start and end given in seconds\n",
    "    start, end, alarm_duration = invalid.get_start_and_end(fields)\n",
    "    \n",
    "    rr_intervals_list = get_rr_intervals_list(ann_path, sample_name, ecg_ann_type, fields, start, end)    \n",
    "    best_channel_rr = find_best_channel(rr_intervals_list, alarm_duration)\n",
    "    min_hr = get_min_hr(best_channel_rr, parameters.BRADYCARDIA_NUM_BEATS)\n",
    "    \n",
    "    if verbose: \n",
    "        print sample_name + \" with min HR: \" + str(min_hr)\n",
    "    \n",
    "    return min_hr < parameters.BRADYCARDIA_HR_MIN\n",
    "\n",
    "# sample_name = \"b497l\" # \"b187l\" #\"b495l\" # true alarm\n",
    "# # sample_name = \"b216s\" #\"b184s\" # false alarm\n",
    "# print test_bradycardia(data_path, ann_path, sample_name, ecg_ann_type, verbose=True)"
   ]
  },
  {
   "cell_type": "markdown",
   "metadata": {},
   "source": [
    "## Tachycardia"
   ]
  },
  {
   "cell_type": "code",
   "execution_count": 9,
   "metadata": {
    "collapsed": false
   },
   "outputs": [],
   "source": [
    "def check_tachycardia_channel(rr_intervals_list, alarm_duration): \n",
    "    for rr_intervals in rr_intervals_list: \n",
    "        stdev_check = regular.check_rr_stdev(rr_intervals)\n",
    "        sum_check = regular.check_sum_rr_intervals(rr_intervals, alarm_duration)\n",
    "        hr_check = regular.check_heart_rate(rr_intervals, alarm_duration)\n",
    "        if stdev_check and sum_check and not hr_check:\n",
    "            return True\n",
    "            \n",
    "    return False"
   ]
  },
  {
   "cell_type": "code",
   "execution_count": 10,
   "metadata": {
    "collapsed": true
   },
   "outputs": [],
   "source": [
    "def get_max_hr(rr_intervals, num_beats_per_block): \n",
    "    max_hr = -float('inf')\n",
    "    \n",
    "    for index in range(num_beats_per_block, len(rr_intervals)): \n",
    "        subsection = rr_intervals[index - num_beats_per_block:index]\n",
    "        hr = float(num_beats_per_block) / sum(subsection) * parameters.NUM_SECS_IN_MIN\n",
    "        max_hr = max(max_hr, hr)\n",
    "        \n",
    "    return max_hr"
   ]
  },
  {
   "cell_type": "code",
   "execution_count": 11,
   "metadata": {
    "collapsed": false
   },
   "outputs": [],
   "source": [
    "def test_tachycardia(data_path, ann_path, sample_name, ecg_ann_type, verbose=False): \n",
    "    sig, fields = wfdb.rdsamp(data_path + sample_name)\n",
    "    channels = fields['signame']\n",
    "        \n",
    "    # Start and end given in s#econds\n",
    "    start, end, alarm_duration = invalid.get_start_and_end(fields)\n",
    "    \n",
    "    rr_intervals_list = get_rr_intervals_list(ann_path, sample_name, ecg_ann_type, fields, start, end)    \n",
    "    if check_tachycardia_channel(rr_intervals_list, alarm_duration): \n",
    "        return True\n",
    "    \n",
    "    best_channel_rr = find_best_channel(rr_intervals_list, alarm_duration)    \n",
    "    max_hr = get_max_hr(best_channel_rr, parameters.TACHYCARDIA_NUM_BEATS)\n",
    "    \n",
    "    if verbose: \n",
    "        print sample_name + \" with max HR: \" + str(max_hr)\n",
    "    \n",
    "    return max_hr > parameters.TACHYCARDIA_HR_MAX\n",
    "\n",
    "sample_name = \"t700s\" # \"t418s\" # \"t209l\" # true alarm\n",
    "# sample_name = \"t384s\" # false alarm\n",
    "# print test_tachycardia(data_path, ann_path, sample_name, ecg_ann_type, verbose=True)"
   ]
  },
  {
   "cell_type": "markdown",
   "metadata": {},
   "source": [
    "## Ventricular tachycardia"
   ]
  },
  {
   "cell_type": "code",
   "execution_count": 40,
   "metadata": {
    "collapsed": true
   },
   "outputs": [],
   "source": [
    "def hilbert_transform(x, fs, f_low, f_high, demod=False):\n",
    "    N = len(x)\n",
    "    f = scipy.fftpack.fft(x, n=N)\n",
    "    i_high = int(np.floor(float(f_high)/fs*N))\n",
    "    i_low = int(np.floor(float(f_low)/fs*N))\n",
    "    win = scipy.signal.hamming( i_high - i_low )\n",
    "    \n",
    "    f[0:i_low] = 0\n",
    "    f[i_low:i_high] = f[i_low:i_high]*win\n",
    "    f[i_high+1:] = 0\n",
    "    \n",
    "    if demod==True:\n",
    "        # demodulate the signal, i.e. shift the freq spectrum to 0\n",
    "        i_mid = int( np.floor((i_high+i_low)/2.0) )\n",
    "        f = np.concatenate( [f[i_mid:i_high], np.zeros(len(f)-(i_high-i_low)), f[i_low:i_mid] ]  )\n",
    "        \n",
    "    return 2*np.abs(scipy.fftpack.ifft(f, n=N))"
   ]
  },
  {
   "cell_type": "code",
   "execution_count": 41,
   "metadata": {
    "collapsed": true
   },
   "outputs": [],
   "source": [
    "# Returns index of peak (max value) in the signal out of the indices provided\n",
    "def get_peak_index(signal, peak_indices): \n",
    "    max_peak_value = 0\n",
    "    max_peak_index = 0\n",
    "    \n",
    "    for index in peak_indices: \n",
    "        if signal[index] > max_peak_value: \n",
    "            max_peak_value = signal[index]\n",
    "            max_peak_index = index\n",
    "    \n",
    "    return max_peak_index\n",
    "\n",
    "# Groups together indices for a single peak and outputs a list of peaks (one sample per peak)\n",
    "# param index_threshold: minimum difference in sample number to be classified as a different peak\n",
    "def get_single_peak_indices(signal, peak_indices, index_threshold=50): \n",
    "    single_peak_indices = np.array([])\n",
    "    current_peak_indices = []\n",
    "    prev_index = peak_indices[0]\n",
    "    \n",
    "    for index in peak_indices[1:]: \n",
    "        if abs(prev_index - index) > index_threshold: \n",
    "            peak_index = get_peak_index(signal, current_peak_indices)\n",
    "            single_peak_indices = np.append(single_peak_indices, peak_index)\n",
    "            current_peak_indices = [index]\n",
    "        else: \n",
    "            current_peak_indices.append(index)\n",
    "        \n",
    "        prev_index = index\n",
    "\n",
    "    # Handle the last peak\n",
    "    peak_index = get_peak_index(signal, current_peak_indices)\n",
    "    single_peak_indices = np.append(single_peak_indices, peak_index)\n",
    "    \n",
    "    return single_peak_indices"
   ]
  },
  {
   "cell_type": "code",
   "execution_count": 74,
   "metadata": {
    "collapsed": false
   },
   "outputs": [
    {
     "name": "stdout",
     "output_type": "stream",
     "text": [
      "[   64.   199.   322.   420.   546.   665.   759.   865.   961.  1067.\n",
      "  1166.  1384.  1551.  1713.  1876.  2039.  2201.  2362.]\n"
     ]
    },
    {
     "name": "stderr",
     "output_type": "stream",
     "text": [
      "c:\\Users\\Andrea\\Anaconda2\\lib\\site-packages\\ipykernel\\__main__.py:55: VisibleDeprecationWarning: using a non-integer number instead of an integer will result in an error in the future\n",
      "c:\\Users\\Andrea\\Anaconda2\\lib\\site-packages\\ipykernel\\__main__.py:29: VisibleDeprecationWarning: using a non-integer number instead of an integer will result in an error in the future\n"
     ]
    }
   ],
   "source": [
    "def get_lf_sub(channel_sig, order): \n",
    "    lf = abs(hilbert_transform(channel_sig, parameters.DEFAULT_ECG_FS, parameters.LF_LOW, parameters.LF_HIGH))\n",
    "    mf = abs(hilbert_transform(channel_sig, parameters.DEFAULT_ECG_FS, parameters.MF_LOW, parameters.MF_HIGH))\n",
    "    hf = abs(hilbert_transform(channel_sig, parameters.DEFAULT_ECG_FS, parameters.HF_LOW, parameters.HF_HIGH))\n",
    "    sub = mf - hf\n",
    "    \n",
    "    return lf, sub\n",
    "\n",
    "# Return list of ventricular beats for ECG channels\n",
    "def ventricular_beat_annotations(lf_subsig, sub_subsig, sample, ann_type, start_time, end_time, \n",
    "                                 verbose=False,\n",
    "                                 fs=parameters.DEFAULT_FS,\n",
    "                                 threshold_ratio=parameters.VENTRICULAR_BEAT_THRESHOLD_RATIO,\n",
    "                                 ann_fs=parameters.DEFAULT_ECG_FS):    \n",
    "    annotation = annotate.get_annotation(sample, ann_type, ann_fs, start_time, end_time)\n",
    "    if len(annotation) == 0: \n",
    "        return []\n",
    "        \n",
    "    single_peak_indices = [ index - ann_fs * start_time for index in annotation[0] ]\n",
    "    \n",
    "    ventricular_beat_indices = np.array([])\n",
    "    nonventricular_beat_indices = np.array([])\n",
    "    \n",
    "    for index in single_peak_indices:\n",
    "        if index >= len(lf_subsig) or index >= len(sub_subsig): \n",
    "#             print \"Out of range peak\"\n",
    "            continue\n",
    "            \n",
    "        if lf_subsig[index] > sub_subsig[index]: \n",
    "            ventricular_beat_indices = np.append(ventricular_beat_indices, index)\n",
    "        else: \n",
    "            nonventricular_beat_indices = np.append(nonventricular_beat_indices, index)\n",
    "\n",
    "    if verbose: \n",
    "        plt.figure(figsize=[8,5])\n",
    "        plt.plot(sub_subsig,'b-')\n",
    "        plt.plot(lf_subsig,'r-')\n",
    "        plt.plot(nonventricular_beat_indices, [sub_subsig[index] for index in nonventricular_beat_indices], 'bo', markersize=8)\n",
    "        plt.plot(ventricular_beat_indices, [ lf_subsig[index] for index in ventricular_beat_indices ], 'ro', markersize=8)\n",
    "        plt.show()\n",
    "    \n",
    "    return ventricular_beat_indices\n",
    "\n",
    "\n",
    "start = 290 * parameters.DEFAULT_ECG_FS\n",
    "end = 300 * parameters.DEFAULT_ECG_FS\n",
    "start_time = 290\n",
    "end_time = 300\n",
    "order = 50\n",
    "sample_name = \"v803l\"\n",
    "sig, fields = wfdb.rdsamp(data_path + sample_name)\n",
    "channel = \"V\"\n",
    "channel_index = 1\n",
    "ann_type = annotate.get_ann_type(channel, channel_index, ecg_ann_type)\n",
    "channel_sig = sig[start:end,channel_index]\n",
    "lf, sub = get_lf_sub(channel_sig, order)\n",
    "print ventricular_beat_annotations(lf, sub, ann_path + sample_name, ann_type, start_time, end_time)"
   ]
  },
  {
   "cell_type": "code",
   "execution_count": 75,
   "metadata": {
    "collapsed": false
   },
   "outputs": [],
   "source": [
    "def max_ventricular_hr(ventricular_beats, num_beats, fs):     \n",
    "    max_hr = 0\n",
    "    \n",
    "    if len(ventricular_beats) < num_beats: \n",
    "        return max_hr\n",
    "    \n",
    "    for index in range(num_beats-1, len(ventricular_beats)): \n",
    "        sublist = ventricular_beats[index-num_beats+1:index]\n",
    "        start_time = ventricular_beats[index-num_beats+1] / fs\n",
    "        end_time = ventricular_beats[index] / fs\n",
    "                \n",
    "        hr = (num_beats-1) / (end_time - start_time) * parameters.NUM_SECS_IN_MIN         \n",
    "        max_hr = max(hr, max_hr)    \n",
    "        \n",
    "    return max_hr"
   ]
  },
  {
   "cell_type": "code",
   "execution_count": 88,
   "metadata": {
    "collapsed": false
   },
   "outputs": [],
   "source": [
    "def get_ventricular_beats_scores(channel_sig,\n",
    "                                 ann_path, \n",
    "                                 sample_name,\n",
    "                                 ann_type,\n",
    "                                 initial_start_time, \n",
    "                                 initial_end_time,\n",
    "                                 fs=parameters.DEFAULT_FS,\n",
    "                                 order=parameters.ORDER, \n",
    "                                 max_hr_threshold=parameters.VTACH_MAX_HR,\n",
    "                                 num_beats=parameters.VTACH_NUM_BEATS,\n",
    "                                 window_size=parameters.VTACH_WINDOW_SIZE,\n",
    "                                 rolling_increment=parameters.VTACH_ROLLING_INCREMENT):\n",
    "    r_delta = np.array([])\n",
    "    end = window_size * fs\n",
    "    \n",
    "    lf, sub = get_lf_sub(channel_sig, order)\n",
    "    \n",
    "    while end <= channel_sig.size: \n",
    "        start = end - window_size * fs\n",
    "        channel_subsig = channel_sig[start:end]\n",
    "        lf_subsig = lf[start:end]\n",
    "        sub_subsig = sub[start:end]\n",
    "        start_time = initial_start_time + start/fs\n",
    "        end_time = start_time + window_size\n",
    "        \n",
    "        sample = ann_path + sample_name\n",
    "        ventricular_beats = ventricular_beat_annotations(lf_subsig, sub_subsig, sample, ann_type, start_time, end_time)\n",
    "        max_hr = max_ventricular_hr(ventricular_beats, num_beats, fs)\n",
    "            \n",
    "        invalids = invalid.calculate_channel_invalids(channel_subsig, \"ECG\")\n",
    "        cval = invalid.calculate_cval_channel(invalids)\n",
    "                \n",
    "        if max_hr > max_hr_threshold: \n",
    "            r_delta = np.append(r_delta, cval)\n",
    "        else: \n",
    "            r_delta = np.append(r_delta, -cval)\n",
    "            \n",
    "        end += (rolling_increment * fs)\n",
    "            \n",
    "    return r_delta   \n",
    "\n",
    "\n",
    "def get_abp_std_scores(channel_sig, \n",
    "                       std_threshold,\n",
    "                       window_size,\n",
    "                       rolling_increment,\n",
    "                       fs=parameters.DEFAULT_FS):\n",
    "    r_delta = np.array([])\n",
    "    end = window_size * fs\n",
    "    \n",
    "    while end <= channel_sig.size: \n",
    "        start = end - window_size * fs\n",
    "        channel_subsig = channel_sig[start:end]\n",
    "        end += (rolling_increment * fs)\n",
    "\n",
    "        invalids = invalid.calculate_channel_invalids(channel_subsig, \"BP\")\n",
    "        cval = invalid.calculate_cval_channel(invalids)\n",
    "                \n",
    "        std = np.std(channel_subsig)        \n",
    "        if std > std_threshold: \n",
    "            r_delta = np.append(r_delta, -cval)\n",
    "        else: \n",
    "            r_delta = np.append(r_delta, cval)\n",
    "            \n",
    "    return r_delta"
   ]
  },
  {
   "cell_type": "code",
   "execution_count": 89,
   "metadata": {
    "collapsed": false,
    "scrolled": true
   },
   "outputs": [
    {
     "name": "stdout",
     "output_type": "stream",
     "text": [
      "start:  0.0  end:  750.0  max_hr:  96.3597430407\n"
     ]
    },
    {
     "name": "stderr",
     "output_type": "stream",
     "text": [
      "c:\\Users\\Andrea\\Anaconda2\\lib\\site-packages\\ipykernel\\__main__.py:20: VisibleDeprecationWarning: using a non-integer number instead of an integer will result in an error in the future\n",
      "c:\\Users\\Andrea\\Anaconda2\\lib\\site-packages\\ipykernel\\__main__.py:21: VisibleDeprecationWarning: using a non-integer number instead of an integer will result in an error in the future\n",
      "c:\\Users\\Andrea\\Anaconda2\\lib\\site-packages\\ipykernel\\__main__.py:22: VisibleDeprecationWarning: using a non-integer number instead of an integer will result in an error in the future\n",
      "c:\\Users\\Andrea\\Anaconda2\\lib\\site-packages\\ipykernel\\__main__.py:29: VisibleDeprecationWarning: using a non-integer number instead of an integer will result in an error in the future\n"
     ]
    },
    {
     "name": "stdout",
     "output_type": "stream",
     "text": [
      "start:  125.0  end:  875.0  max_hr:  102.505694761\n",
      "start:  250.0  end:  1000.0  max_hr:  102.505694761\n",
      "start:  375.0  end:  1125.0  max_hr:  102.505694761\n",
      "start:  500.0  end:  1250.0  max_hr:  90.9090909091\n",
      "start:  625.0  end:  1375.0  max_hr:  84.7457627119\n",
      "start:  750.0  end:  1500.0  max_hr:  77.9896013865\n",
      "start:  875.0  end:  1625.0  max_hr:  83.7988826816\n",
      "start:  1000.0  end:  1750.0  max_hr:  83.7988826816\n",
      "start:  1125.0  end:  1875.0  max_hr:  0\n",
      "start:  1250.0  end:  2000.0  max_hr:  0\n",
      "start:  1375.0  end:  2125.0  max_hr:  0\n",
      "start:  1500.0  end:  2250.0  max_hr:  0\n",
      "No annotations in specified sample range\n",
      "start:  1625.0  end:  2375.0  max_hr:  0\n",
      "No annotations in specified sample range\n",
      "start:  1750.0  end:  2500.0  max_hr:  0\n",
      "[ 1.  1.  1.  1. -1. -1. -1. -1. -1. -1. -1. -1. -1. -1. -1.] [ 1.  1.  1.  1. -1. -1. -1. -1. -1. -1. -1. -1. -1. -1. -1.]\n"
     ]
    },
    {
     "name": "stderr",
     "output_type": "stream",
     "text": [
      "c:\\Users\\Andrea\\Anaconda2\\lib\\site-packages\\ipykernel\\__main__.py:39: VisibleDeprecationWarning: using a non-integer number instead of an integer will result in an error in the future\n"
     ]
    },
    {
     "data": {
      "image/png": "[encoded data removed]",
      "text/plain": [
       "<matplotlib.figure.Figure at 0xbf8bb90>"
      ]
     },
     "metadata": {},
     "output_type": "display_data"
    },
    {
     "name": "stdout",
     "output_type": "stream",
     "text": [
      "v626s on channel II with max ventricular HR:  102.505694761\n",
      "start:  0.0  end:  750.0  max_hr:  0\n",
      "start:  125.0  end:  875.0  max_hr:  74.2574257426\n",
      "start:  250.0  end:  1000.0  max_hr:  74.2574257426\n",
      "start:  375.0  end:  1125.0  max_hr:  71.2025316456\n",
      "start:  500.0  end:  1250.0  max_hr:  0\n",
      "start:  625.0  end:  1375.0  max_hr:  0\n",
      "start:  750.0  end:  1500.0  max_hr:  78.125\n",
      "start:  875.0  end:  1625.0  max_hr:  84.9056603774\n",
      "start:  1000.0  end:  1750.0  max_hr:  96.7741935484\n",
      "start:  1125.0  end:  1875.0  max_hr:  111.111111111\n",
      "start:  1250.0  end:  2000.0  max_hr:  115.681233933\n",
      "start:  1375.0  end:  2125.0  max_hr:  119.680851064\n",
      "start:  1500.0  end:  2250.0  max_hr:  120.967741935\n",
      "start:  1625.0  end:  2375.0  max_hr:  123.287671233\n",
      "start:  1750.0  end:  2500.0  max_hr:  123.287671233\n",
      "[ 0.  0.  0.  0. -2. -2. -2. -2.  0.  0.  0.  0.  0.  0.  0.] [-1. -1. -1. -1. -1. -1. -1. -1.  1.  1.  1.  1.  1.  1.  1.]\n"
     ]
    },
    {
     "name": "stderr",
     "output_type": "stream",
     "text": [
      "c:\\Users\\Andrea\\Anaconda2\\lib\\site-packages\\ipykernel\\__main__.py:38: VisibleDeprecationWarning: using a non-integer number instead of an integer will result in an error in the future\n"
     ]
    },
    {
     "data": {
      "image/png": "[encoded data removed]",
      "text/plain": [
       "<matplotlib.figure.Figure at 0x3c2e110>"
      ]
     },
     "metadata": {},
     "output_type": "display_data"
    },
    {
     "name": "stdout",
     "output_type": "stream",
     "text": [
      "v626s on channel V with max ventricular HR:  123.287671233\n"
     ]
    },
    {
     "name": "stderr",
     "output_type": "stream",
     "text": [
      "c:\\Users\\Andrea\\Anaconda2\\lib\\site-packages\\ipykernel\\__main__.py:45: VisibleDeprecationWarning: using a non-integer number instead of an integer will result in an error in the future\n",
      "c:\\Users\\Andrea\\Anaconda2\\lib\\site-packages\\ipykernel\\__main__.py:55: VisibleDeprecationWarning: using a non-integer number instead of an integer will result in an error in the future\n"
     ]
    },
    {
     "name": "stdout",
     "output_type": "stream",
     "text": [
      "[-1. -1. -1. -1. -3. -3. -3. -3. -1. -1. -1. -1. -1. -1. -1.] [-1. -1. -1. -1. -1. -1. -1. -1. -1. -1. -1. -1. -1. -1. -1.]\n",
      "False\n"
     ]
    }
   ],
   "source": [
    "def test_ventricular_tachycardia(data_path, \n",
    "                                 ann_path, \n",
    "                                 sample_name, \n",
    "                                 ecg_ann_type,\n",
    "                                 verbose=False,\n",
    "                                 fs=parameters.DEFAULT_ECG_FS, \n",
    "                                 order=parameters.ORDER, \n",
    "                                 num_beats=parameters.VTACH_NUM_BEATS,\n",
    "                                 std_threshold=parameters.VTACH_ABP_THRESHOLD,\n",
    "                                 window_size=parameters.VTACH_WINDOW_SIZE,\n",
    "                                 rolling_increment=parameters.VTACH_ROLLING_INCREMENT): \n",
    "    sig, fields = wfdb.rdsamp(data_path + sample_name)\n",
    "    channels = fields['signame']\n",
    "        \n",
    "    # Start and end given in seconds\n",
    "    start_time, end_time, alarm_duration = invalid.get_start_and_end(fields)\n",
    "    alarm_sig = sig[int(start_time*fs):int(end_time*fs),:]\n",
    "    \n",
    "    ecg_channels = invalid.get_channels_of_type(channels, \"ECG\")\n",
    "    abp_channels = invalid.get_channels_of_type(channels, \"BP\")\n",
    "    \n",
    "    # Initialize R vector\n",
    "    size = int((alarm_duration - window_size) / rolling_increment) + 1\n",
    "    r_vector = [0.] * size\n",
    "    \n",
    "    # Adjust R vector based on ventricular beats in signal\n",
    "    for channel_index in ecg_channels:\n",
    "        index = int(channel_index)\n",
    "        ann_type = annotate.get_ann_type(channels[index], index, ecg_ann_type)\n",
    "        r_delta = get_ventricular_beats_scores(alarm_sig[:,index], ann_path, sample_name, ann_type, start_time, end_time)\n",
    "        r_vector = r_vector + r_delta\n",
    "        \n",
    "        print r_vector, r_delta\n",
    "        \n",
    "        if verbose: \n",
    "            channel_sig = alarm_sig[:,index]\n",
    "            lf, sub = get_lf_sub(channel_sig, order)\n",
    "            ventricular_beats = ventricular_beat_annotations(lf, sub, ann_path + sample_name, ann_type, start_time, end_time, verbose)\n",
    "            max_hr = max_ventricular_hr(ventricular_beats, num_beats, fs)\n",
    "            print str(sample_name) + \" on channel \"  + str(channels[int(channel_index)]) + \" with max ventricular HR: \", str(max_hr)\n",
    "\n",
    "        \n",
    "    # Adjust R vector based on whether standard deviation of ABP channel is > or < the threshold\n",
    "    for channel_index in abp_channels: \n",
    "        r_delta = get_abp_std_scores(alarm_sig[:,channel_index], std_threshold, window_size, rolling_increment)\n",
    "        r_vector = r_vector + r_delta\n",
    "        \n",
    "        print r_vector, r_delta\n",
    "                    \n",
    "    return any([ r_value > 0 for r_value in r_vector ])\n",
    "\n",
    "sample_name = \"v626s\"\n",
    "# sample_name = \"v804s\" # false alarm\n",
    "# sample_name = \"v803l\" # true alarm\n",
    "# print test_ventricular_tachycardia(data_path, ann_path, sample_name, ecg_ann_type, True)"
   ]
  },
  {
   "cell_type": "markdown",
   "metadata": {},
   "source": [
    "## Ventricular flutter/fibrillation"
   ]
  },
  {
   "cell_type": "code",
   "execution_count": 27,
   "metadata": {
    "collapsed": false
   },
   "outputs": [],
   "source": [
    "def calculate_dlfmax(channel_sig, \n",
    "                     order=parameters.ORDER): \n",
    "    lf, sub = get_lf_sub(channel_sig, order)\n",
    "    \n",
    "    current_dlfmax_start = None\n",
    "    dlfmax_duration = 0\n",
    "    prev_low_dominance = 0\n",
    "    \n",
    "    for index in range(len(lf)): \n",
    "        lf_sample = lf[index]\n",
    "        sub_sample = sub[index]\n",
    "        \n",
    "        if lf_sample > sub_sample: \n",
    "            # If not yet started a low dominance area, set the start index\n",
    "            if current_dlfmax_start is None: \n",
    "                current_dlfmax_start = index\n",
    "                            \n",
    "            # If a separate low dominance area, reset\n",
    "            elif index - prev_low_dominance > parameters.VFIB_LOW_DOMINANCE_INDEX_THRESHOLD: \n",
    "                # Calculate duration of previous low dominance area and update max dlfmax\n",
    "                duration = prev_low_dominance - current_dlfmax_start\n",
    "                dlfmax_duration = max(dlfmax_duration, duration)\n",
    "                \n",
    "                # Start new area of low dominance\n",
    "                current_dlfmax_start = index\n",
    "            \n",
    "            # Update previous index seen with low frequency dominance\n",
    "            prev_low_dominance = index\n",
    "          \n",
    "        # Handle duration at the end of the segment\n",
    "        if current_dlfmax_start is not None: \n",
    "            duration = prev_low_dominance - current_dlfmax_start\n",
    "            dlfmax_duration = max(dlfmax_duration, duration)\n",
    "                        \n",
    "    return dlfmax_duration\n",
    "            \n",
    "\n",
    "# Get dominant freq in signal in rolling window\n",
    "def get_dominant_freq_array(channel_sig, \n",
    "                            fs=parameters.DEFAULT_ECG_FS,\n",
    "                            window_size=parameters.VFIB_WINDOW_SIZE,\n",
    "                            rolling_increment=parameters.VFIB_ROLLING_INCREMENT): \n",
    "    \n",
    "    end = window_size * fs\n",
    "    dominant_freqs = np.array([])\n",
    "    \n",
    "    while end < channel_sig.size: \n",
    "        start = end - window_size * fs\n",
    "        channel_subsig = channel_sig[start:end]\n",
    "        end += (rolling_increment * fs)\n",
    "        \n",
    "        xf, fft = invalid.get_signal_fft(channel_subsig, window_size, fs)\n",
    "        \n",
    "        # Index of the fft is 2 * the actual frequency \n",
    "        dominant_freq = np.argmax(fft) / 2\n",
    "        \n",
    "        dominant_freqs = np.append(dominant_freqs, dominant_freq)\n",
    "    return dominant_freqs\n",
    "\n",
    "\n",
    "def get_regular_activity_array(sig,\n",
    "                               fields,\n",
    "                               ann_path, \n",
    "                               sample_name,\n",
    "                               ecg_ann_type,\n",
    "                               arrhythmia_type=\"Ventricular_Flutter_Fib\",\n",
    "                               fs=parameters.DEFAULT_ECG_FS,\n",
    "                               window_size=parameters.VFIB_WINDOW_SIZE,\n",
    "                               rolling_increment=parameters.VFIB_ROLLING_INCREMENT): \n",
    "    regular_activity_array = np.array([])\n",
    "    end = window_size * fs\n",
    "    \n",
    "    while end < sig[:,0].size: \n",
    "        start = end - window_size * fs\n",
    "        subsig = sig[start:end]\n",
    "        \n",
    "        invalids_dict = invalid.calculate_invalids_sig(subsig, fields)\n",
    "        rr_dict = annotate.get_rr_dict(ann_path, sample_name, fields, ecg_ann_type, start/fs, end/fs)\n",
    "                \n",
    "        is_regular = regular.is_rr_invalids_regular(rr_dict, invalids_dict, window_size, arrhythmia_type)\n",
    "        if is_regular: \n",
    "            regular_activity_array = np.append(regular_activity_array, 1)\n",
    "        else: \n",
    "            regular_activity_array = np.append(regular_activity_array, 0)\n",
    "\n",
    "        print \"start: \", start, \" end: \", end, \" is_regular: \", is_regular, regular_activity_array\n",
    "\n",
    "        end += (rolling_increment * fs)\n",
    "    \n",
    "    return regular_activity_array\n",
    "\n",
    "def adjust_dominant_freqs(dominant_freqs, regular_activity): \n",
    "    adjusted_dominant_freqs = np.array([])\n",
    "    \n",
    "    for freq, is_regular in zip(dominant_freqs, regular_activity): \n",
    "        if is_regular: \n",
    "            adjusted_dominant_freqs = np.append(adjusted_dominant_freqs, 0)\n",
    "        else: \n",
    "            adjusted_dominant_freqs = np.append(adjusted_dominant_freqs, freq)\n",
    "    \n",
    "    return adjusted_dominant_freqs"
   ]
  },
  {
   "cell_type": "code",
   "execution_count": 34,
   "metadata": {
    "collapsed": false
   },
   "outputs": [],
   "source": [
    "def test_ventricular_flutter_fibrillation(data_path, \n",
    "                                          ann_path, \n",
    "                                          sample_name, \n",
    "                                          ecg_ann_type,\n",
    "                                          verbose=False,\n",
    "                                          fs=parameters.DEFAULT_ECG_FS,\n",
    "                                          ann_fs=parameters.DEFAULT_ECG_FS,\n",
    "                                          std_threshold=parameters.VFIB_ABP_THRESHOLD,\n",
    "                                          window_size=parameters.VFIB_WINDOW_SIZE,\n",
    "                                          rolling_increment=parameters.VFIB_ROLLING_INCREMENT):\n",
    "    sig, fields = wfdb.rdsamp(data_path + sample_name)\n",
    "    channels = fields['signame']\n",
    "        \n",
    "    # Start and end given in seconds\n",
    "    start, end, alarm_duration = invalid.get_start_and_end(fields)\n",
    "    alarm_sig = sig[start*fs:end*fs,:]\n",
    "\n",
    "    ecg_channels = invalid.get_channels_of_type(channels, \"ECG\")\n",
    "    abp_channels = invalid.get_channels_of_type(channels, \"BP\")\n",
    "    \n",
    "    # Find max duration of low frequency signal from all channels\n",
    "    dlfmax = 0\n",
    "    for channel_index in ecg_channels: \n",
    "        channel_dlfmax = calculate_dlfmax(alarm_sig[:,channel_index])\n",
    "        dlfmax = max(dlfmax, channel_dlfmax)\n",
    "                    \n",
    "    # Initialize R vector to a value based on the D_lfmax (duration of low frequency)\n",
    "    if dlfmax > parameters.VFIB_DLFMAX_LIMIT: \n",
    "        r_vector_value = 1.\n",
    "    else: \n",
    "        r_vector_value = 0.\n",
    "    size = int((alarm_duration - window_size) / rolling_increment) + 1\n",
    "    r_vector = [r_vector_value] * size\n",
    "    \n",
    "    print r_vector\n",
    "    \n",
    "    # Adjust R vector based on whether standard deviation of ABP channel is > or < the threshold\n",
    "    for channel_index in abp_channels: \n",
    "        r_delta = get_abp_std_scores(alarm_sig[:,channel_index], std_threshold, window_size, rolling_increment)\n",
    "        r_vector = r_vector + r_delta\n",
    "            \n",
    "    # Adjust R vector based on dominant frequency in signal\n",
    "    for channel_index in ecg_channels: \n",
    "        dominant_freqs = get_dominant_freq_array(alarm_sig[:,channel_index])\n",
    "        print \"dominant freqs: \", dominant_freqs\n",
    "        regular_activity = get_regular_activity_array(alarm_sig, fields, ann_path, sample_name, ecg_ann_type)\n",
    "        print \"regular activity: \", regular_activity\n",
    "        adjusted_dominant_freqs = adjust_dominant_freqs(dominant_freqs, regular_activity)\n",
    "        print \"adjusted: \", adjusted_dominant_freqs\n",
    "        \n",
    "        new_r_vector = np.array([])\n",
    "        for dominant_freq, r_value in zip(adjusted_dominant_freqs, r_vector): \n",
    "            if dominant_freq < parameters.VFIB_DOMINANT_FREQ_THRESHOLD: \n",
    "                new_r_vector = np.append(new_r_vector, 0.)\n",
    "            else: \n",
    "                new_r_vector = np.append(new_r_vector, r_value)\n",
    "        \n",
    "        r_vector = new_r_vector\n",
    "    \n",
    "    return any([ r_value > 0 for r_value in r_vector ])\n",
    "    \n",
    "# sample_name = \"f593l\"\n",
    "sample_name = \"f450s\" # false negative --> fixed\n",
    "# sample_name = \"f543l\" # true positive\n",
    "# print test_ventricular_flutter_fibrillation(data_path, ann_path, sample_name, ecg_ann_type)"
   ]
  },
  {
   "cell_type": "code",
   "execution_count": null,
   "metadata": {
    "collapsed": true
   },
   "outputs": [],
   "source": []
  }
 ],
 "metadata": {
  "anaconda-cloud": {},
  "kernelspec": {
   "display_name": "Python [Root]",
   "language": "python",
   "name": "Python [Root]"
  },
  "language_info": {
   "codemirror_mode": {
    "name": "ipython",
    "version": 2
   },
   "file_extension": ".py",
   "mimetype": "text/x-python",
   "name": "python",
   "nbconvert_exporter": "python",
   "pygments_lexer": "ipython2",
   "version": "2.7.12"
  }
 },
 "nbformat": 4,
 "nbformat_minor": 0
}
