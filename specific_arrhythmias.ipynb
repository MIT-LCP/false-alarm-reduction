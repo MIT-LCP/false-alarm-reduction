{
 "cells": [
  {
   "cell_type": "markdown",
   "metadata": {},
   "source": [
    "# Specific arrhythmia tests"
   ]
  },
  {
   "cell_type": "code",
   "execution_count": 4,
   "metadata": {
    "collapsed": false
   },
   "outputs": [],
   "source": [
    "import invalid_sample_detection    as invalid\n",
    "import load_annotations            as annotate\n",
    "import parameters\n",
    "import wfdb"
   ]
  },
  {
   "cell_type": "markdown",
   "metadata": {},
   "source": [
    "## Asystole"
   ]
  },
  {
   "cell_type": "code",
   "execution_count": 18,
   "metadata": {
    "collapsed": true
   },
   "outputs": [],
   "source": [
    "def calc_channel_asystole_score(ann_path, sample_name, sig, fields, ann_type, channel_start, channel_end,\n",
    "                                channel): \n",
    "    current_start = channel_start\n",
    "    current_end = current_start + parameters.ASYSTOLE_WINDOW_SIZE\n",
    "    cumulative_score = 0\n",
    "    \n",
    "    while current_end < channel_end: \n",
    "        channel_type = invalid.get_channel_type(channel)\n",
    "        annotation, ann_fs = annotate.get_annotation_annfs(ann_path + sample_name, ann_type, current_start,\n",
    "                                                           current_end, channel_type)\n",
    "        \n",
    "        if len(annotation[0]) > 0: \n",
    "            current_score = -1\n",
    "        else: \n",
    "            current_score = 1\n",
    "            \n",
    "        invalids = invalid.calculate_invalids_sig(sig, fields, current_start, current_end)\n",
    "        cval = invalid.calculate_cval(invalids)        \n",
    "        current_score *= cval[channel]\n",
    "        \n",
    "        cumulative_score += current_score\n",
    "        \n",
    "        current_start += parameters.ASYSTOLE_ROLLING_INCREMENT\n",
    "        current_end = current_start + parameters.ASYSTOLE_WINDOW_SIZE\n",
    "    \n",
    "    return cumulative_score   "
   ]
  },
  {
   "cell_type": "code",
   "execution_count": null,
   "metadata": {
    "collapsed": false
   },
   "outputs": [],
   "source": [
    "def test_asystole(data_path, ann_path, sample_name, ecg_ann_type): \n",
    "    sig, fields = wfdb.rdsamp(data_path + sample_name)\n",
    "    channels = fields['signame']\n",
    "        \n",
    "    # Start and end given in seconds\n",
    "    start, end, alarm_duration = invalid.get_start_and_end(fields)\n",
    "    \n",
    "    overall_score = 0    \n",
    "    for channel_index, channel in zip(range(len(channels)), channels): \n",
    "        ann_type = annotate.get_ann_type(channel, channel_index, ecg_ann_type)\n",
    "        channel_score = calc_channel_asystole_score(ann_path, sample_name, sig, fields, ann_type, start, end, \n",
    "                                                    channel)\n",
    "        \n",
    "        overall_score += channel_score\n",
    "        \n",
    "    return overall_score > 0\n",
    "    \n",
    "    \n",
    "data_path = 'sample_data/challenge_training_data/'\n",
    "ann_path = 'sample_data/challenge_training_multiann/'\n",
    "sample_name = \"a203l\"\n",
    "ecg_ann_type = 'jqrs'\n",
    "test_asystole(data_path, ann_path, sample_name, ecg_ann_type)"
   ]
  },
  {
   "cell_type": "code",
   "execution_count": null,
   "metadata": {
    "collapsed": true
   },
   "outputs": [],
   "source": []
  }
 ],
 "metadata": {
  "kernelspec": {
   "display_name": "Python [Root]",
   "language": "python",
   "name": "Python [Root]"
  },
  "language_info": {
   "codemirror_mode": {
    "name": "ipython",
    "version": 2
   },
   "file_extension": ".py",
   "mimetype": "text/x-python",
   "name": "python",
   "nbconvert_exporter": "python",
   "pygments_lexer": "ipython2",
   "version": "2.7.12"
  }
 },
 "nbformat": 4,
 "nbformat_minor": 0
}
