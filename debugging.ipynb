{
 "cells": [
  {
   "cell_type": "markdown",
   "metadata": {},
   "source": [
    "# Debugging"
   ]
  },
  {
   "cell_type": "code",
   "execution_count": 2,
   "metadata": {
    "collapsed": false
   },
   "outputs": [],
   "source": [
    "from datetime                      import datetime\n",
    "import invalid_sample_detection    as invalid\n",
    "import load_annotations            as annotate\n",
    "import regular_activity            as regular\n",
    "import specific_arrhythmias        as arrhythmia\n",
    "import numpy                       as np\n",
    "import pipeline\n",
    "import parameters\n",
    "import os\n",
    "import csv\n",
    "import wfdb\n",
    "\n",
    "data_path = 'sample_data/challenge_training_data/'\n",
    "ann_path = 'sample_data/challenge_training_multiann/'\n",
    "fp_ann_path = 'sample_data/fplesinger_data/output/'\n",
    "ecg_ann_type = 'gqrs'"
   ]
  },
  {
   "cell_type": "markdown",
   "metadata": {},
   "source": [
    "## Regular activity"
   ]
  },
  {
   "cell_type": "code",
   "execution_count": 18,
   "metadata": {
    "collapsed": false,
    "scrolled": true
   },
   "outputs": [
    {
     "name": "stderr",
     "output_type": "stream",
     "text": [
      "/home/liandrea/anaconda2/lib/python2.7/site-packages/wfdb/_rdann.py:209: VisibleDeprecationWarning: using a non-integer number instead of an integer will result in an error in the future\n",
      "  AT = filebytes[bpi, 1] >> 2  # anntype\n",
      "/home/liandrea/anaconda2/lib/python2.7/site-packages/wfdb/_rdann.py:53: VisibleDeprecationWarning: using a non-integer number instead of an integer will result in an error in the future\n",
      "  ts = ts + filebytes[bpi, 0] + 256 * (filebytes[bpi, 1] & 3)\n",
      "/home/liandrea/anaconda2/lib/python2.7/site-packages/wfdb/_rdann.py:216: VisibleDeprecationWarning: using a non-integer number instead of an integer will result in an error in the future\n",
      "  AT = filebytes[bpi, 1] >> 2\n",
      "/home/liandrea/anaconda2/lib/python2.7/site-packages/wfdb/_rdann.py:67: VisibleDeprecationWarning: using a non-integer number instead of an integer will result in an error in the future\n",
      "  chan[ai] = filebytes[bpi, 0]\n",
      "/home/liandrea/anaconda2/lib/python2.7/site-packages/wfdb/_rdann.py:225: VisibleDeprecationWarning: using a non-integer number instead of an integer will result in an error in the future\n",
      "  AT = filebytes[bpi, 1] >> 2\n",
      "/home/liandrea/anaconda2/lib/python2.7/site-packages/wfdb/_rdann.py:43: VisibleDeprecationWarning: using a non-integer number instead of an integer will result in an error in the future\n",
      "  filebytes[bpi + 2,0] + 256 * filebytes[bpi + 2,1]  # 4 bytes storing dt\n",
      "/home/liandrea/anaconda2/lib/python2.7/site-packages/wfdb/_rdann.py:46: VisibleDeprecationWarning: using a non-integer number instead of an integer will result in an error in the future\n",
      "  anntype[ai] = filebytes[bpi + 3, 1] >> 2\n",
      "/home/liandrea/anaconda2/lib/python2.7/site-packages/numpy/lib/function_base.py:3834: RuntimeWarning: Invalid value encountered in percentile\n",
      "  RuntimeWarning)\n"
     ]
    },
    {
     "name": "stdout",
     "output_type": "stream",
     "text": [
      "No annotations in specified sample range\n",
      "No annotations in specified sample range\n",
      "No annotations in specified sample range\n",
      "No annotations in specified sample range\n",
      "No annotations in specified sample range\n",
      "No annotations in specified sample range\n",
      "No annotations in specified sample range\n",
      "No annotations in specified sample range\n",
      "No annotations in specified sample range\n",
      "No annotations in specified sample range\n",
      "No annotations in specified sample range\n",
      "No annotations in specified sample range\n",
      "No annotations in specified sample range\n",
      "No annotations in specified sample range\n",
      "No annotations in specified sample range\n",
      "No annotations in specified sample range\n",
      "No annotations in specified sample range\n",
      "No annotations in specified sample range\n",
      "No annotations in specified sample range\n",
      "No annotations in specified sample range\n",
      "No annotations in specified sample range\n",
      "No annotations in specified sample range\n",
      "No annotations in specified sample range\n",
      "No annotations in specified sample range\n",
      "No annotations in specified sample range\n",
      "No annotations in specified sample range\n",
      "No annotations in specified sample range\n",
      "No annotations in specified sample range\n",
      "No annotations in specified sample range\n",
      "No annotations in specified sample range\n",
      "No annotations in specified sample range\n",
      "No annotations in specified sample range\n",
      "No annotations in specified sample range\n",
      "No annotations in specified sample range\n",
      "No annotations in specified sample range\n",
      "No annotations in specified sample range\n",
      "No annotations in specified sample range\n",
      "No annotations in specified sample range\n",
      "No annotations in specified sample range\n",
      "No annotations in specified sample range\n",
      "No annotations in specified sample range\n",
      "No annotations in specified sample range\n",
      "No annotations in specified sample range\n",
      "No annotations in specified sample range\n",
      "No annotations in specified sample range\n",
      "No annotations in specified sample range\n",
      "No annotations in specified sample range\n",
      "No annotations in specified sample range\n",
      "No annotations in specified sample range\n",
      "No annotations in specified sample range\n",
      "No annotations in specified sample range\n",
      "No annotations in specified sample range\n",
      "No annotations in specified sample range\n",
      "No annotations in specified sample range\n",
      "No annotations in specified sample range\n",
      "No annotations in specified sample range\n",
      "No annotations in specified sample range\n",
      "No annotations in specified sample range\n",
      "No annotations in specified sample range\n",
      "No annotations in specified sample range\n",
      "No annotations in specified sample range\n",
      "No annotations in specified sample range\n",
      "No annotations in specified sample range\n",
      "No annotations in specified sample range\n",
      "No annotations in specified sample range\n",
      "No annotations in specified sample range\n",
      "No annotations in specified sample range\n",
      "No annotations in specified sample range\n",
      "No annotations in specified sample range\n",
      "No annotations in specified sample range\n",
      "No annotations in specified sample range\n",
      "No annotations in specified sample range\n",
      "No annotations in specified sample range\n",
      "No annotations in specified sample range\n",
      "No annotations in specified sample range\n",
      "No annotations in specified sample range\n",
      "No annotations in specified sample range\n",
      "No annotations in specified sample range\n",
      "No annotations in specified sample range\n",
      "No annotations in specified sample range\n",
      "No annotations in specified sample range\n",
      "No annotations in specified sample range\n",
      "No annotations in specified sample range\n",
      "No annotations in specified sample range\n",
      "No annotations in specified sample range\n",
      "No annotations in specified sample range\n",
      "No annotations in specified sample range\n",
      "No annotations in specified sample range\n",
      "No annotations in specified sample range\n",
      "No annotations in specified sample range\n",
      "No annotations in specified sample range\n",
      "No annotations in specified sample range\n",
      "No annotations in specified sample range\n",
      "time:  6:25:39.308239\n"
     ]
    }
   ],
   "source": [
    "def check_regular_activity_dir(data_path, ann_path, ecg_ann_type): \n",
    "    with open(\"sample_data/regular_activity.csv\", \"w\") as f: \n",
    "        pass\n",
    "        \n",
    "    for filename in os.listdir(data_path):\n",
    "        if filename.endswith(parameters.HEADER_EXTENSION):\n",
    "            sample_name = filename.rstrip(parameters.HEADER_EXTENSION)\n",
    "            is_regular = regular.is_sample_regular(data_path, ann_path, sample_name, ecg_ann_type)\n",
    "            \n",
    "            with open(\"sample_data/regular_activity.csv\", \"a\") as f:\n",
    "                writer = csv.writer(f)\n",
    "                writer.writerow([sample_name, is_regular])\n",
    "\n",
    "ecg_ann_type = \"gqrs\"\n",
    "start = datetime.now()\n",
    "check_regular_activity_dir(data_path, ann_path, ecg_ann_type)\n",
    "print \"time: \", datetime.now() - start"
   ]
  },
  {
   "cell_type": "code",
   "execution_count": 31,
   "metadata": {
    "collapsed": false
   },
   "outputs": [
    {
     "name": "stdout",
     "output_type": "stream",
     "text": [
      "{'FP': ['a735l', 'v666s', 'v482s', 'v627l', 'a514s', 'v655l', 'v808s', 'v566s', 'v280s', 'a527l', 'v336s', 'v811l', 'v649l', 'v176s', 'f493l', 'v535l', 'v738s', 'v743l', 'a397l', 't503l', 'f592s', 'b706s', 'v476s', 'v575l', 't817l', 'a462s', 'a526s', 'a465l', 'v464s', 'a171l', 'v568s', 'v230s'], 'FN': ['f593l', 'v206s', 'f792s', 'f236s', 'a363l', 'f789l', 'a377l', 'a272s', 'f237l', 'v259l', 'a819l', 'f138s', 'v224s', 'v437l', 'a435l', 'a780s', 'f362s', 'v720s', 'v337l', 'a645l', 'v401l', 'v513l', 'v102s', 'v687l', 'v633l', 'a301l', 'v375l', 'v155l', 'v205l', 'f576s', 'v795l', 'f618s']}\n"
     ]
    }
   ],
   "source": [
    "def compare_regular_activity(regular_activity_filename, fplesinger_filename): \n",
    "    confusion_matrix = {\n",
    "        \"FN\": [], \n",
    "        \"FP\": []\n",
    "    }\n",
    "        \n",
    "    with open(regular_activity_filename, \"r\") as f: \n",
    "        reader = csv.reader(f)\n",
    "        \n",
    "        # For each sample in our algorithm regular activity file\n",
    "        for row in reader: \n",
    "            sample_name, is_regular = row[0], row[1] == \"True\"\n",
    "            \n",
    "            # Find the associated sample in the fplesinger regular activity file\n",
    "            with open(fplesinger_filename, \"r\") as csvfile: \n",
    "                csvreader = csv.reader(csvfile)\n",
    "                \n",
    "                for csvrow in csvreader: \n",
    "                    if csvrow[0] == sample_name: \n",
    "                        regular_activity_array = [ x == '1' for x in csvrow[1:] ]\n",
    "                        fplesinger_is_regular = any(regular_activity_array)\n",
    "                        \n",
    "                        if fplesinger_is_regular and not is_regular:\n",
    "                            confusion_matrix[\"FN\"].append(sample_name)\n",
    "                            break\n",
    "                            \n",
    "                        elif not fplesinger_is_regular and is_regular: \n",
    "                            confusion_matrix[\"FP\"].append(sample_name)\n",
    "                            break\n",
    "                            \n",
    "    return confusion_matrix\n",
    "\n",
    "\n",
    "regular_activity_filename = \"sample_data/regular_activity_gqrs.csv\"\n",
    "fplesinger_filename = \"sample_data/fplesinger_data/output/regular-activity.csv\"\n",
    "print compare_regular_activity(regular_activity_filename, fplesinger_filename)"
   ]
  },
  {
   "cell_type": "markdown",
   "metadata": {},
   "source": [
    "None of the 162 samples classified with regular activity by our algorithm were true alarms (so the regular activity test did not cause any false negatives). Interestingly, the fplesinger algorithm also classified 162 samples with regular activity, although a total of 64 samples were classified differently between the two algorithms (32 classified as regular activity by our algorithm and not the fplesinger algorithm and 32 classified as regular activity by the fplesinger algorithm and not our algorithm). "
   ]
  },
  {
   "cell_type": "markdown",
   "metadata": {},
   "source": [
    "## Annotations"
   ]
  },
  {
   "cell_type": "code",
   "execution_count": null,
   "metadata": {
    "collapsed": true
   },
   "outputs": [],
   "source": [
    "def check_annotations_dir(data_path, ann_path, fp_ann_path, ecg_ann_type): \n",
    "    with open(\"sample_data/annotations_fp_gqrs.csv\", \"w\") as f: \n",
    "        pass\n",
    "        \n",
    "    for filename in os.listdir(data_path):\n",
    "        if filename.endswith(parameters.HEADER_EXTENSION):\n",
    "            sample_name = filename.rstrip(parameters.HEADER_EXTENSION)\n",
    "            sig, fields = wfdb.rdsamp(data_path + sample_name)\n",
    "            channels = fields['signame']\n",
    "            \n",
    "            for channel_index, channel_name in zip(range(channels), channels): \n",
    "                fp_ann_type = annotate.get_ann_type(channel_name, channel_index, \"fp\")\n",
    "                ann_type = annotate.get_ann_type(channel_name, channel_index, ecg_ann_type)\n",
    "                try: \n",
    "                    fp_ann = wfdb.rdann(sample, ann_type, sampfrom=start*ann_fs, sampto=end*ann_fs)\n",
    "                except Exception as e: \n",
    "                    annotation = []\n",
    "                    print e\n",
    "            \n",
    "            \n",
    "            with open(\"sample_data/regular_activity.csv\", \"a\") as f:\n",
    "                writer = csv.writer(f)\n",
    "                writer.writerow([sample_name, is_regular])\n",
    "\n",
    "ecg_ann_type = \"gqrs\"\n",
    "start = datetime.now()\n",
    "check_regular_activity_dir(data_path, ann_path, ecg_ann_type)\n",
    "print \"time: \", datetime.now() - start"
   ]
  }
 ],
 "metadata": {
  "kernelspec": {
   "display_name": "Python [Root]",
   "language": "python",
   "name": "Python [Root]"
  },
  "language_info": {
   "codemirror_mode": {
    "name": "ipython",
    "version": 2
   },
   "file_extension": ".py",
   "mimetype": "text/x-python",
   "name": "python",
   "nbconvert_exporter": "python",
   "pygments_lexer": "ipython2",
   "version": "2.7.12"
  }
 },
 "nbformat": 4,
 "nbformat_minor": 0
}
