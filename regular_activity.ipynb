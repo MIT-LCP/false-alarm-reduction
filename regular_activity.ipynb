{
 "cells": [
  {
   "cell_type": "code",
   "execution_count": null,
   "metadata": {
    "collapsed": false,
    "scrolled": true
   },
   "outputs": [],
   "source": [
    "import invalid_sample_detection    as invalid\n",
    "import matplotlib.pyplot           as plt\n",
    "import numpy                       as np\n",
    "import parameters\n",
    "import load_annotations\n",
    "import wfdb\n",
    "\n",
    "%matplotlib inline\n",
    "%config IPCompleter.greedy=True;"
   ]
  },
  {
   "cell_type": "code",
   "execution_count": 4,
   "metadata": {
    "collapsed": false
   },
   "outputs": [
    {
     "name": "stdout",
     "output_type": "stream",
     "text": [
      "{'II': 0.9386666666666666, 'PLETH': 0.8133333333333334, 'ABP': 1.0, 'V': 0.8346666666666667}\n"
     ]
    }
   ],
   "source": [
    "data_path = 'sample_data/challenge_training_data/'\n",
    "ann_path = 'sample_data/challenge_training_ann/'\n",
    "sample_name = 'a170s'\n",
    "\n",
    "invalids = invalid.calculate_invalids_standard(data_path + sample_name)\n",
    "print invalid.calculate_cval(invalids)"
   ]
  },
  {
   "cell_type": "code",
   "execution_count": null,
   "metadata": {
    "collapsed": false
   },
   "outputs": [],
   "source": [
    "fs = parameters.FS\n",
    "ann_type = 'jqrs'\n",
    "start = 0\n",
    "end = 5000\n",
    "channel = 0\n",
    "\n",
    "# sig, fields = wfdb.rdsamp(data_path + sample_name)\n",
    "# t = np.linspace(float(start)/fs,float(end)/fs,end-start)\n",
    "# plt.figure(figsize=[16,10])\n",
    "# plt.plot(t, sig[start:end,channel], '-',\n",
    "#          color=col[1],linewidth=2,\n",
    "#          label=fields['signame'][channel])\n",
    "# plt.show()\n",
    "\n",
    "rr_intervals = load_annotations.calculate_rr_intervals_standard(ann_path + sample_name, channel, ann_type, start, end)\n",
    "print sum(rr_intervals)/ len(rr_intervals)"
   ]
  },
  {
   "cell_type": "code",
   "execution_count": null,
   "metadata": {
    "collapsed": true
   },
   "outputs": [],
   "source": []
  }
 ],
 "metadata": {
  "kernelspec": {
   "display_name": "Python [Root]",
   "language": "python",
   "name": "Python [Root]"
  },
  "language_info": {
   "codemirror_mode": {
    "name": "ipython",
    "version": 2
   },
   "file_extension": ".py",
   "mimetype": "text/x-python",
   "name": "python",
   "nbconvert_exporter": "python",
   "pygments_lexer": "ipython2",
   "version": "2.7.12"
  }
 },
 "nbformat": 4,
 "nbformat_minor": 0
}
