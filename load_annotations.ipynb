{
 "cells": [
  {
   "cell_type": "markdown",
   "metadata": {},
   "source": [
    "# QRS detection"
   ]
  },
  {
   "cell_type": "code",
   "execution_count": 22,
   "metadata": {
    "collapsed": false
   },
   "outputs": [],
   "source": [
    "import invalid_sample_detection   as invalid\n",
    "import matplotlib.pyplot          as plt\n",
    "import numpy                      as np\n",
    "import parameters\n",
    "import wfdb\n",
    "import socket\n",
    "\n",
    "%matplotlib inline\n",
    "\n",
    "# determine the paths for data/annotations based off the computer name\n",
    "hostname=socket.gethostname()\n",
    "\n",
    "if hostname=='alistair-pc70':\n",
    "    data_path = '/data/challenge-2015/data/'\n",
    "    ann_path = '/data/challenge-2015/ann/'\n",
    "else:\n",
    "    data_path = 'sample_data/challenge_training_data/'\n",
    "    ann_path = 'sample_data/challenge_training_multiann/'"
   ]
  },
  {
   "cell_type": "markdown",
   "metadata": {},
   "source": [
    "## Helper methods"
   ]
  },
  {
   "cell_type": "code",
   "execution_count": 2,
   "metadata": {
    "collapsed": true
   },
   "outputs": [],
   "source": [
    "# Get annotation file type based on channel type and index\n",
    "def get_ann_type(channel, channel_index, ecg_ann_type): \n",
    "    channel_type = invalid.get_channel_type(channel)\n",
    "\n",
    "    if channel_type == \"ECG\": \n",
    "        ann_type = ecg_ann_type + str(channel_index)\n",
    "    elif channel_type == \"BP\": \n",
    "        ann_type = 'wabp'\n",
    "    elif channel_type == \"PLETH\": \n",
    "        ann_type = \"wpleth\"\n",
    "    elif channel_type == \"Resp\": \n",
    "        ann_type = \"\"\n",
    "    else: \n",
    "        raise Exception(\"Unrecognized ann type\")\n",
    "    \n",
    "    return ann_type"
   ]
  },
  {
   "cell_type": "code",
   "execution_count": 10,
   "metadata": {
    "collapsed": true
   },
   "outputs": [],
   "source": [
    "# Start and end in seconds\n",
    "def get_annotation_annfs(sample, ann_type, start, end, channel_type): \n",
    "    # Check annotation fs with guess of smaller val (DEFAULT_OTHER_FS) to prevent checking out of range data\n",
    "    ann_fs = parameters.DEFAULT_OTHER_FS\n",
    "\n",
    "    # Find annotation fs from wfdb.rdann\n",
    "    annotation = wfdb.rdann(sample, ann_type, sampfrom=start*ann_fs, sampto=end*ann_fs)\n",
    "\n",
    "    # If rdann's provided ann_fs is valid, use that annotation fs\n",
    "    if annotation[-1] is not None and annotation[-1] != 0 and isinstance(annotation[-1], (int, float)):  \n",
    "        ann_fs = annotation[-1]\n",
    "\n",
    "    # Otherwise, use default annotation fs and print warning if the annotation is not empty\n",
    "    elif len(annotation[0]) > 0: \n",
    "        if channel_type == \"ECG\": \n",
    "            ann_fs = parameters.DEFAULT_ECG_FS\n",
    "        else: \n",
    "            print \"Annotation fs defaulted to \", parameters.DEFAULT_OTHER_FS, \" for \", sample, ann_type\n",
    "\n",
    "    # Get proper range of annotation based on annotation fs, only run if different ann_fs from before \n",
    "    if ann_fs != parameters.DEFAULT_OTHER_FS: \n",
    "        annotation = wfdb.rdann(sample, ann_type, sampfrom=start*ann_fs, sampto=end*ann_fs)\n",
    "                        \n",
    "    return annotation, ann_fs"
   ]
  },
  {
   "cell_type": "code",
   "execution_count": 25,
   "metadata": {
    "collapsed": false
   },
   "outputs": [],
   "source": [
    "def get_annotation(sample, ann_type, start, end, channel_type): \n",
    "    if channel_type == \"ECG\": \n",
    "        ann_fs = parameters.DEFAULT_ECG_FS\n",
    "    else: \n",
    "        ann_fs = parameters.DEFAULT_OTHER_FS\n",
    "    \n",
    "    try: \n",
    "        annotation = wfdb.rdann(sample, ann_type, sampfrom=start*ann_fs, sampto=end*ann_fs)\n",
    "    except Exception as e: \n",
    "        annotation = []\n",
    "        print e\n",
    "    \n",
    "    return annotation"
   ]
  },
  {
   "cell_type": "markdown",
   "metadata": {},
   "source": [
    "## Calculating RR intervals"
   ]
  },
  {
   "cell_type": "code",
   "execution_count": 1,
   "metadata": {
    "collapsed": false
   },
   "outputs": [],
   "source": [
    "# # Calculate RR intervals in the sample, where start and end in seconds\n",
    "# def calculate_rr_intervals(sample, ann_type, start, end, channel_type): \n",
    "#     annotation, ann_fs = get_annotation_annfs(sample, ann_type, start, end, channel_type)\n",
    "    \n",
    "#     # Convert annotations sample numbers into seconds if >0 annotations in signal\n",
    "#     if len(annotation[0]) > 0: \n",
    "#         ann_seconds = annotation[0] / float(ann_fs)\n",
    "#     else: \n",
    "#         return np.array([0.0])\n",
    "    \n",
    "#     rr_intervals = np.array([])\n",
    "#     for index in range(1, np.size(ann_seconds)):\n",
    "#         rr_intervals = np.append(rr_intervals, round(ann_seconds[index] - ann_seconds[index - 1], 4))\n",
    "\n",
    "#     return rr_intervals\n",
    "\n",
    "# sample_name = \"b220s\"\n",
    "# start, end = 284, 300\n",
    "# rr_intervals = calculate_rr_intervals(ann_path + sample_name, 'jqrs1', start, end, \"V\")\n",
    "# if len(rr_intervals) > 0: \n",
    "#     print \"average: \", sum(rr_intervals) / len(rr_intervals)\n",
    "# print \"rr_intervals\", rr_intervals"
   ]
  },
  {
   "cell_type": "code",
   "execution_count": 13,
   "metadata": {
    "collapsed": false
   },
   "outputs": [],
   "source": [
    "def get_channel_rr_intervals(ann_path, sample_name, channel_index, fields, ecg_ann_type, start=None, end=None):\n",
    "    if start is None or end is None: \n",
    "        # Start and end given in seconds\n",
    "        start, end, alarm_duration = invalid.get_start_and_end(fields)\n",
    "\n",
    "    channels = fields['signame']\n",
    "    channel = channels[channel_index]\n",
    "    channel_type = invalid.get_channel_type(channel)\n",
    "    channel_rr_intervals = np.array([])\n",
    "\n",
    "    ann_type = get_ann_type(channel, channel_index, ecg_ann_type)\n",
    "    try: \n",
    "        annotation, ann_fs = get_annotation_annfs(ann_path + sample_name, ann_type, start, end, channel_type)\n",
    "\n",
    "        # Convert annotations sample numbers into seconds if >0 annotations in signal\n",
    "        if len(annotation[0]) > 0: \n",
    "            ann_seconds = np.array(annotation[0]) / float(ann_fs)\n",
    "        else: \n",
    "            return np.array([0.0])\n",
    "\n",
    "        for index in range(1, np.size(ann_seconds)):\n",
    "            channel_rr_intervals = np.append(channel_rr_intervals, round(ann_seconds[index] - ann_seconds[index - 1], 4))\n",
    "\n",
    "    except Exception as e: \n",
    "        print e\n",
    "\n",
    "    return channel_rr_intervals"
   ]
  },
  {
   "cell_type": "code",
   "execution_count": 14,
   "metadata": {
    "collapsed": true
   },
   "outputs": [],
   "source": [
    "# Start and end given in seconds\n",
    "def get_rr_dict(ann_path, sample_name, fields, ecg_ann_type, start=None, end=None): \n",
    "    rr_dict = {}\n",
    "    if start is None or end is None: \n",
    "        # Start and end given in seconds\n",
    "        start, end, alarm_duration = invalid.get_start_and_end(fields)    \n",
    "    \n",
    "    channels = fields['signame']\n",
    "    for channel_index in range(len(channels)): \n",
    "        channel_name = channels[channel_index]\n",
    "        channel_type = invalid.get_channel_type(channel_name)\n",
    "        if channel_type == \"Resp\": \n",
    "            continue\n",
    "        \n",
    "        rr_intervals = get_channel_rr_intervals(ann_path, sample_name, channel_index, fields, ecg_ann_type, start, end)\n",
    "        \n",
    "        rr_dict[channel_name] = rr_intervals\n",
    "    \n",
    "    return rr_dict"
   ]
  },
  {
   "cell_type": "markdown",
   "metadata": {},
   "source": [
    "## Plotting"
   ]
  },
  {
   "cell_type": "code",
   "execution_count": 25,
   "metadata": {
    "collapsed": false
   },
   "outputs": [],
   "source": [
    "# Plot signal together with annotation types on the channel for data ranging from start to end\n",
    "def plot_annotations(data_path, ann_path, sample_name, ann_types_list, channel, data_fs, start, end): \n",
    "    sig, fields = wfdb.rdsamp(data_path + sample_name)\n",
    "    channel_name = fields['signame'][channel]\n",
    "    channel_type = invalid.get_channel_type(channel_name)\n",
    "    time_vector = np.linspace(start, end, (end-start) * data_fs)\n",
    "        \n",
    "    # Plot the time series of the signal\n",
    "    plt.figure(figsize=[16, 10])\n",
    "    plt.plot(time_vector, sig[int(start * data_fs):int(end * data_fs), channel], '-',\n",
    "             color=parameters.COLORS[0], linewidth=2, \n",
    "             label=fields['signame'][channel])\n",
    "    \n",
    "    if len(ann_types_list) > len(parameters.MARKER_TYPES) or len(ann_types_list) > len(parameters.COLORS)-1: \n",
    "        raise RuntimeException(\"too many types of annotations to plot\")\n",
    "    \n",
    "    # Plot each annotation type\n",
    "    for index in range(len(ann_types_list)): \n",
    "        ann_type = ann_types_list[index]\n",
    "        annotation, ann_fs = get_annotation_annfs(ann_path + sample_name, ann_type, start, end, channel_type)\n",
    "        if len(annotation[0]) == 0: \n",
    "            plt.show()\n",
    "            return\n",
    "        \n",
    "        annotation_seconds = annotation[0] / float(ann_fs)\n",
    "        annotation_y = [ sig[int(ann_time * data_fs), channel] for ann_time in annotation_seconds ]\n",
    "        plt.plot(annotation_seconds, annotation_y,\n",
    "             color=parameters.COLORS[index + 1],\n",
    "             linestyle='none', linewidth=3,\n",
    "             marker=parameters.MARKER_TYPES[index], markersize=12,\n",
    "             label=ann_type)\n",
    "        \n",
    "    plt.xlabel('Time (seconds)',fontsize=16)\n",
    "    plt.legend(fontsize=16)\n",
    "    plt.grid()\n",
    "    plt.show()"
   ]
  },
  {
   "cell_type": "code",
   "execution_count": 15,
   "metadata": {
    "collapsed": false
   },
   "outputs": [],
   "source": [
    "# data_fs = 250\n",
    "# sample_name = 't384s'\n",
    "# start = 286\n",
    "# end = 300\n",
    "\n",
    "# # choose the lead to plot (annotations are generated off the first lead)\n",
    "# channel = 2\n",
    "\n",
    "# plot_annotations(data_path, ann_path, sample_name, ['wabp'], channel, data_fs, start, end)"
   ]
  },
  {
   "cell_type": "code",
   "execution_count": null,
   "metadata": {
    "collapsed": true
   },
   "outputs": [],
   "source": []
  }
 ],
 "metadata": {
  "anaconda-cloud": {},
  "kernelspec": {
   "display_name": "Python [Root]",
   "language": "python",
   "name": "Python [Root]"
  },
  "language_info": {
   "codemirror_mode": {
    "name": "ipython",
    "version": 2
   },
   "file_extension": ".py",
   "mimetype": "text/x-python",
   "name": "python",
   "nbconvert_exporter": "python",
   "pygments_lexer": "ipython2",
   "version": "2.7.12"
  }
 },
 "nbformat": 4,
 "nbformat_minor": 0
}
