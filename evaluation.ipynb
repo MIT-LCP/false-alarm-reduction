{
 "cells": [
  {
   "cell_type": "markdown",
   "metadata": {},
   "source": [
    "# Evaluation "
   ]
  },
  {
   "cell_type": "code",
   "execution_count": 11,
   "metadata": {
    "collapsed": false
   },
   "outputs": [],
   "source": [
    "import numpy              as np\n",
    "import regular_activity   as regular\n",
    "import parameters\n",
    "import timeit\n",
    "import wfdb\n",
    "import os\n",
    "\n",
    "%matplotlib inline\n",
    "%config IPCompleter.greedy=True"
   ]
  },
  {
   "cell_type": "markdown",
   "metadata": {},
   "source": [
    "## Evaluation metrics"
   ]
  },
  {
   "cell_type": "code",
   "execution_count": 13,
   "metadata": {
    "collapsed": true
   },
   "outputs": [],
   "source": [
    "def generate_confusion_matrix(data_path, ann_path, ecg_ann_type, should_check_invalids=True, should_check_rr=True): \n",
    "    confusion_matrix = {\n",
    "        \"TP\": 0.,\n",
    "        \"FP\": 0.,\n",
    "        \"FN\": 0.,\n",
    "        \"TN\": 0.\n",
    "    }\n",
    "    \n",
    "    for filename in os.listdir(data_path):\n",
    "        if filename.endswith(parameters.HEADER_EXTENSION) and os.path.isfile(ann_path + filename):\n",
    "            sample_name = filename.rstrip(parameters.HEADER_EXTENSION)            \n",
    "            \n",
    "            if not os.path.isfile(ann_path + sample_name + parameters.JQRS_EXTENSION): \n",
    "                continue\n",
    "            \n",
    "            sig, fields = wfdb.rdsamp(data_path + sample_name)\n",
    "            alarm_type, is_true_alarm = regular.check_gold_standard_classification(fields)\n",
    "            \n",
    "            is_regular = regular.is_sample_regular(data_path, ann_path, sample_name, ecg_ann_type,\n",
    "                                                   should_check_invalids, should_check_rr)\n",
    "            \n",
    "            # Classified as a true alarm if no regular activity \n",
    "            classified_true_alarm = not is_regular\n",
    "            \n",
    "            if is_true_alarm and classified_true_alarm: \n",
    "                confusion_matrix[\"TP\"] += 1\n",
    "                \n",
    "            elif is_true_alarm and not classified_true_alarm: \n",
    "                confusion_matrix[\"FN\"] += 1\n",
    "                \n",
    "            elif not is_true_alarm and classified_true_alarm: \n",
    "                confusion_matrix[\"FP\"] += 1\n",
    "                \n",
    "            else: \n",
    "                confusion_matrix[\"TN\"] += 1\n",
    "                \n",
    "    return confusion_matrix"
   ]
  },
  {
   "cell_type": "code",
   "execution_count": 5,
   "metadata": {
    "collapsed": false
   },
   "outputs": [],
   "source": [
    "def calc_sensitivity(confusion_matrix): \n",
    "    tp = confusion_matrix[\"TP\"]\n",
    "    fn = confusion_matrix[\"FN\"]\n",
    "    return tp / (tp + fn)\n",
    "    \n",
    "def calc_specificity(confusion_matrix): \n",
    "    tn = confusion_matrix[\"TN\"]\n",
    "    fp = confusion_matrix[\"FP\"]\n",
    "    return tn / (tn + fp)\n",
    "\n",
    "def calc_ppv(confusion_matrix): \n",
    "    tp = confusion_matrix[\"TP\"]\n",
    "    fp = confusion_matrix[\"FP\"]\n",
    "    return tp / (tp + fp)\n",
    "\n",
    "def calc_f1(confusion_matrix): \n",
    "    sensitivity = calc_sensitivity(confusion_matrix)\n",
    "    ppv = calc_ppv(confusion_matrix)\n",
    "    \n",
    "    return 2 * sensitivity * ppv / (sensitivity + ppv)    "
   ]
  },
  {
   "cell_type": "code",
   "execution_count": 6,
   "metadata": {
    "collapsed": true
   },
   "outputs": [],
   "source": [
    "def print_stats(confusion_matrix): \n",
    "    sensitivity = calc_sensitivity(confusion_matrix)\n",
    "    specificity = calc_specificity(confusion_matrix)\n",
    "    ppv = calc_ppv(confusion_matrix)\n",
    "    f1 = calc_f1(confusion_matrix)\n",
    "    score = (confusion_matrix[\"TP\"] + confusion_matrix[\"TN\"])/(confusion_matrix[\"TP\"] + confusion_matrix[\"FP\"] +\n",
    "                                                           confusion_matrix[\"TN\"] + confusion_matrix[\"FN\"] * 5)\n",
    "\n",
    "    print \"confusion_matrix: \", confusion_matrix\n",
    "    print \"sensitivity: \", sensitivity\n",
    "    print \"specificity: \", specificity\n",
    "    print \"ppv: \", ppv\n",
    "    print \"f1: \", f1\n",
    "    print \"score: \", score"
   ]
  },
  {
   "cell_type": "code",
   "execution_count": 7,
   "metadata": {
    "collapsed": false
   },
   "outputs": [
    {
     "name": "stderr",
     "output_type": "stream",
     "text": [
      "/home/liandrea/anaconda2/lib/python2.7/site-packages/numpy/lib/function_base.py:3834: RuntimeWarning: Invalid value encountered in percentile\n",
      "  RuntimeWarning)\n"
     ]
    },
    {
     "name": "stdout",
     "output_type": "stream",
     "text": [
      "No annotations in specified sample range\n",
      "No annotations in specified sample range\n",
      "No annotations in specified sample range\n",
      "No annotations in specified sample range\n",
      "No annotations in specified sample range\n",
      "No annotations in specified sample range\n",
      "No annotations in specified sample range\n",
      "No annotations in specified sample range\n"
     ]
    },
    {
     "name": "stderr",
     "output_type": "stream",
     "text": [
      "/home/liandrea/anaconda2/lib/python2.7/site-packages/numpy/core/_methods.py:82: RuntimeWarning: Degrees of freedom <= 0 for slice\n",
      "  warnings.warn(\"Degrees of freedom <= 0 for slice\", RuntimeWarning)\n",
      "/home/liandrea/anaconda2/lib/python2.7/site-packages/numpy/core/_methods.py:94: RuntimeWarning: invalid value encountered in true_divide\n",
      "  arrmean, rcount, out=arrmean, casting='unsafe', subok=False)\n",
      "/home/liandrea/anaconda2/lib/python2.7/site-packages/numpy/core/_methods.py:116: RuntimeWarning: invalid value encountered in double_scalars\n",
      "  ret = ret.dtype.type(ret / rcount)\n"
     ]
    },
    {
     "name": "stdout",
     "output_type": "stream",
     "text": [
      "No annotations in specified sample range\n",
      "No annotations in specified sample range\n",
      "No annotations in specified sample range\n",
      "No annotations in specified sample range\n",
      "No annotations in specified sample range\n",
      "No annotations in specified sample range\n",
      "No annotations in specified sample range\n",
      "No annotations in specified sample range\n",
      "No annotations in specified sample range\n",
      "No annotations in specified sample range\n",
      "No annotations in specified sample range\n",
      "No annotations in specified sample range\n",
      "No annotations in specified sample range\n",
      "No annotations in specified sample range\n",
      "No annotations in specified sample range\n",
      "No annotations in specified sample range\n",
      "No annotations in specified sample range\n",
      "No annotations in specified sample range\n",
      "No annotations in specified sample range\n",
      "No annotations in specified sample range\n",
      "No annotations in specified sample range\n",
      "No annotations in specified sample range\n",
      "No annotations in specified sample range\n",
      "No annotations in specified sample range\n",
      "No annotations in specified sample range\n",
      "No annotations in specified sample range\n",
      "No annotations in specified sample range\n",
      "No annotations in specified sample range\n",
      "No annotations in specified sample range\n",
      "No annotations in specified sample range\n",
      "No annotations in specified sample range\n",
      "No annotations in specified sample range\n",
      "No annotations in specified sample range\n",
      "No annotations in specified sample range\n",
      "No annotations in specified sample range\n",
      "No annotations in specified sample range\n",
      "No annotations in specified sample range\n",
      "No annotations in specified sample range\n",
      "No annotations in specified sample range\n",
      "No annotations in specified sample range\n",
      "No annotations in specified sample range\n",
      "No annotations in specified sample range\n",
      "No annotations in specified sample range\n",
      "No annotations in specified sample range\n",
      "No annotations in specified sample range\n",
      "No annotations in specified sample range\n",
      "No annotations in specified sample range\n",
      "No annotations in specified sample range\n",
      "No annotations in specified sample range\n",
      "No annotations in specified sample range\n",
      "No annotations in specified sample range\n",
      "No annotations in specified sample range\n",
      "No annotations in specified sample range\n",
      "No annotations in specified sample range\n",
      "No annotations in specified sample range\n",
      "No annotations in specified sample range\n",
      "No annotations in specified sample range\n",
      "No annotations in specified sample range\n",
      "No annotations in specified sample range\n",
      "No annotations in specified sample range\n",
      "No annotations in specified sample range\n",
      "No annotations in specified sample range\n",
      "No annotations in specified sample range\n",
      "No annotations in specified sample range\n",
      "No annotations in specified sample range\n",
      "No annotations in specified sample range\n",
      "No annotations in specified sample range\n",
      "No annotations in specified sample range\n",
      "No annotations in specified sample range\n",
      "No annotations in specified sample range\n",
      "No annotations in specified sample range\n",
      "No annotations in specified sample range\n",
      "No annotations in specified sample range\n",
      "No annotations in specified sample range\n",
      "No annotations in specified sample range\n",
      "No annotations in specified sample range\n",
      "No annotations in specified sample range\n",
      "No annotations in specified sample range\n",
      "No annotations in specified sample range\n",
      "No annotations in specified sample range\n",
      "No annotations in specified sample range\n",
      "No annotations in specified sample range\n",
      "invalids and rr\n",
      "confusion_matrix:  {'FP': 373.0, 'TN': 79.0, 'FN': 1.0, 'TP': 293.0}\n",
      "sensitivity:  0.996598639456\n",
      "specificity:  0.174778761062\n",
      "ppv:  0.43993993994\n",
      "f1:  0.610416666667\n",
      "score:  0.496\n",
      "invalids\n",
      "confusion_matrix:  {'FP': 7.0, 'TN': 445.0, 'FN': 283.0, 'TP': 11.0}\n",
      "sensitivity:  0.0374149659864\n",
      "specificity:  0.984513274336\n",
      "ppv:  0.611111111111\n",
      "f1:  0.0705128205128\n",
      "score:  0.242811501597\n",
      "rr\n",
      "confusion_matrix:  {'FP': 373.0, 'TN': 79.0, 'FN': 1.0, 'TP': 293.0}\n",
      "sensitivity:  0.996598639456\n",
      "specificity:  0.174778761062\n",
      "ppv:  0.43993993994\n",
      "f1:  0.610416666667\n",
      "score:  0.496\n"
     ]
    }
   ],
   "source": [
    "if __name__ == '__main__': \n",
    "    data_path = 'sample_data/challenge_training_data/'\n",
    "    ann_path = 'sample_data/challenge_training_ann/'\n",
    "    ecg_ann_type = 'jqrs'\n",
    "    \n",
    "    confusion_matrix = generate_confusion_matrix(data_path, ann_path, ecg_ann_type)\n",
    "    confusion_matrix_invalids = generate_confusion_matrix(data_path, ann_path, ecg_ann_type,\n",
    "                                                          True, # should_check_invalids \n",
    "                                                          False # should_check_rr \n",
    "                                                         )\n",
    "    confusion_matrix_rr = generate_confusion_matrix(data_path, ann_path, ecg_ann_type,\n",
    "                                                    False, # should_check_invalids \n",
    "                                                    True # should_check_rr\n",
    "                                                   )\n",
    "    print \"invalids and rr\"\n",
    "    print_stats(confusion_matrix)\n",
    "    print \"invalids\"\n",
    "    print_stats(confusion_matrix_invalids)\n",
    "    print \"rr\"\n",
    "    print_stats(confusion_matrix_rr)      \n",
    "    "
   ]
  },
  {
   "cell_type": "markdown",
   "metadata": {},
   "source": [
    "Results: \n",
    "\n",
    "invalids and rr\n",
    "confusion_matrix: {'FP': 373.0, 'TN': 79.0, 'FN': 1.0, 'TP': 293.0}\n",
    "sensitivity:  0.996598639456\n",
    "specificity:  0.174778761062\n",
    "ppv:  0.43993993994\n",
    "f1:  0.610416666667\n",
    "score:  0.496\n",
    "\n",
    "invalids\n",
    "confusion_matrix:  {'FP': 7.0, 'TN': 445.0, 'FN': 283.0, 'TP': 11.0}\n",
    "sensitivity:  0.0374149659864\n",
    "specificity:  0.984513274336\n",
    "ppv:  0.611111111111\n",
    "f1:  0.0705128205128\n",
    "score:  0.242811501597\n",
    "\n",
    "rr\n",
    "confusion_matrix:  {'FP': 373.0, 'TN': 79.0, 'FN': 1.0, 'TP': 293.0}\n",
    "sensitivity:  0.996598639456\n",
    "specificity:  0.174778761062\n",
    "ppv:  0.43993993994\n",
    "f1:  0.610416666667\n",
    "score:  0.496"
   ]
  },
  {
   "cell_type": "code",
   "execution_count": null,
   "metadata": {
    "collapsed": true
   },
   "outputs": [],
   "source": []
  }
 ],
 "metadata": {
  "kernelspec": {
   "display_name": "Python [Root]",
   "language": "python",
   "name": "Python [Root]"
  },
  "language_info": {
   "codemirror_mode": {
    "name": "ipython",
    "version": 2
   },
   "file_extension": ".py",
   "mimetype": "text/x-python",
   "name": "python",
   "nbconvert_exporter": "python",
   "pygments_lexer": "ipython2",
   "version": "2.7.12"
  }
 },
 "nbformat": 4,
 "nbformat_minor": 0
}
