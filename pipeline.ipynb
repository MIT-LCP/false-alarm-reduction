{
 "cells": [
  {
   "cell_type": "markdown",
   "metadata": {},
   "source": [
    "# Overall pipeline"
   ]
  },
  {
   "cell_type": "code",
   "execution_count": 2,
   "metadata": {
    "collapsed": false
   },
   "outputs": [],
   "source": [
    "from datetime                      import datetime\n",
    "import invalid_sample_detection    as invalid\n",
    "import evaluation                  as evaluate\n",
    "import load_annotations            as annotate\n",
    "import regular_activity            as regular\n",
    "import specific_arrhythmias        as arrhythmia\n",
    "import numpy                       as np\n",
    "import parameters\n",
    "import os\n",
    "import csv\n",
    "import wfdb\n",
    "\n",
    "data_path = 'sample_data/challenge_training_data/'\n",
    "ann_path = 'sample_data/challenge_training_multiann/'\n",
    "ecg_ann_type = 'gqrs'"
   ]
  },
  {
   "cell_type": "markdown",
   "metadata": {},
   "source": [
    "## Classifying arrhythmia alarms"
   ]
  },
  {
   "cell_type": "code",
   "execution_count": 3,
   "metadata": {
    "collapsed": false,
    "scrolled": true
   },
   "outputs": [],
   "source": [
    "# Returns true if alarm is classified as a true alarm\n",
    "def is_classified_true_alarm(data_path, ann_path, sample_name, ecg_ann_type, verbose=False): \n",
    "    sig, fields = wfdb.rdsamp(data_path + sample_name)\n",
    "    alarm_type, is_true_alarm = regular.check_gold_standard_classification(fields)\n",
    "\n",
    "    is_regular = regular.is_sample_regular(data_path, ann_path, sample_name, ecg_ann_type, alarm_type, should_check_nan=False)    \n",
    "    if is_regular:\n",
    "        if verbose: \n",
    "            print sample_name + \"with regular activity\"\n",
    "        return False\n",
    "    \n",
    "    if alarm_type == \"Asystole\": \n",
    "        arrhythmia_test = arrhythmia.test_asystole\n",
    "    elif alarm_type == \"Bradycardia\": \n",
    "        arrhythmia_test = arrhythmia.test_bradycardia\n",
    "    elif alarm_type == \"Tachycardia\": \n",
    "        arrhythmia_test = arrhythmia.test_tachycardia\n",
    "    elif alarm_type == \"Ventricular_Tachycardia\": \n",
    "        arrhythmia_test = arrhythmia.test_ventricular_tachycardia\n",
    "    elif alarm_type == \"Ventricular_Flutter_Fib\": \n",
    "        arrhythmia_test = arrhythmia.test_ventricular_flutter_fibrillation\n",
    "    else: \n",
    "        raise Exception(\"Unknown arrhythmia alarm type\")\n",
    "    \n",
    "    classified_true_alarm = arrhythmia_test(data_path, ann_path, sample_name, ecg_ann_type, verbose)\n",
    "    return classified_true_alarm\n",
    "\n",
    "\n",
    "def is_true_alarm(data_path, sample_name): \n",
    "    sig, fields = wfdb.rdsamp(data_path + sample_name)\n",
    "    alarm_type, true_alarm = regular.check_gold_standard_classification(fields)\n",
    "    return true_alarm"
   ]
  },
  {
   "cell_type": "code",
   "execution_count": 4,
   "metadata": {
    "collapsed": true
   },
   "outputs": [],
   "source": [
    "# Generate confusion matrix for all samples given sample name/directory\n",
    "def generate_confusion_matrix_dir(data_path, ann_path, ecg_ann_type): \n",
    "    confusion_matrix = {\n",
    "        \"TP\": [],\n",
    "        \"FP\": [],\n",
    "        \"FN\": [],\n",
    "        \"TN\": []\n",
    "    }\n",
    "    \n",
    "    for filename in os.listdir(data_path):\n",
    "        if filename.endswith(parameters.HEADER_EXTENSION):\n",
    "            sample_name = filename.rstrip(parameters.HEADER_EXTENSION)\n",
    "            \n",
    "            true_alarm = is_true_alarm(data_path, sample_name)\n",
    "            classified_true_alarm = is_classified_true_alarm(data_path, ann_path, sample_name, ecg_ann_type)\n",
    "\n",
    "            matrix_classification = get_confusion_matrix_classification(true_alarm, classified_true_alarm)\n",
    "            confusion_matrix[matrix_classification].append(sample_name)\n",
    "            if matrix_classification == \"FN\": \n",
    "                print \"FALSE NEGATIVE: \", filename\n",
    "                \n",
    "    return confusion_matrix\n",
    "\n",
    "\n",
    "def get_confusion_matrix_classification(true_alarm, classified_true_alarm): \n",
    "    if true_alarm and classified_true_alarm: \n",
    "        matrix_classification = \"TP\"\n",
    "\n",
    "    elif true_alarm and not classified_true_alarm: \n",
    "        matrix_classification = \"FN\"\n",
    "\n",
    "    elif not true_alarm and classified_true_alarm: \n",
    "        matrix_classification = \"FP\"\n",
    "\n",
    "    else: \n",
    "        matrix_classification = \"TN\"\n",
    "\n",
    "    return matrix_classification"
   ]
  },
  {
   "cell_type": "code",
   "execution_count": 5,
   "metadata": {
    "collapsed": false
   },
   "outputs": [],
   "source": [
    "def print_by_type(false_negatives): \n",
    "    counts_by_type = {}\n",
    "    for false_negative in false_negatives: \n",
    "        first = false_negative[0] \n",
    "        if first not in counts_by_type.keys(): \n",
    "            counts_by_type[first] = 0\n",
    "        counts_by_type[first] += 1\n",
    "\n",
    "    print counts_by_type\n",
    "    \n",
    "def get_counts(confusion_matrix): \n",
    "    return { key : len(confusion_matrix[key]) for key in confusion_matrix.keys() }"
   ]
  },
  {
   "cell_type": "code",
   "execution_count": null,
   "metadata": {
    "collapsed": false,
    "scrolled": true
   },
   "outputs": [
    {
     "name": "stderr",
     "output_type": "stream",
     "text": [
      "c:\\Users\\Andrea\\Anaconda2\\lib\\site-packages\\wfdb\\_rdann.py:209: VisibleDeprecationWarning: using a non-integer number instead of an integer will result in an error in the future\n",
      "  AT = filebytes[bpi, 1] >> 2  # anntype\n",
      "c:\\Users\\Andrea\\Anaconda2\\lib\\site-packages\\wfdb\\_rdann.py:53: VisibleDeprecationWarning: using a non-integer number instead of an integer will result in an error in the future\n",
      "  ts = ts + filebytes[bpi, 0] + 256 * (filebytes[bpi, 1] & 3)\n",
      "c:\\Users\\Andrea\\Anaconda2\\lib\\site-packages\\wfdb\\_rdann.py:216: VisibleDeprecationWarning: using a non-integer number instead of an integer will result in an error in the future\n",
      "  AT = filebytes[bpi, 1] >> 2\n",
      "c:\\Users\\Andrea\\Anaconda2\\lib\\site-packages\\wfdb\\_rdann.py:67: VisibleDeprecationWarning: using a non-integer number instead of an integer will result in an error in the future\n",
      "  chan[ai] = filebytes[bpi, 0]\n",
      "c:\\Users\\Andrea\\Anaconda2\\lib\\site-packages\\wfdb\\_rdann.py:225: VisibleDeprecationWarning: using a non-integer number instead of an integer will result in an error in the future\n",
      "  AT = filebytes[bpi, 1] >> 2\n",
      "specific_arrhythmias.py:82: VisibleDeprecationWarning: using a non-integer number instead of an integer will result in an error in the future\n",
      "  subsig = sig[current_start*fs:current_end*fs,:]\n"
     ]
    }
   ],
   "source": [
    "if __name__ == '__main__': \n",
    "    start = datetime.now() \n",
    "    confusion_matrix_gqrs = generate_confusion_matrix_dir(data_path, ann_path, 'gqrs')\n",
    "    counts_gqrs = get_counts(confusion_matrix_gqrs)\n",
    "    print \"total time: \", datetime.now() - start\n",
    "\n",
    "    evaluate.print_stats(counts_gqrs)\n",
    "    print_by_type(confusion_matrix_gqrs['FN'])\n",
    "    \n",
    "    print \"TP: \", [ sample for sample in confusion_matrix_gqrs['TP'] if sample[0] == 'v' ]\n",
    "    print \"FN: \", [ sample for sample in confusion_matrix_gqrs['FN'] if sample[0] == 'v' ]"
   ]
  },
  {
   "cell_type": "markdown",
   "metadata": {},
   "source": [
    "## Comparing classification with other algorithms"
   ]
  },
  {
   "cell_type": "code",
   "execution_count": 23,
   "metadata": {
    "collapsed": false
   },
   "outputs": [
    {
     "name": "stdout",
     "output_type": "stream",
     "text": [
      "['l.m.eerikainen-209', 'vxk106120-213', 'sibylle.fallet-210', 'hoog.antink-216', 'fplesinger-210', 'bestcly-204', 'bellea-212']\n"
     ]
    }
   ],
   "source": [
    "def generate_others_confusion_matrices(filename, data_path): \n",
    "    others_confusion_matrices = {}\n",
    "    \n",
    "    with open(filename, \"r\") as f: \n",
    "        reader = csv.DictReader(f)\n",
    "        authors = reader.fieldnames[1:]\n",
    "        for author in authors: \n",
    "            others_confusion_matrices[author] = { \"TP\": [], \"FP\": [], \"FN\": [], \"TN\": [] }\n",
    "            \n",
    "        for line in reader: \n",
    "            sample_name = line['record name']\n",
    "            true_alarm = is_true_alarm(data_path, sample_name)\n",
    "            \n",
    "            for author in authors: \n",
    "                classified_true_alarm = line[author] == '1'\n",
    "                matrix_classification = get_confusion_matrix_classification(true_alarm, classified_true_alarm)\n",
    "                \n",
    "                others_confusion_matrices[author][matrix_classification].append(sample_name)\n",
    "    \n",
    "    return others_confusion_matrices\n",
    "                \n",
    "    \n",
    "filename = \"sample_data/answers.csv\"\n",
    "others_confusion_matrices = generate_others_confusion_matrices(filename, data_path)    "
   ]
  },
  {
   "cell_type": "code",
   "execution_count": 24,
   "metadata": {
    "collapsed": false
   },
   "outputs": [
    {
     "name": "stdout",
     "output_type": "stream",
     "text": [
      "hoog.antink-216\n",
      "counts:  {'FP': 89, 'TN': 367, 'TP': 291, 'FN': 3}\n",
      "sensitivity:  0.989795918367\n",
      "specificity:  0.804824561404\n",
      "ppv:  0.765789473684\n",
      "f1:  0.86350148368\n",
      "score:  0.863517060367\n",
      "{'v': 3}\n",
      "l.m.eerikainen-209\n",
      "counts:  {'FP': 65, 'TN': 391, 'TP': 294, 'FN': 0}\n",
      "sensitivity:  1.0\n",
      "specificity:  0.857456140351\n",
      "ppv:  0.818941504178\n",
      "f1:  0.90045941807\n",
      "score:  0.913333333333\n",
      "{}\n",
      "sibylle.fallet-210\n",
      "counts:  {'FP': 108, 'TN': 348, 'TP': 276, 'FN': 18}\n",
      "sensitivity:  0.938775510204\n",
      "specificity:  0.763157894737\n",
      "ppv:  0.71875\n",
      "f1:  0.814159292035\n",
      "score:  0.759124087591\n",
      "{'b': 1, 't': 4, 'v': 13}\n",
      "vxk106120-213\n",
      "counts:  {'FP': 74, 'TN': 382, 'TP': 280, 'FN': 14}\n",
      "sensitivity:  0.952380952381\n",
      "specificity:  0.837719298246\n",
      "ppv:  0.790960451977\n",
      "f1:  0.864197530864\n",
      "score:  0.821339950372\n",
      "{'v': 14}\n",
      "fplesinger-210\n",
      "counts:  {'FP': 64, 'TN': 392, 'TP': 275, 'FN': 19}\n",
      "sensitivity:  0.93537414966\n",
      "specificity:  0.859649122807\n",
      "ppv:  0.811209439528\n",
      "f1:  0.86887835703\n",
      "score:  0.807506053269\n",
      "{'a': 1, 'f': 1, 'b': 1, 't': 1, 'v': 15}\n",
      "bestcly-204\n",
      "counts:  {'FP': 133, 'TN': 323, 'TP': 277, 'FN': 17}\n",
      "sensitivity:  0.942176870748\n",
      "specificity:  0.708333333333\n",
      "ppv:  0.675609756098\n",
      "f1:  0.786931818182\n",
      "score:  0.733496332518\n",
      "{'b': 3, 't': 1, 'v': 13}\n",
      "bellea-212\n",
      "counts:  {'FP': 327, 'TN': 129, 'TP': 291, 'FN': 3}\n",
      "sensitivity:  0.989795918367\n",
      "specificity:  0.282894736842\n",
      "ppv:  0.470873786408\n",
      "f1:  0.638157894737\n",
      "score:  0.551181102362\n",
      "{'a': 3}\n"
     ]
    }
   ],
   "source": [
    "for author in others_confusion_matrices.keys(): \n",
    "    other_confusion_matrix = others_confusion_matrices[author]\n",
    "    print author\n",
    "    counts = get_counts(other_confusion_matrix)\n",
    "    evaluate.print_stats(counts)\n",
    "    print_by_type(other_confusion_matrix['FN'])"
   ]
  },
  {
   "cell_type": "code",
   "execution_count": null,
   "metadata": {
    "collapsed": true
   },
   "outputs": [],
   "source": []
  }
 ],
 "metadata": {
  "anaconda-cloud": {},
  "kernelspec": {
   "display_name": "Python [default]",
   "language": "python",
   "name": "python2"
  },
  "language_info": {
   "codemirror_mode": {
    "name": "ipython",
    "version": 2
   },
   "file_extension": ".py",
   "mimetype": "text/x-python",
   "name": "python",
   "nbconvert_exporter": "python",
   "pygments_lexer": "ipython2",
   "version": "2.7.12"
  }
 },
 "nbformat": 4,
 "nbformat_minor": 0
}
