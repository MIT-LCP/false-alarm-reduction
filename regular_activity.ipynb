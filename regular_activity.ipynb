{
 "cells": [
  {
   "cell_type": "markdown",
   "metadata": {},
   "source": [
    "# Regular activity test"
   ]
  },
  {
   "cell_type": "code",
   "execution_count": 5,
   "metadata": {
    "collapsed": false,
    "scrolled": true
   },
   "outputs": [],
   "source": [
    "from datetime                      import datetime\n",
    "import invalid_sample_detection    as invalid\n",
    "import load_annotations            as annotate\n",
    "import matplotlib.pyplot           as plt\n",
    "import numpy                       as np\n",
    "import parameters\n",
    "import wfdb\n",
    "import math\n",
    "\n",
    "%matplotlib inline\n",
    "%config IPCompleter.greedy=True\n",
    "\n",
    "\n",
    "data_path = 'sample_data/challenge_training_data/'\n",
    "ann_path = 'sample_data/challenge_training_multiann/'\n",
    "ecg_ann_type = 'gqrs'"
   ]
  },
  {
   "cell_type": "markdown",
   "metadata": {},
   "source": [
    "## RR intervals tests"
   ]
  },
  {
   "cell_type": "code",
   "execution_count": 6,
   "metadata": {
    "collapsed": false
   },
   "outputs": [],
   "source": [
    "# Check if standard deviation of RR intervals of signal are within limits\n",
    "def check_rr_stdev(rr_intervals): \n",
    "    stdev = np.std(rr_intervals)\n",
    "            \n",
    "    if stdev > parameters.RR_STDEV: \n",
    "        return False\n",
    "    return True\n",
    "\n",
    "# Check if heart rate, calculated by number of RR intervals in signal, are within limits\n",
    "def check_heart_rate(rr_intervals, alarm_duration): \n",
    "    hr = (len(rr_intervals) + 1.) / alarm_duration * parameters.NUM_SECS_IN_MIN\n",
    "            \n",
    "    if hr > parameters.HR_MAX or hr < parameters.HR_MIN: \n",
    "        return False\n",
    "    return True\n",
    "\n",
    "# Check if sum of RR intervals is within limit of total duration, to ensure beats are evenly spaced throughout\n",
    "def check_sum_rr_intervals(rr_intervals, alarm_duration): \n",
    "    min_sum = alarm_duration - parameters.RR_MIN_SUM_DIFF\n",
    "        \n",
    "    rr_sum = sum(rr_intervals)\n",
    "        \n",
    "    if rr_sum < min_sum: \n",
    "        return False\n",
    "    return True    \n",
    "\n",
    "# Check if total number of RR intervals is greater than a minimum \n",
    "def check_num_rr_intervals(rr_intervals): \n",
    "    if len(rr_intervals) < parameters.MIN_NUM_RR_INTERVALS: \n",
    "        return False\n",
    "    return True"
   ]
  },
  {
   "cell_type": "markdown",
   "metadata": {},
   "source": [
    "## Invalids tests"
   ]
  },
  {
   "cell_type": "code",
   "execution_count": 7,
   "metadata": {
    "collapsed": true
   },
   "outputs": [],
   "source": [
    "# Returns False if any block within signal is identified as invalid (invalid sample detection)\n",
    "def check_invalids(invalids, channel): \n",
    "    if channel not in invalids.keys(): \n",
    "        raise Exception(\"Unknown channel\")\n",
    "    \n",
    "    block_invalids_sum = sum(invalids[channel])\n",
    "    if block_invalids_sum > parameters.INVALIDS_SUM: \n",
    "        return False\n",
    "    return True"
   ]
  },
  {
   "cell_type": "markdown",
   "metadata": {},
   "source": [
    "## Putting it all together"
   ]
  },
  {
   "cell_type": "markdown",
   "metadata": {},
   "source": [
    "Helper methods to check classification of alarms and whether the algorithm classified alarm correctly: "
   ]
  },
  {
   "cell_type": "code",
   "execution_count": 8,
   "metadata": {
    "collapsed": false
   },
   "outputs": [],
   "source": [
    "# Returns type of alarm and whether gold standard classified alarm as true or false\n",
    "def check_gold_standard_classification(fields): \n",
    "    alarm_type, alarm_classification = fields['comments']\n",
    "    \n",
    "    if \"True\" in alarm_classification: \n",
    "        is_true_alarm = True\n",
    "    else:\n",
    "        is_true_alarm = False\n",
    "        \n",
    "    return alarm_type, is_true_alarm\n",
    "\n",
    "# Check if our classification matches with gold standard classification of true/false alarm nature\n",
    "def is_classified_correctly(is_true_alarm, is_regular): \n",
    "    is_classified_true_alarm = not is_regular\n",
    "    matches = is_true_alarm is is_classified_true_alarm\n",
    "    if matches: \n",
    "        return \"\\nMatches! Alarm was a \" + str(is_true_alarm) + \" alarm\"\n",
    "    else:\n",
    "        return \"\\n\" + str(is_true_alarm) + \" alarm classified as a \" + str(is_classified_true_alarm).lower() + \" alarm\""
   ]
  },
  {
   "cell_type": "markdown",
   "metadata": {},
   "source": [
    "### Check interval regular activity"
   ]
  },
  {
   "cell_type": "code",
   "execution_count": 1,
   "metadata": {
    "collapsed": false
   },
   "outputs": [],
   "source": [
    "# Returns True for a given channel if all regular activity tests checked pass\n",
    "def check_interval_regular_activity(rr_intervals, invalids, alarm_duration, channel,\n",
    "                                    should_check_invalids, should_check_rr, should_num_check): \n",
    "    all_checks = np.array([])\n",
    "    \n",
    "    if should_check_rr: \n",
    "        # If the RR intervals should be checked but all annotations missing, auto fail\n",
    "        if len(rr_intervals) == 0: \n",
    "            return False\n",
    "        \n",
    "        stdev_check = check_rr_stdev(rr_intervals)\n",
    "        hr_check = check_heart_rate(rr_intervals, alarm_duration)\n",
    "        sum_check = check_sum_rr_intervals(rr_intervals, alarm_duration)\n",
    "        \n",
    "        all_checks = np.append(all_checks, [stdev_check, hr_check, sum_check])\n",
    "    \n",
    "    if should_num_check:\n",
    "        num_check = check_num_rr_intervals(rr_intervals)\n",
    "        all_checks = np.append(all_checks, [num_check])\n",
    "    \n",
    "    if should_check_invalids: \n",
    "        invalids_check = check_invalids(invalids, channel)\n",
    "        all_checks = np.append(all_checks, invalids_check)\n",
    "                \n",
    "    return np.all(all_checks)"
   ]
  },
  {
   "cell_type": "markdown",
   "metadata": {},
   "source": [
    "### Check regular activity for sample"
   ]
  },
  {
   "cell_type": "code",
   "execution_count": 12,
   "metadata": {
    "collapsed": false
   },
   "outputs": [],
   "source": [
    "# Check overall sample for regular activity by iterating through each channel.\n",
    "# If any channel exhibits regular activity, alarm indicated as false alarm.\n",
    "def is_sample_regular(data_path, \n",
    "                      ann_path, \n",
    "                      sample_name, \n",
    "                      ecg_ann_type,\n",
    "                      alarm_type,\n",
    "                      start=None, \n",
    "                      end=None, \n",
    "                      should_check_invalids=True,\n",
    "                      should_check_rr=True,\n",
    "                      should_num_check=True,\n",
    "                      should_check_nan=True): \n",
    "    sig, fields = wfdb.rdsamp(data_path + sample_name)\n",
    "    channels = fields['signame']\n",
    "    \n",
    "    if start is None or end is None: \n",
    "        start, end, alarm_duration = invalid.get_start_and_end(fields)\n",
    "    else: \n",
    "        alarm_duration = end - start\n",
    "            \n",
    "    invalids = {}    \n",
    "    if should_check_invalids: \n",
    "        invalids = invalid.calculate_invalids_sig(sig, fields, start, end, should_check_nan)\n",
    "\n",
    "    for channel_index in range(len(channels)): \n",
    "        channel = channels[channel_index]\n",
    "        channel_type = invalid.get_channel_type(channel)\n",
    "        \n",
    "        # Ignore respiratory channel\n",
    "        if channel_type == \"Resp\": \n",
    "            continue\n",
    "            \n",
    "        # Only use ECG channels for ventricular fib\n",
    "        if alarm_type == \"Ventricular_Flutter_Fib\": \n",
    "            if channel_type != \"ECG\": \n",
    "                continue\n",
    "            \n",
    "        rr = np.array([])\n",
    "        if should_check_rr: \n",
    "            rr = annotate.get_channel_rr_intervals(ann_path, sample_name, channel_index, fields, ecg_ann_type)\n",
    "            \n",
    "        is_regular = check_interval_regular_activity(rr, invalids, alarm_duration, channel, should_check_invalids,\n",
    "                                                     should_check_rr, should_num_check)\n",
    "                \n",
    "        # If any channel exhibits regular activity, deem signal as regular activity\n",
    "        if is_regular: \n",
    "            return True\n",
    "    return False\n",
    "\n",
    "# sample_name = \"v135l\"\n",
    "# print is_sample_regular(data_path, ann_path, sample_name, ecg_ann_type)"
   ]
  },
  {
   "cell_type": "markdown",
   "metadata": {},
   "source": [
    "### Check regular activity of intermediate data"
   ]
  },
  {
   "cell_type": "code",
   "execution_count": 7,
   "metadata": {
    "collapsed": true
   },
   "outputs": [],
   "source": [
    "# Determines regular activity of sample based on RR intervals and invalids array: \n",
    "# param: rr_dict as a dictionary of the form: \n",
    "#         { channel0: [rr_intervals], channel1: [rr_intervals], ...}\n",
    "# param: alarm_duration duration of alarm in seconds\n",
    "def is_rr_invalids_regular(rr_dict, invalids, alarm_duration, arrhythmia_type,\n",
    "                           should_check_invalids=True, should_check_rr=True, should_num_check=True): \n",
    "\n",
    "    for channel in rr_dict.keys(): \n",
    "        channel_type = invalid.get_channel_type(channel)\n",
    "        \n",
    "        if arrhythmia_type == \"Ventricular_Flutter_Fib\" and channel_type != \"ECG\": \n",
    "            continue       \n",
    "        \n",
    "        rr_intervals = rr_dict[channel]\n",
    "                \n",
    "        is_regular = check_interval_regular_activity(rr_intervals, invalids, alarm_duration, channel, \n",
    "                                                     should_check_invalids, should_check_rr, should_num_check)\n",
    "        \n",
    "        # If any channel is regular, reject alarm as false alarm\n",
    "        if is_regular: \n",
    "            return True\n",
    "    return False        \n",
    "        "
   ]
  },
  {
   "cell_type": "code",
   "execution_count": 4,
   "metadata": {
    "collapsed": false
   },
   "outputs": [
    {
     "ename": "NameError",
     "evalue": "name 'wfdb' is not defined",
     "output_type": "error",
     "traceback": [
      "\u001b[0;31m---------------------------------------------------------------------------\u001b[0m",
      "\u001b[0;31mNameError\u001b[0m                                 Traceback (most recent call last)",
      "\u001b[0;32m<ipython-input-4-c5f5d2382d5d>\u001b[0m in \u001b[0;36m<module>\u001b[0;34m()\u001b[0m\n\u001b[1;32m      5\u001b[0m     \u001b[0mecg_ann_type\u001b[0m \u001b[1;33m=\u001b[0m \u001b[1;34m'jqrs'\u001b[0m\u001b[1;33m\u001b[0m\u001b[0m\n\u001b[1;32m      6\u001b[0m \u001b[1;33m\u001b[0m\u001b[0m\n\u001b[0;32m----> 7\u001b[0;31m     \u001b[0msig\u001b[0m\u001b[1;33m,\u001b[0m \u001b[0mfields\u001b[0m \u001b[1;33m=\u001b[0m \u001b[0mwfdb\u001b[0m\u001b[1;33m.\u001b[0m\u001b[0mrdsamp\u001b[0m\u001b[1;33m(\u001b[0m\u001b[0mdata_path\u001b[0m \u001b[1;33m+\u001b[0m \u001b[0msample_name\u001b[0m\u001b[1;33m)\u001b[0m\u001b[1;33m\u001b[0m\u001b[0m\n\u001b[0m\u001b[1;32m      8\u001b[0m     \u001b[0malarm_type\u001b[0m\u001b[1;33m,\u001b[0m \u001b[0mis_true_alarm\u001b[0m \u001b[1;33m=\u001b[0m \u001b[0mcheck_gold_standard_classification\u001b[0m\u001b[1;33m(\u001b[0m\u001b[0mfields\u001b[0m\u001b[1;33m)\u001b[0m\u001b[1;33m\u001b[0m\u001b[0m\n\u001b[1;32m      9\u001b[0m     \u001b[0mstart\u001b[0m\u001b[1;33m,\u001b[0m \u001b[0mend\u001b[0m\u001b[1;33m,\u001b[0m \u001b[0malarm_duration\u001b[0m \u001b[1;33m=\u001b[0m \u001b[0minvalid\u001b[0m\u001b[1;33m.\u001b[0m\u001b[0mget_start_and_end\u001b[0m\u001b[1;33m(\u001b[0m\u001b[0mfields\u001b[0m\u001b[1;33m)\u001b[0m\u001b[1;33m\u001b[0m\u001b[0m\n",
      "\u001b[0;31mNameError\u001b[0m: name 'wfdb' is not defined"
     ]
    }
   ],
   "source": [
    "if __name__ == '__main__': \n",
    "    data_path = 'sample_data/challenge_training_data/'\n",
    "    ann_path = 'sample_data/challenge_training_multiann/'\n",
    "    sample_name = 'f792s'\n",
    "    ecg_ann_type = 'jqrs'\n",
    "        \n",
    "    sig, fields = wfdb.rdsamp(data_path + sample_name)\n",
    "    alarm_type, is_true_alarm = check_gold_standard_classification(fields)\n",
    "    start, end, alarm_duration = invalid.get_start_and_end(fields)    \n",
    "    \n",
    "    is_regular = is_sample_regular(data_path, ann_path, sample_name, ecg_ann_type, alarm_type)\n",
    "\n",
    "    print is_classified_correctly(is_true_alarm, is_regular)\n",
    "    \n",
    "    annotate.plot_annotations(data_path, ann_path, sample_name, ['jqrs1'], 1, fields['fs'], start, end)"
   ]
  },
  {
   "cell_type": "code",
   "execution_count": null,
   "metadata": {
    "collapsed": true
   },
   "outputs": [],
   "source": []
  }
 ],
 "metadata": {
  "anaconda-cloud": {},
  "kernelspec": {
   "display_name": "Python [Root]",
   "language": "python",
   "name": "Python [Root]"
  },
  "language_info": {
   "codemirror_mode": {
    "name": "ipython",
    "version": 2
   },
   "file_extension": ".py",
   "mimetype": "text/x-python",
   "name": "python",
   "nbconvert_exporter": "python",
   "pygments_lexer": "ipython2",
   "version": "2.7.12"
  }
 },
 "nbformat": 4,
 "nbformat_minor": 0
}
