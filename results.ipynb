{
 "cells": [
  {
   "cell_type": "markdown",
   "metadata": {},
   "source": [
    "# Summary of results"
   ]
  },
  {
   "cell_type": "code",
   "execution_count": null,
   "metadata": {
    "collapsed": false
   },
   "outputs": [],
   "source": [
    "import matplotlib.pyplot  as plt\n",
    "import load_annotations   as annotate\n",
    "import parameters\n",
    "import pipeline\n",
    "import wfdb\n",
    "\n",
    "%matplotlib inline\n",
    "\n",
    "data_path = 'sample_data/challenge_training_data/'\n",
    "ann_path = 'sample_data/challenge_training_multiann/'\n",
    "ecg_ann_type = 'gqrs'\n",
    "data_fs = parameters.DEFAULT_FS"
   ]
  },
  {
   "cell_type": "markdown",
   "metadata": {},
   "source": [
    "## Overview of algorithm"
   ]
  },
  {
   "cell_type": "markdown",
   "metadata": {},
   "source": [
    "![title](figures/overview.jpg)"
   ]
  },
  {
   "cell_type": "markdown",
   "metadata": {},
   "source": [
    "##### Invalid sample detection: \n",
    "Valid if passes all tests: \n",
    "- Histogram check\n",
    "- Values within reasonable range\n",
    "- NaN check\n",
    "- Not too much noise in range 70-90 Hz\n",
    "\n",
    "c_val gives ratio of valid data to overall signal (1.0 = completely valid data)\n",
    "\n",
    "##### Regular activity test: \n",
    "Regular activity if passes all tests: \n",
    "- Valid data (as given by invalid sample detection tests)\n",
    "- Standard deviation of RR intervals\n",
    "- Average HR over entire signal within reasonable limits\n",
    "- Sum of RR intervals is close enough to entire length of signal\n",
    "- Number of total RR intervals above threshold\n",
    "\n",
    "##### Asystole test: \n",
    "- Checks if there are any heart beat annotations for a rolling 3.2 sec window in each of the channels, weighted by the validity coefficient cval\n",
    "\n",
    "##### Bradycardia test: \n",
    "- Chooses the \"most reliable\" channel which passes the sum and count tests with minimum standard deviation\n",
    "- Finds the mininum heart rate for four consecutive beats, return true alarm if < 45 bpm\n",
    "\n",
    "##### Tachycardia test: \n",
    "- Returns true if mean heart rate for overall signal > 135 bpm (given that the stdev test and sum test pass)\n",
    "- Chooses the \"most reliable\" channel and returns true if max heart rate for 12 consecutive beats > 130 bpm\n",
    "\n",
    "##### Ventricular tachycardia test: \n",
    "- ECG channels: 4 consecutive ventricular beats at a heart rate of > 95 bpm\n",
    "- ABP channel: searches for a 3s window with standard deviation < 6 mmHg\n",
    "- If local scores weighted by validity score (cval) sum to > 0, return true\n",
    "\n",
    "##### Ventricular flutter/fibrillation test: \n",
    "- Only reject alarm in regular activity test based on ECG channels\n",
    "- Check maximum duration of low frequency dominance; if > 3 sec, set vector R to 1's\n",
    "- ABP channel: if stdev in a rolling 2 sec window < 6 mmHg, reinforces likelihood of vfib in that section (add cval to R vector)\n",
    "- ECG channels: dominant frequencies are calculated, if any part of the signal has irregular activity with a dominant frequency > 2 Hz and R value > 0, return true"
   ]
  },
  {
   "cell_type": "markdown",
   "metadata": {},
   "source": [
    "## Overall comparison of results"
   ]
  },
  {
   "cell_type": "markdown",
   "metadata": {},
   "source": [
    "#### Confusion matrix for current algorithm: \n",
    "|           | **True**                    | **False** |        \n",
    "| ---       | :---:                       | :---:     |\n",
    "| **True**  | 249                         | 95        |\n",
    "| **False** | <font color='red'>45</font> | 361       |\n",
    "\n",
    "|           | **True**                        | **False** |        \n",
    "| ---       | :---:                           | :---:     |\n",
    "| **True**  | 0.332                           | 0.127     |\n",
    "| **False** | <font color='red'>0.06</font>   | 0.481     |\n",
    "\n",
    "| **Asys** | **Brady** | **Tachy** | **Vfib/flutter** | **Vtach** |\n",
    "| :---:    | :---:     | :---:     | :---:            | :---:     |\n",
    "| 1        | 8         | 2         | 0                | 34        |"
   ]
  },
  {
   "cell_type": "markdown",
   "metadata": {},
   "source": [
    "#### Confusion matrix for other algorithms: \n",
    "\n",
    "##### fplesinger-210: \n",
    "|           | **True**                    | **False** |        \n",
    "| ---       | :---:                       | :---:     |\n",
    "| **True**  | 275                         | 64        |\n",
    "| **False** | <font color='red'>19</font> | 392       |\n",
    "\n",
    "| **Asys** | **Brady** | **Tachy** | **Vfib/flutter** | **Vtach** |\n",
    "| :---:    | :---:     | :---:     | :---:            | :---:     |\n",
    "| 1        | 1         | 1         | 1                | 15        |\n",
    "\n",
    "\n",
    "##### l.m.eerikainen-209:\n",
    "|           | **True**                    | **False** |        \n",
    "| ---       | :---:                       | :---:     |\n",
    "| **True**  | 294                         | 65        |\n",
    "| **False** | <font color='red'>0</font>  | 391       |\n",
    "\n",
    "\n",
    "##### bellea-212:\n",
    "|           | **True**                    | **False** |        \n",
    "| ---       | :---:                       | :---:     |\n",
    "| **True**  | 291                         | 327       |\n",
    "| **False** | <font color='red'>3</font>  | 129       |\n",
    "\n",
    "\n",
    "| **Asys** | **Brady** | **Tachy** | **Vfib/flutter** | **Vtach** |\n",
    "| :---:    | :---:     | :---:     | :---:            | :---:     |\n",
    "| 3        | 0         | 0         | 0                | 0         |\n",
    "\n",
    "##### hoog.antink-216:\n",
    "|           | **True**                    | **False** |        \n",
    "| ---       | :---:                       | :---:     |\n",
    "| **True**  | 291                         | 89        |\n",
    "| **False** | <font color='red'>3</font>  | 367       |\n",
    "\n",
    "\n",
    "| **Asys** | **Brady** | **Tachy** | **Vfib/flutter** | **Vtach** |\n",
    "| :---:    | :---:     | :---:     | :---:            | :---:     |\n",
    "| 0        | 0         | 0         | 0                | 3         |\n",
    "\n",
    "##### vxk106120-213:\n",
    "|           | **True**                    | **False** |        \n",
    "| ---       | :---:                       | :---:     |\n",
    "| **True**  | 280                         | 74        |\n",
    "| **False** | <font color='red'>14</font> | 382       |\n",
    "\n",
    "| **Asys** | **Brady** | **Tachy** | **Vfib/flutter** | **Vtach** |\n",
    "| :---:    | :---:     | :---:     | :---:            | :---:     |\n",
    "| 0        | 0         | 0         | 0                | 14        |\n",
    "\n",
    "\n",
    "##### bestcly-204:\n",
    "|           | **True**                    | **False** |        \n",
    "| ---       | :---:                       | :---:     |\n",
    "| **True**  | 277                         | 133       |\n",
    "| **False** | <font color='red'>17</font> | 323       |\n",
    "\n",
    "| **Asys** | **Brady** | **Tachy** | **Vfib/flutter** | **Vtach** |\n",
    "| :---:    | :---:     | :---:     | :---:            | :---:     |\n",
    "| 0        | 3         | 1         | 0                | 13        |\n",
    "\n",
    "\n",
    "##### sibylle.fallet-210: \n",
    "|           | **True**                    | **False** |        \n",
    "| ---       | :---:                       | :---:     |\n",
    "| **True**  | 276                         | 108       |\n",
    "| **False** | <font color='red'>18</font> | 348       |\n",
    "\n",
    "| **Asys** | **Brady** | **Tachy** | **Vfib/flutter** | **Vtach** |\n",
    "| :---:    | :---:     | :---:     | :---:            | :---:     |\n",
    "| 0        | 1         | 4         | 0                | 13        |\n"
   ]
  },
  {
   "cell_type": "markdown",
   "metadata": {},
   "source": [
    "## Examples"
   ]
  },
  {
   "cell_type": "code",
   "execution_count": null,
   "metadata": {
    "collapsed": true
   },
   "outputs": [],
   "source": [
    "def classify_and_plot_signal(data_path, ann_path, sample_name, ecg_ann_type, verbose=False): \n",
    "    true_alarm = pipeline.is_true_alarm(data_path, sample_name)\n",
    "    classified_true_alarm = pipeline.is_classified_true_alarm(data_path, ann_path, sample_name, ecg_ann_type, verbose)\n",
    "    matrix_classification = pipeline.get_confusion_matrix_classification(true_alarm, classified_true_alarm)\n",
    "\n",
    "    title = matrix_classification + \": \" + sample_name\n",
    "    plot_signal(data_path, sample_name, title)\n",
    "\n",
    "    \n",
    "def plot_signal(data_path, sample_name, plot_title=\"\"): \n",
    "    sig, fields = wfdb.rdsamp(data_path + sample_name)\n",
    "    fs = fields['fs']\n",
    "    channels = fields['signame']\n",
    "    non_resp_channels = [ index for index in range(len(channels)) if channels[index] != \"RESP\" ]\n",
    "    alarm_type = fields['comments'][0]\n",
    "    tested_block_length = parameters.TESTED_BLOCK_LENGTHS[alarm_type]\n",
    "    \n",
    "    start_time, end_time = parameters.ALARM_TIME - tested_block_length, parameters.ALARM_TIME\n",
    "    start, end = int(start_time * fs), int(end_time * fs)\n",
    "    wfdb.plotwfdb(sig[start:end, non_resp_channels], fields, title=plot_title)\n",
    "    "
   ]
  },
  {
   "cell_type": "markdown",
   "metadata": {},
   "source": [
    "### Asystole"
   ]
  },
  {
   "cell_type": "markdown",
   "metadata": {},
   "source": [
    "#### True positive"
   ]
  },
  {
   "cell_type": "code",
   "execution_count": null,
   "metadata": {
    "collapsed": false
   },
   "outputs": [],
   "source": [
    "sample_name = \"a161l\"\n",
    "classify_and_plot_signal(data_path, ann_path, sample_name, ecg_ann_type)"
   ]
  },
  {
   "cell_type": "markdown",
   "metadata": {},
   "source": [
    "#### False negative"
   ]
  },
  {
   "cell_type": "code",
   "execution_count": null,
   "metadata": {
    "collapsed": false
   },
   "outputs": [],
   "source": [
    "sample_name = \"a670s\"\n",
    "classify_and_plot_signal(data_path, ann_path, sample_name, ecg_ann_type)"
   ]
  },
  {
   "cell_type": "markdown",
   "metadata": {
    "collapsed": true
   },
   "source": [
    "Annotations indicated for pacemarker artefacts despite not QRS --> asystole not detected because QRS complexes annotated in ECG channels"
   ]
  },
  {
   "cell_type": "code",
   "execution_count": null,
   "metadata": {
    "collapsed": false,
    "scrolled": false
   },
   "outputs": [],
   "source": [
    "channel_index = 0\n",
    "start, end = 294, 298.5\n",
    "annotate.plot_annotations(data_path, ann_path, sample_name, channel_index, start, end, ecg_ann_type, data_fs)"
   ]
  },
  {
   "cell_type": "markdown",
   "metadata": {},
   "source": [
    "### Bradycardia"
   ]
  },
  {
   "cell_type": "markdown",
   "metadata": {},
   "source": [
    "All bradycardia samples which were false negatives:\n",
    "- b183l\n",
    "- b187l\n",
    "- b379l\n",
    "- b494s\n",
    "- b495l\n",
    "- b497l\n",
    "- b672s\n",
    "- b734s"
   ]
  },
  {
   "cell_type": "markdown",
   "metadata": {},
   "source": [
    "#### Representative false negative"
   ]
  },
  {
   "cell_type": "code",
   "execution_count": null,
   "metadata": {
    "collapsed": false
   },
   "outputs": [],
   "source": [
    "sample_name = \"b497l\"\n",
    "classify_and_plot_signal(data_path, ann_path, sample_name, ecg_ann_type, verbose=True)"
   ]
  },
  {
   "cell_type": "markdown",
   "metadata": {
    "collapsed": true
   },
   "source": [
    "The cutoff HR for bradycardia is 45 bpm. Most of the false negatives have heart rates only slightly greater than the cutoff. "
   ]
  },
  {
   "cell_type": "markdown",
   "metadata": {},
   "source": [
    "#### Interesting annotations/signals?"
   ]
  },
  {
   "cell_type": "code",
   "execution_count": null,
   "metadata": {
    "collapsed": false
   },
   "outputs": [],
   "source": [
    "sample_name = \"b187l\"\n",
    "classify_and_plot_signal(data_path, ann_path, sample_name, ecg_ann_type, verbose=True)"
   ]
  },
  {
   "cell_type": "markdown",
   "metadata": {},
   "source": [
    "Very different annotations between the different ECG channels. II channel was chosen by the algorithm to find the min HR in determining bradycardia."
   ]
  },
  {
   "cell_type": "code",
   "execution_count": null,
   "metadata": {
    "collapsed": false,
    "scrolled": false
   },
   "outputs": [],
   "source": [
    "start, end = 284, 300\n",
    "annotate.plot_annotations(data_path, ann_path, sample_name, 0, start, end, ecg_ann_type, data_fs)\n",
    "annotate.plot_annotations(data_path, ann_path, sample_name, 1, start, end, ecg_ann_type, data_fs)"
   ]
  },
  {
   "cell_type": "markdown",
   "metadata": {},
   "source": [
    "Similar issue for \"b494s\": (channel II was selected as the best channel)"
   ]
  },
  {
   "cell_type": "code",
   "execution_count": null,
   "metadata": {
    "collapsed": false
   },
   "outputs": [],
   "source": [
    "sample_name = \"b494s\"\n",
    "classify_and_plot_signal(data_path, ann_path, sample_name, ecg_ann_type, verbose=True)\n",
    "\n",
    "start, end = 295, 300\n",
    "annotate.plot_annotations(data_path, ann_path, sample_name, 0, start, end, ecg_ann_type, data_fs)"
   ]
  },
  {
   "cell_type": "markdown",
   "metadata": {},
   "source": [
    "### Tachycardia"
   ]
  },
  {
   "cell_type": "markdown",
   "metadata": {},
   "source": [
    "#### Too few beats before alarm"
   ]
  },
  {
   "cell_type": "code",
   "execution_count": null,
   "metadata": {
    "collapsed": false
   },
   "outputs": [],
   "source": [
    "sample_name = \"t418s\"\n",
    "classify_and_plot_signal(data_path, ann_path, sample_name, ecg_ann_type, verbose=True)"
   ]
  },
  {
   "cell_type": "markdown",
   "metadata": {},
   "source": [
    "II channel was chosen by the algorithm to find the max HR in determining tachycardia. This ECG data segment has a high heart rate for a short period of time at the end of the segment right before the alarm gets triggered. Because a high heart rate is only seen at the end of the segment, the overall HR for a segment of at least 12 beats (as necessitated by the algorithm) is not seen to be higher than the minimum needed to trigger tachycardia."
   ]
  },
  {
   "cell_type": "code",
   "execution_count": null,
   "metadata": {
    "collapsed": false
   },
   "outputs": [],
   "source": [
    "start, end = 290, 300\n",
    "annotate.plot_annotations(data_path, ann_path, sample_name, 0, start, end, ecg_ann_type, data_fs, loc=2)\n",
    "annotate.plot_annotations(data_path, ann_path, sample_name, 1, start, end, ecg_ann_type, data_fs, loc=3)"
   ]
  },
  {
   "cell_type": "markdown",
   "metadata": {},
   "source": [
    "#### Poor selection of best channel"
   ]
  },
  {
   "cell_type": "code",
   "execution_count": null,
   "metadata": {
    "collapsed": false
   },
   "outputs": [],
   "source": [
    "sample_name = \"t700s\"\n",
    "classify_and_plot_signal(data_path, ann_path, sample_name, ecg_ann_type, verbose=True)"
   ]
  },
  {
   "cell_type": "markdown",
   "metadata": {},
   "source": [
    "II channel is chosen by the algorithm as the channel by which to determine tachycardia, even though the annotations for the second channel (V) is much cleaner. This is because of the criterion used to determine the \"best\" channel: min standard deviation of all the channels that satisfy the other tests (# of annotations and sum of the annotations > min threshold). This is maybe not the best/most relevant criterion in deciding the best test, and we should likely explore something else to eliminate these false negatives. "
   ]
  },
  {
   "cell_type": "code",
   "execution_count": null,
   "metadata": {
    "collapsed": false
   },
   "outputs": [],
   "source": [
    "start, end = 290, 300\n",
    "annotate.plot_annotations(data_path, ann_path, sample_name, 0, start, end, ecg_ann_type, data_fs, loc=4)\n",
    "annotate.plot_annotations(data_path, ann_path, sample_name, 1, start, end, ecg_ann_type, data_fs, loc=4)"
   ]
  },
  {
   "cell_type": "markdown",
   "metadata": {},
   "source": [
    "### Ventricular tachycardia"
   ]
  },
  {
   "cell_type": "markdown",
   "metadata": {
    "collapsed": true
   },
   "source": [
    "All vtach samples which were false negatives:\n",
    "- Detected in one channel: v131l, v133l, v139l, v158s, v197l, v348s, v471l (missing annotations), v523l, v525l, v574s, v579l (missing annotations), v597l, v607l (missing annotations), v629l, v636s, v696s, v701l, v724s, v761l (weird MCL channel), v773l, v793l, v797l (missing annotations), v805l, v806s (missing annotations), v813l (missing annotations), v818s (slightly offset annotations)\n",
    "- Detected in no channels: v206s, v334s, v448s (irregular signal), v728s, v831l, v571l (missing annotations, flutter)\n",
    "- Vtach?: v206s, v534s\n",
    "- Detected in both channels: v626s"
   ]
  },
  {
   "cell_type": "code",
   "execution_count": null,
   "metadata": {
    "collapsed": false
   },
   "outputs": [],
   "source": [
    "sample_name = \"v206s\"\n",
    "classify_and_plot_signal(data_path, ann_path, sample_name, ecg_ann_type, verbose=True)"
   ]
  },
  {
   "cell_type": "markdown",
   "metadata": {},
   "source": [
    "#### Detected in one channel"
   ]
  },
  {
   "cell_type": "code",
   "execution_count": null,
   "metadata": {
    "collapsed": false,
    "scrolled": false
   },
   "outputs": [],
   "source": [
    "sample_name = \"v133l\"\n",
    "classify_and_plot_signal(data_path, ann_path, sample_name, ecg_ann_type, verbose=True)"
   ]
  },
  {
   "cell_type": "markdown",
   "metadata": {},
   "source": [
    "Three things to note here: \n",
    "1. Even though a high enough ventricular heart rate is detected on one of the channels, this is canceled out by the other channel so the alarm is flagged as a false alarm. \n",
    "2. Many normal beats are incorrectly detected as ventricular beats.\n",
    "3. Missing annotations of QRS complexes"
   ]
  },
  {
   "cell_type": "markdown",
   "metadata": {},
   "source": [
    "#### Detected in both channels"
   ]
  },
  {
   "cell_type": "code",
   "execution_count": null,
   "metadata": {
    "collapsed": false
   },
   "outputs": [],
   "source": [
    "sample_name = \"v626s\"\n",
    "classify_and_plot_signal(data_path, ann_path, sample_name, ecg_ann_type, verbose=True)"
   ]
  },
  {
   "cell_type": "markdown",
   "metadata": {},
   "source": [
    "Here, even though the overall ventricular HR > 95 bpm for both ECG channels, the ventricular beats are detected in different parts of the signal. The channels' local scores therefore cancel each other out, despite the overall HR being above the threshold. "
   ]
  },
  {
   "cell_type": "markdown",
   "metadata": {},
   "source": [
    "#### Irregular signal"
   ]
  },
  {
   "cell_type": "code",
   "execution_count": null,
   "metadata": {
    "collapsed": false
   },
   "outputs": [],
   "source": [
    "sample_name = \"v448s\"\n",
    "classify_and_plot_signal(data_path, ann_path, sample_name, ecg_ann_type, verbose=True)"
   ]
  },
  {
   "cell_type": "markdown",
   "metadata": {},
   "source": [
    "## Obvious avenues of improvement"
   ]
  },
  {
   "cell_type": "markdown",
   "metadata": {},
   "source": [
    "1. Improve criteria for selecting \"best\" channel for bradycardia and tachycardia\n",
    "2. Fewer beats necessary to detect tachycardia \n",
    "3. Better annotations for QRS complexes\n",
    "4. Ventricular tachycardia detected in one channel can be canceled out by vtach not detected in other channel"
   ]
  }
 ],
 "metadata": {
  "anaconda-cloud": {},
  "kernelspec": {
   "display_name": "Python [Root]",
   "language": "python",
   "name": "Python [Root]"
  }
 },
 "nbformat": 4,
 "nbformat_minor": 0
}
