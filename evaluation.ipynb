{
 "cells": [
  {
   "cell_type": "markdown",
   "metadata": {},
   "source": [
    "# Evaluation "
   ]
  },
  {
   "cell_type": "code",
   "execution_count": 2,
   "metadata": {
    "collapsed": false
   },
   "outputs": [],
   "source": [
    "import numpy              as np\n",
    "import regular_activity   as regular\n",
    "import parameters\n",
    "import wfdb\n",
    "import os\n",
    "\n",
    "%matplotlib inline\n",
    "%config IPCompleter.greedy=True"
   ]
  },
  {
   "cell_type": "markdown",
   "metadata": {},
   "source": [
    "## Evaluation metrics"
   ]
  },
  {
   "cell_type": "code",
   "execution_count": 3,
   "metadata": {
    "collapsed": true
   },
   "outputs": [],
   "source": [
    "def generate_confusion_matrix(data_path, ann_path, ann_type): \n",
    "    confusion_matrix = {\n",
    "        \"TP\": 0.,\n",
    "        \"FP\": 0.,\n",
    "        \"FN\": 0.,\n",
    "        \"TN\": 0.\n",
    "    }\n",
    "    \n",
    "    for filename in os.listdir(data_path):\n",
    "        if filename.endswith(parameters.HEADER_EXTENSION) and os.path.isfile(ann_path + filename):\n",
    "            sample_name = filename.rstrip(parameters.HEADER_EXTENSION)            \n",
    "            \n",
    "            if not os.path.isfile(ann_path + sample_name + parameters.JQRS_EXTENSION): \n",
    "                continue\n",
    "            \n",
    "            sig, fields = wfdb.rdsamp(data_path + sample_name)\n",
    "            alarm_type, is_true_alarm = regular.check_gold_standard_classification(fields)\n",
    "            \n",
    "            is_regular = regular.is_sample_regular(data_path, ann_path, sample_name, ann_type)\n",
    "            \n",
    "            # Classified as a true alarm if no regular activity \n",
    "            classified_true_alarm = not is_regular\n",
    "            \n",
    "            if is_true_alarm and classified_true_alarm: \n",
    "                confusion_matrix[\"TP\"] += 1\n",
    "                \n",
    "            elif is_true_alarm and not classified_true_alarm: \n",
    "                confusion_matrix[\"FN\"] += 1\n",
    "                \n",
    "            elif not is_true_alarm and classified_true_alarm: \n",
    "                confusion_matrix[\"FP\"] += 1\n",
    "                \n",
    "            else: \n",
    "                confusion_matrix[\"TN\"] += 1\n",
    "                \n",
    "    return confusion_matrix"
   ]
  },
  {
   "cell_type": "code",
   "execution_count": 4,
   "metadata": {
    "collapsed": false
   },
   "outputs": [],
   "source": [
    "def calc_sensitivity(confusion_matrix): \n",
    "    tp = confusion_matrix[\"TP\"]\n",
    "    fn = confusion_matrix[\"FN\"]\n",
    "    return tp / (tp + fn)\n",
    "    \n",
    "def calc_specificity(confusion_matrix): \n",
    "    tn = confusion_matrix[\"TN\"]\n",
    "    fp = confusion_matrix[\"FP\"]\n",
    "    return tn / (tn + fp)\n",
    "\n",
    "def calc_ppv(confusion_matrix): \n",
    "    tp = confusion_matrix[\"TP\"]\n",
    "    fp = confusion_matrix[\"FP\"]\n",
    "    return tp / (tp + fp)\n",
    "\n",
    "def calc_f1(confusion_matrix): \n",
    "    sensitivity = calc_sensitivity(confusion_matrix)\n",
    "    ppv = calc_ppv(confusion_matrix)\n",
    "    \n",
    "    return 2 * sensitivity * ppv / (sensitivity + ppv)    "
   ]
  },
  {
   "cell_type": "code",
   "execution_count": 5,
   "metadata": {
    "collapsed": false
   },
   "outputs": [
    {
     "name": "stderr",
     "output_type": "stream",
     "text": [
      "/home/liandrea/anaconda2/lib/python2.7/site-packages/numpy/lib/function_base.py:3834: RuntimeWarning: Invalid value encountered in percentile\n",
      "  RuntimeWarning)\n"
     ]
    },
    {
     "name": "stdout",
     "output_type": "stream",
     "text": [
      "No annotations in specified sample range\n",
      "No annotations in specified sample range\n",
      "No annotations in specified sample range\n",
      "No annotations in specified sample range\n",
      "No annotations in specified sample range\n",
      "No annotations in specified sample range\n",
      "No annotations in specified sample range\n",
      "No annotations in specified sample range\n"
     ]
    },
    {
     "name": "stderr",
     "output_type": "stream",
     "text": [
      "/home/liandrea/anaconda2/lib/python2.7/site-packages/numpy/core/_methods.py:82: RuntimeWarning: Degrees of freedom <= 0 for slice\n",
      "  warnings.warn(\"Degrees of freedom <= 0 for slice\", RuntimeWarning)\n",
      "/home/liandrea/anaconda2/lib/python2.7/site-packages/numpy/core/_methods.py:94: RuntimeWarning: invalid value encountered in true_divide\n",
      "  arrmean, rcount, out=arrmean, casting='unsafe', subok=False)\n",
      "/home/liandrea/anaconda2/lib/python2.7/site-packages/numpy/core/_methods.py:116: RuntimeWarning: invalid value encountered in double_scalars\n",
      "  ret = ret.dtype.type(ret / rcount)\n"
     ]
    },
    {
     "name": "stdout",
     "output_type": "stream",
     "text": [
      "No annotations in specified sample range\n",
      "No annotations in specified sample range\n",
      "No annotations in specified sample range\n",
      "No annotations in specified sample range\n",
      "No annotations in specified sample range\n"
     ]
    },
    {
     "ename": "IOError",
     "evalue": "[Errno 2] No such file or directory: 'sample_data/challenge_training_ann/v774s.jqrs'",
     "output_type": "error",
     "traceback": [
      "\u001b[1;31m---------------------------------------------------------------------------\u001b[0m",
      "\u001b[1;31mIOError\u001b[0m                                   Traceback (most recent call last)",
      "\u001b[1;32m<ipython-input-5-e42e6d7d4fff>\u001b[0m in \u001b[0;36m<module>\u001b[1;34m()\u001b[0m\n\u001b[0;32m      4\u001b[0m     \u001b[0mann_type\u001b[0m \u001b[1;33m=\u001b[0m \u001b[1;34m'jqrs'\u001b[0m\u001b[1;33m\u001b[0m\u001b[0m\n\u001b[0;32m      5\u001b[0m \u001b[1;33m\u001b[0m\u001b[0m\n\u001b[1;32m----> 6\u001b[1;33m     \u001b[0mconfusion_matrix\u001b[0m \u001b[1;33m=\u001b[0m \u001b[0mgenerate_confusion_matrix\u001b[0m\u001b[1;33m(\u001b[0m\u001b[0mdata_path\u001b[0m\u001b[1;33m,\u001b[0m \u001b[0mann_path\u001b[0m\u001b[1;33m,\u001b[0m \u001b[0mann_type\u001b[0m\u001b[1;33m)\u001b[0m\u001b[1;33m\u001b[0m\u001b[0m\n\u001b[0m\u001b[0;32m      7\u001b[0m \u001b[1;33m\u001b[0m\u001b[0m\n\u001b[0;32m      8\u001b[0m     \u001b[0msensitivity\u001b[0m \u001b[1;33m=\u001b[0m \u001b[0mcalc_sensitivity\u001b[0m\u001b[1;33m(\u001b[0m\u001b[0mconfusion_matrix\u001b[0m\u001b[1;33m)\u001b[0m\u001b[1;33m\u001b[0m\u001b[0m\n",
      "\u001b[1;32m<ipython-input-3-49bb57f12c28>\u001b[0m in \u001b[0;36mgenerate_confusion_matrix\u001b[1;34m(data_path, ann_path, ann_type)\u001b[0m\n\u001b[0;32m     13\u001b[0m             \u001b[0malarm_type\u001b[0m\u001b[1;33m,\u001b[0m \u001b[0mis_true_alarm\u001b[0m \u001b[1;33m=\u001b[0m \u001b[0mregular\u001b[0m\u001b[1;33m.\u001b[0m\u001b[0mcheck_gold_standard_classification\u001b[0m\u001b[1;33m(\u001b[0m\u001b[0mfields\u001b[0m\u001b[1;33m)\u001b[0m\u001b[1;33m\u001b[0m\u001b[0m\n\u001b[0;32m     14\u001b[0m \u001b[1;33m\u001b[0m\u001b[0m\n\u001b[1;32m---> 15\u001b[1;33m             \u001b[0mis_regular\u001b[0m \u001b[1;33m=\u001b[0m \u001b[0mregular\u001b[0m\u001b[1;33m.\u001b[0m\u001b[0mis_sample_regular\u001b[0m\u001b[1;33m(\u001b[0m\u001b[0mdata_path\u001b[0m\u001b[1;33m,\u001b[0m \u001b[0mann_path\u001b[0m\u001b[1;33m,\u001b[0m \u001b[0msample_name\u001b[0m\u001b[1;33m,\u001b[0m \u001b[0mann_type\u001b[0m\u001b[1;33m)\u001b[0m\u001b[1;33m\u001b[0m\u001b[0m\n\u001b[0m\u001b[0;32m     16\u001b[0m \u001b[1;33m\u001b[0m\u001b[0m\n\u001b[0;32m     17\u001b[0m             \u001b[1;31m# Classified as a true alarm if no regular activity\u001b[0m\u001b[1;33m\u001b[0m\u001b[1;33m\u001b[0m\u001b[0m\n",
      "\u001b[1;32m/home/liandrea/SuperUROP/false-alarm-reduction/regular_activity.pyc\u001b[0m in \u001b[0;36mis_sample_regular\u001b[1;34m(data_path, ann_path, sample_name, ann_type)\u001b[0m\n\u001b[0;32m    160\u001b[0m \u001b[1;32mdef\u001b[0m \u001b[0mis_sample_regular\u001b[0m\u001b[1;33m(\u001b[0m\u001b[0mdata_path\u001b[0m\u001b[1;33m,\u001b[0m \u001b[0mann_path\u001b[0m\u001b[1;33m,\u001b[0m \u001b[0msample_name\u001b[0m\u001b[1;33m,\u001b[0m \u001b[0mann_type\u001b[0m\u001b[1;33m)\u001b[0m\u001b[1;33m:\u001b[0m\u001b[1;33m\u001b[0m\u001b[0m\n\u001b[0;32m    161\u001b[0m     \u001b[0mstart\u001b[0m\u001b[1;33m,\u001b[0m \u001b[0mend\u001b[0m\u001b[1;33m,\u001b[0m \u001b[0malarm_duration\u001b[0m \u001b[1;33m=\u001b[0m \u001b[0mget_start_and_end\u001b[0m\u001b[1;33m(\u001b[0m\u001b[0mdata_path\u001b[0m\u001b[1;33m,\u001b[0m \u001b[0msample_name\u001b[0m\u001b[1;33m)\u001b[0m\u001b[1;33m\u001b[0m\u001b[0m\n\u001b[1;32m--> 162\u001b[1;33m     \u001b[0mis_regular\u001b[0m \u001b[1;33m=\u001b[0m \u001b[0mcheck_channel_regular_activity\u001b[0m\u001b[1;33m(\u001b[0m\u001b[0mdata_path\u001b[0m\u001b[1;33m,\u001b[0m \u001b[0mann_path\u001b[0m\u001b[1;33m,\u001b[0m \u001b[0msample_name\u001b[0m\u001b[1;33m,\u001b[0m \u001b[0mann_type\u001b[0m\u001b[1;33m,\u001b[0m \u001b[0mstart\u001b[0m\u001b[1;33m,\u001b[0m \u001b[0mend\u001b[0m\u001b[1;33m,\u001b[0m \u001b[0malarm_duration\u001b[0m\u001b[1;33m)\u001b[0m\u001b[1;33m\u001b[0m\u001b[0m\n\u001b[0m\u001b[0;32m    163\u001b[0m \u001b[1;33m\u001b[0m\u001b[0m\n\u001b[0;32m    164\u001b[0m     \u001b[1;32mreturn\u001b[0m \u001b[0mis_regular\u001b[0m\u001b[1;33m\u001b[0m\u001b[0m\n",
      "\u001b[1;32m/home/liandrea/SuperUROP/false-alarm-reduction/regular_activity.pyc\u001b[0m in \u001b[0;36mcheck_channel_regular_activity\u001b[1;34m(data_path, ann_path, sample_name, ann_type, start, end, alarm_duration)\u001b[0m\n\u001b[0;32m    141\u001b[0m \u001b[1;33m\u001b[0m\u001b[0m\n\u001b[0;32m    142\u001b[0m     \u001b[1;31m# TODO(liandrea): calculate RR intervals for all channels and move block into for-loop\u001b[0m\u001b[1;33m\u001b[0m\u001b[1;33m\u001b[0m\u001b[0m\n\u001b[1;32m--> 143\u001b[1;33m     \u001b[0mchannel0_rr_intervals\u001b[0m \u001b[1;33m=\u001b[0m \u001b[0mannotate\u001b[0m\u001b[1;33m.\u001b[0m\u001b[0mcalculate_rr_intervals\u001b[0m\u001b[1;33m(\u001b[0m\u001b[0mann_path\u001b[0m \u001b[1;33m+\u001b[0m \u001b[0msample_name\u001b[0m\u001b[1;33m,\u001b[0m \u001b[1;36m0\u001b[0m\u001b[1;33m,\u001b[0m \u001b[0mfs\u001b[0m\u001b[1;33m,\u001b[0m \u001b[0mann_type\u001b[0m\u001b[1;33m,\u001b[0m \u001b[0mstart\u001b[0m\u001b[1;33m,\u001b[0m \u001b[0mend\u001b[0m\u001b[1;33m)\u001b[0m\u001b[1;33m\u001b[0m\u001b[0m\n\u001b[0m\u001b[0;32m    144\u001b[0m \u001b[1;33m\u001b[0m\u001b[0m\n\u001b[0;32m    145\u001b[0m     \u001b[1;32mfor\u001b[0m \u001b[0mchannel_index\u001b[0m \u001b[1;32min\u001b[0m \u001b[0mrange\u001b[0m\u001b[1;33m(\u001b[0m\u001b[0mnum_channels\u001b[0m\u001b[1;33m)\u001b[0m\u001b[1;33m:\u001b[0m\u001b[1;33m\u001b[0m\u001b[0m\n",
      "\u001b[1;32m/home/liandrea/SuperUROP/false-alarm-reduction/load_annotations.py\u001b[0m in \u001b[0;36mcalculate_rr_intervals\u001b[1;34m(sample, channel, fs, ann_type, start, end)\u001b[0m\n\u001b[0;32m     76\u001b[0m \u001b[1;31m# Calculate RR intervals in the sample, where\u001b[0m\u001b[1;33m\u001b[0m\u001b[1;33m\u001b[0m\u001b[0m\n\u001b[0;32m     77\u001b[0m \u001b[1;32mdef\u001b[0m \u001b[0mcalculate_rr_intervals\u001b[0m\u001b[1;33m(\u001b[0m\u001b[0msample\u001b[0m\u001b[1;33m,\u001b[0m \u001b[0mchannel\u001b[0m\u001b[1;33m,\u001b[0m \u001b[0mfs\u001b[0m\u001b[1;33m,\u001b[0m \u001b[0mann_type\u001b[0m\u001b[1;33m,\u001b[0m \u001b[0mstart\u001b[0m\u001b[1;33m,\u001b[0m \u001b[0mend\u001b[0m\u001b[1;33m)\u001b[0m\u001b[1;33m:\u001b[0m\u001b[1;33m\u001b[0m\u001b[0m\n\u001b[1;32m---> 78\u001b[1;33m     \u001b[0mannotation\u001b[0m \u001b[1;33m=\u001b[0m \u001b[0mwfdb\u001b[0m\u001b[1;33m.\u001b[0m\u001b[0mrdann\u001b[0m\u001b[1;33m(\u001b[0m\u001b[0msample\u001b[0m\u001b[1;33m,\u001b[0m \u001b[0mann_type\u001b[0m\u001b[1;33m,\u001b[0m \u001b[0msampfrom\u001b[0m \u001b[1;33m=\u001b[0m \u001b[0mstart\u001b[0m\u001b[1;33m,\u001b[0m \u001b[0msampto\u001b[0m \u001b[1;33m=\u001b[0m \u001b[0mend\u001b[0m\u001b[1;33m)\u001b[0m\u001b[1;33m\u001b[0m\u001b[0m\n\u001b[0m\u001b[0;32m     79\u001b[0m \u001b[1;33m\u001b[0m\u001b[0m\n\u001b[0;32m     80\u001b[0m     \u001b[1;31m# Convert annotations sample numbers into seconds if annotations in signal\u001b[0m\u001b[1;33m\u001b[0m\u001b[1;33m\u001b[0m\u001b[0m\n",
      "\u001b[1;32m/home/liandrea/anaconda2/lib/python2.7/site-packages/wfdb/_rdann.pyc\u001b[0m in \u001b[0;36mrdann\u001b[1;34m(recordname, annot, sampfrom, sampto, anndisp)\u001b[0m\n\u001b[0;32m    186\u001b[0m \u001b[1;33m\u001b[0m\u001b[0m\n\u001b[0;32m    187\u001b[0m     \u001b[1;31m# Read the file's byte pairs\u001b[0m\u001b[1;33m\u001b[0m\u001b[1;33m\u001b[0m\u001b[0m\n\u001b[1;32m--> 188\u001b[1;33m     \u001b[0mfilebytes\u001b[0m \u001b[1;33m=\u001b[0m \u001b[0mloaddata\u001b[0m\u001b[1;33m(\u001b[0m\u001b[0mrecordname\u001b[0m\u001b[1;33m,\u001b[0m \u001b[0mannot\u001b[0m\u001b[1;33m)\u001b[0m\u001b[1;33m\u001b[0m\u001b[0m\n\u001b[0m\u001b[0;32m    189\u001b[0m \u001b[1;33m\u001b[0m\u001b[0m\n\u001b[0;32m    190\u001b[0m     \u001b[1;31m# Initialise arrays to the total number of annotations in the file\u001b[0m\u001b[1;33m\u001b[0m\u001b[1;33m\u001b[0m\u001b[0m\n",
      "\u001b[1;32m/home/liandrea/anaconda2/lib/python2.7/site-packages/wfdb/_rdann.pyc\u001b[0m in \u001b[0;36mloaddata\u001b[1;34m(recordname, annot)\u001b[0m\n\u001b[0;32m      7\u001b[0m \u001b[1;33m\u001b[0m\u001b[0m\n\u001b[0;32m      8\u001b[0m \u001b[1;32mdef\u001b[0m \u001b[0mloaddata\u001b[0m\u001b[1;33m(\u001b[0m\u001b[0mrecordname\u001b[0m\u001b[1;33m,\u001b[0m \u001b[0mannot\u001b[0m\u001b[1;33m)\u001b[0m\u001b[1;33m:\u001b[0m\u001b[1;33m\u001b[0m\u001b[0m\n\u001b[1;32m----> 9\u001b[1;33m     \u001b[1;32mwith\u001b[0m \u001b[0mopen\u001b[0m\u001b[1;33m(\u001b[0m\u001b[0mrecordname\u001b[0m \u001b[1;33m+\u001b[0m \u001b[1;34m'.'\u001b[0m \u001b[1;33m+\u001b[0m \u001b[0mannot\u001b[0m\u001b[1;33m,\u001b[0m \u001b[1;34m'rb'\u001b[0m\u001b[1;33m)\u001b[0m \u001b[1;32mas\u001b[0m \u001b[0mf\u001b[0m\u001b[1;33m:\u001b[0m\u001b[1;33m\u001b[0m\u001b[0m\n\u001b[0m\u001b[0;32m     10\u001b[0m         \u001b[0mfilebytes\u001b[0m \u001b[1;33m=\u001b[0m \u001b[0mnp\u001b[0m\u001b[1;33m.\u001b[0m\u001b[0mfromfile\u001b[0m\u001b[1;33m(\u001b[0m\u001b[0mf\u001b[0m\u001b[1;33m,\u001b[0m \u001b[1;34m'<u1'\u001b[0m\u001b[1;33m)\u001b[0m\u001b[1;33m.\u001b[0m\u001b[0mreshape\u001b[0m\u001b[1;33m(\u001b[0m\u001b[1;33m[\u001b[0m\u001b[1;33m-\u001b[0m\u001b[1;36m1\u001b[0m\u001b[1;33m,\u001b[0m \u001b[1;36m2\u001b[0m\u001b[1;33m]\u001b[0m\u001b[1;33m)\u001b[0m\u001b[1;33m\u001b[0m\u001b[0m\n\u001b[0;32m     11\u001b[0m     \u001b[1;32mreturn\u001b[0m \u001b[0mfilebytes\u001b[0m\u001b[1;33m\u001b[0m\u001b[0m\n",
      "\u001b[1;31mIOError\u001b[0m: [Errno 2] No such file or directory: 'sample_data/challenge_training_ann/v774s.jqrs'"
     ]
    }
   ],
   "source": [
    "if __name__ == '__main__': \n",
    "    data_path = 'sample_data/challenge_training_data/'\n",
    "    ann_path = 'sample_data/challenge_training_ann/'\n",
    "    ann_type = 'jqrs'\n",
    "    \n",
    "    confusion_matrix = generate_confusion_matrix(data_path, ann_path, ann_type)\n",
    "    \n",
    "    sensitivity = calc_sensitivity(confusion_matrix)\n",
    "    specificity = calc_specificity(confusion_matrix)\n",
    "    ppv = calc_ppv(confusion_matrix)\n",
    "    f1 = calc_f1(confusion_matrix)\n",
    "    \n",
    "    print \"sensitivity: \", sensitivity\n",
    "    print \"specificity: \", specificity\n",
    "    print \"ppv: \", ppv\n",
    "    print \"f1: \", f1  "
   ]
  },
  {
   "cell_type": "code",
   "execution_count": null,
   "metadata": {
    "collapsed": true
   },
   "outputs": [],
   "source": []
  }
 ],
 "metadata": {
  "kernelspec": {
   "display_name": "Python [Root]",
   "language": "python",
   "name": "Python [Root]"
  },
  "language_info": {
   "codemirror_mode": {
    "name": "ipython",
    "version": 2
   },
   "file_extension": ".py",
   "mimetype": "text/x-python",
   "name": "python",
   "nbconvert_exporter": "python",
   "pygments_lexer": "ipython2",
   "version": "2.7.12"
  }
 },
 "nbformat": 4,
 "nbformat_minor": 0
}
