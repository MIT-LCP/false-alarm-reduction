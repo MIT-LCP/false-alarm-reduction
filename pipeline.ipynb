{
 "cells": [
  {
   "cell_type": "markdown",
   "metadata": {},
   "source": [
    "# Overall pipeline"
   ]
  },
  {
   "cell_type": "code",
   "execution_count": 2,
   "metadata": {
    "collapsed": false
   },
   "outputs": [],
   "source": [
    "from datetime                      import datetime\n",
    "import invalid_sample_detection    as invalid\n",
    "import evaluation                  as evaluate\n",
    "import load_annotations            as annotate\n",
    "import regular_activity            as regular\n",
    "import specific_arrhythmias        as arrhythmia\n",
    "import numpy                       as np\n",
    "import parameters\n",
    "import os\n",
    "import csv\n",
    "import wfdb\n",
    "\n",
    "data_path = 'sample_data/challenge_training_data/'\n",
    "ann_path = 'sample_data/challenge_training_multiann/'\n",
    "ecg_ann_type = 'jqrs'"
   ]
  },
  {
   "cell_type": "markdown",
   "metadata": {},
   "source": [
    "## Classifying arrhythmia alarms"
   ]
  },
  {
   "cell_type": "code",
   "execution_count": 3,
   "metadata": {
    "collapsed": false,
    "scrolled": true
   },
   "outputs": [],
   "source": [
    "# Returns true if alarm is classified as a true alarm\n",
    "def is_classified_true_alarm(data_path, ann_path, sample_name, ecg_ann_type): \n",
    "    sig, fields = wfdb.rdsamp(data_path + sample_name)\n",
    "    alarm_type, is_true_alarm = regular.check_gold_standard_classification(fields)\n",
    "\n",
    "    is_regular = regular.is_sample_regular(data_path, ann_path, sample_name, ecg_ann_type, alarm_type, should_check_nan=False)    \n",
    "    if is_regular: \n",
    "        return is_true_alarm, False\n",
    "    \n",
    "    if alarm_type == \"Asystole\": \n",
    "        arrhythmia_test = arrhythmia.test_asystole\n",
    "    elif alarm_type == \"Bradycardia\": \n",
    "        arrhythmia_test = arrhythmia.test_bradycardia\n",
    "    elif alarm_type == \"Tachycardia\": \n",
    "        arrhythmia_test = arrhythmia.test_tachycardia\n",
    "    elif alarm_type == \"Ventricular_Tachycardia\": \n",
    "        arrhythmia_test = arrhythmia.test_ventricular_tachycardia\n",
    "    elif alarm_type == \"Ventricular_Flutter_Fib\": \n",
    "        arrhythmia_test = arrhythmia.test_ventricular_flutter_fibrillation\n",
    "    else: \n",
    "        raise Exception(\"Unknown arrhythmia alarm type\")\n",
    "    \n",
    "    classified_true_alarm = arrhythmia_test(data_path, ann_path, sample_name, ecg_ann_type)\n",
    "    return is_true_alarm, classified_true_alarm"
   ]
  },
  {
   "cell_type": "code",
   "execution_count": 4,
   "metadata": {
    "collapsed": true
   },
   "outputs": [],
   "source": [
    "# Generate confusion matrix for all samples given sample name/directory\n",
    "def generate_confusion_matrix_dir(data_path, ann_path, ecg_ann_type): \n",
    "    confusion_matrix = {\n",
    "        \"TP\": [],\n",
    "        \"FP\": [],\n",
    "        \"FN\": [],\n",
    "        \"TN\": []\n",
    "    }\n",
    "    \n",
    "    for filename in os.listdir(data_path):\n",
    "        if filename.endswith(parameters.HEADER_EXTENSION):\n",
    "            sample_name = filename.rstrip(parameters.HEADER_EXTENSION)\n",
    "            \n",
    "            is_true_alarm, classified_true_alarm = is_classified_true_alarm(data_path, ann_path,\n",
    "                                                                            sample_name, ecg_ann_type)\n",
    "\n",
    "            if is_true_alarm and classified_true_alarm: \n",
    "                confusion_matrix[\"TP\"].append(sample_name)\n",
    "                \n",
    "            elif is_true_alarm and not classified_true_alarm: \n",
    "                confusion_matrix[\"FN\"].append(sample_name)\n",
    "                print \"FALSE NEGATIVE: \", filename\n",
    "                \n",
    "            elif not is_true_alarm and classified_true_alarm: \n",
    "                confusion_matrix[\"FP\"].append(sample_name)\n",
    "                \n",
    "            else: \n",
    "                confusion_matrix[\"TN\"].append(sample_name)\n",
    "                \n",
    "    counts = { key : len(confusion_matrix[key]) for key in confusion_matrix.keys() }\n",
    "                \n",
    "    return counts, confusion_matrix"
   ]
  },
  {
   "cell_type": "code",
   "execution_count": 5,
   "metadata": {
    "collapsed": true
   },
   "outputs": [],
   "source": [
    "def print_by_type(false_negatives): \n",
    "    counts_by_type = {}\n",
    "    for false_negative in false_negatives: \n",
    "        first = false_negative[0] \n",
    "        if first not in counts_by_type.keys(): \n",
    "            counts_by_type[first] = 0\n",
    "        counts_by_type[first] += 1\n",
    "\n",
    "    print counts_by_type"
   ]
  },
  {
   "cell_type": "code",
   "execution_count": null,
   "metadata": {
    "collapsed": false,
    "scrolled": true
   },
   "outputs": [],
   "source": [
    "if __name__ == '__main__': \n",
    "#     start = datetime.now() \n",
    "#     counts_jqrs, confusion_matrix_jqrs = generate_confusion_matrix_dir(data_path, ann_path, 'jqrs')\n",
    "#     print \"total time: \", datetime.now() - start\n",
    "    \n",
    "#     evaluate.print_stats(counts_jqrs)\n",
    "#     print_by_type(confusion_matrix_jqrs['FN'])\n",
    "\n",
    "    start = datetime.now() \n",
    "    counts_gqrs, confusion_matrix_gqrs = generate_confusion_matrix_dir(data_path, ann_path, 'gqrs')\n",
    "    print \"total time: \", datetime.now() - start\n",
    "\n",
    "    evaluate.print_stats(counts_gqrs)\n",
    "    print_by_type(confusion_matrix_gqrs['FN'])"
   ]
  },
  {
   "cell_type": "markdown",
   "metadata": {},
   "source": [
    "## Comparing classification with other algorithms"
   ]
  },
  {
   "cell_type": "code",
   "execution_count": 9,
   "metadata": {
    "collapsed": false
   },
   "outputs": [
    {
     "name": "stdout",
     "output_type": "stream",
     "text": [
      "['l.m.eerikainen-209', 'vxk106120-213', 'sibylle.fallet-210', 'hoog.antink-216', 'fplesinger-210', 'bestcly-204', 'bellea-212']\n"
     ]
    }
   ],
   "source": [
    "def compare_algorithms(filename):\n",
    "    with open(filename, \"r\") as f: \n",
    "        reader = csv.DictReader(f)\n",
    "        authors = reader.fieldnames[1:]\n",
    "        for row in reader: \n",
    "            sample_name = row[\"record name\"]\n",
    "            is_true_alarm, classified_true_alarm = is_classified_true_alarm(data_path, ann_path,\n",
    "                                                                            sample_name, ecg_ann_type)\n",
    "            \n",
    "\n",
    "compare_algorithms(\"sample_data/answers.csv\")"
   ]
  },
  {
   "cell_type": "code",
   "execution_count": null,
   "metadata": {
    "collapsed": true
   },
   "outputs": [],
   "source": [
    "def generate_others_confusion_matrix(filename): \n",
    "    others_confusion_matrix = {}\n",
    "    \n",
    "    with open(filename, \"r\") as f: \n",
    "        reader = csv.DictReader(f)\n",
    "        authors = reader.fieldnames[1:]\n",
    "        for author in authors: \n",
    "            others_confusion_matrix[author] = { \"TP\": [], \"FP\": [], \"FN\": [], \"TN\": [] }\n",
    "            \n",
    "        for line in reader: \n",
    "            sample_name = line['record name']"
   ]
  }
 ],
 "metadata": {
  "kernelspec": {
   "display_name": "Python [Root]",
   "language": "python",
   "name": "Python [Root]"
  },
  "language_info": {
   "codemirror_mode": {
    "name": "ipython",
    "version": 2
   },
   "file_extension": ".py",
   "mimetype": "text/x-python",
   "name": "python",
   "nbconvert_exporter": "python",
   "pygments_lexer": "ipython2",
   "version": "2.7.12"
  }
 },
 "nbformat": 4,
 "nbformat_minor": 0
}
