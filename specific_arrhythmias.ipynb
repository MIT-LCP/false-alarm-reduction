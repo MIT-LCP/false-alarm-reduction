{
 "cells": [
  {
   "cell_type": "markdown",
   "metadata": {},
   "source": [
    "# Specific arrhythmia tests"
   ]
  },
  {
   "cell_type": "code",
   "execution_count": 4,
   "metadata": {
    "collapsed": false
   },
   "outputs": [],
   "source": [
    "import invalid_sample_detection    as invalid\n",
    "import load_annotations            as annotate\n",
    "import parameters\n",
    "import wfdb"
   ]
  },
  {
   "cell_type": "markdown",
   "metadata": {},
   "source": [
    "## Asystole"
   ]
  },
  {
   "cell_type": "code",
   "execution_count": 6,
   "metadata": {
    "collapsed": true
   },
   "outputs": [],
   "source": [
    "def calc_channel_asystole_score(ann_path, sample_name, ann_type, ann_fs, channel_start, channel_end): \n",
    "    current_start = channel_start\n",
    "    current_end = current_start + parameters.ASYSTOLE_WINDOW_SIZE\n",
    "    \n",
    "    while current_end < channel_end: \n",
    "        \n",
    "        annotation = wfdb.rdann(ann_path + sample_name, ann_type, sampfrom=current_start*ann_fs, sampto=current_end*ann_fs)\n",
    "        \n",
    "        if len(annotation[0]) > 0: \n",
    "            current_score = -1\n",
    "        else: \n",
    "            current_score = 1\n",
    "        \n",
    "        current_start += parameters.ASYSTOLE_ROLLING_INCREMENT\n",
    "        current_end = current_start + parameters.ASYSTOLE_WINDOW_SIZE\n",
    "    \n",
    "    "
   ]
  },
  {
   "cell_type": "code",
   "execution_count": 5,
   "metadata": {
    "collapsed": false
   },
   "outputs": [
    {
     "name": "stdout",
     "output_type": "stream",
     "text": [
      "{'initvalue': [-600, -322, 2177, 3401], 'fs': 250.0, 'basetime': '', 'nsig': 4, 'signame': ['II', 'V', 'PLETH', 'ABP'], 'nseg': 1, 'fmt': ['16', '16', '16', '16'], 'nsamp': 82500, 'comments': ['Asystole', 'False alarm'], 'filename': ['a555l.mat', 'a555l.mat', 'a555l.mat', 'a555l.mat'], 'nsampseg': [], 'sampsperframe': [1, 1, 1, 1], 'byteoffset': [24, 24, 24, 24], 'units': ['mV', 'mV', 'NU', 'mmHg'], 'baseline': [0, 0, 0, 0], 'basedate': '', 'skew': [0, 0, 0, 0], 'gain': [5594.0, 8146.0, 1466.0, 45.12]}\n"
     ]
    }
   ],
   "source": [
    "def test_asystole(data_path, ann_path, sample_name): \n",
    "    sig, fields = wfdb.rdsamp(data_path + sample_name)\n",
    "    \n",
    "    # Start and end given in seconds\n",
    "    start, end, alarm_duration = invalid.get_start_and_end(fields)\n",
    "    \n",
    "    \n",
    "data_path = 'sample_data/challenge_training_data/'\n",
    "ann_path = 'sample_data/challenge_training_multiann/'\n",
    "test_asystole(data_path, ann_path, \"a555l\")"
   ]
  },
  {
   "cell_type": "code",
   "execution_count": null,
   "metadata": {
    "collapsed": true
   },
   "outputs": [],
   "source": []
  }
 ],
 "metadata": {
  "kernelspec": {
   "display_name": "Python [Root]",
   "language": "python",
   "name": "Python [Root]"
  },
  "language_info": {
   "codemirror_mode": {
    "name": "ipython",
    "version": 2
   },
   "file_extension": ".py",
   "mimetype": "text/x-python",
   "name": "python",
   "nbconvert_exporter": "python",
   "pygments_lexer": "ipython2",
   "version": "2.7.12"
  }
 },
 "nbformat": 4,
 "nbformat_minor": 0
}
